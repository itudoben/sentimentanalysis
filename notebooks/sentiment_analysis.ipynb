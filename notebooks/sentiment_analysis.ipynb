{
 "cells": [
  {
   "cell_type": "markdown",
   "metadata": {},
   "source": [
    "# Latent Semantic Analysis of a corpus"
   ]
  },
  {
   "cell_type": "markdown",
   "metadata": {},
   "source": [
    "# Simple Example"
   ]
  },
  {
   "cell_type": "code",
   "execution_count": 1,
   "metadata": {},
   "outputs": [
    {
     "data": {
      "text/plain": [
       "'sample text'"
      ]
     },
     "execution_count": 1,
     "metadata": {},
     "output_type": "execute_result"
    }
   ],
   "source": [
    "noise_list = [\"is\", \"a\", \"this\", \"...\"] \n",
    "def _remove_noise(input_text):\n",
    "    words = input_text.split() \n",
    "    noise_free_words = [word for word in words if word not in noise_list] \n",
    "    noise_free_text = \" \".join(noise_free_words) \n",
    "    return noise_free_text\n",
    "\n",
    "_remove_noise(\"this is a sample text\")"
   ]
  },
  {
   "cell_type": "markdown",
   "metadata": {},
   "source": [
    "# Base path for the ACL IMDB data set"
   ]
  },
  {
   "cell_type": "code",
   "execution_count": 2,
   "metadata": {},
   "outputs": [],
   "source": [
    "# Load all the reviews into data frames.\n",
    "base_path = \"/Users/hujol/Projects/advanced_analytics_spark/data/aclImdb/\""
   ]
  },
  {
   "cell_type": "markdown",
   "metadata": {},
   "source": [
    "# Loading the files into a data frame"
   ]
  },
  {
   "cell_type": "code",
   "execution_count": 3,
   "metadata": {},
   "outputs": [],
   "source": [
    "import re\n",
    "from datetime import datetime\n",
    "from pathlib import Path\n",
    "import shutil\n",
    "\n",
    "# RegEx for extracting file information.\n",
    "prog = re.compile('(.*)_(.*)\\.txt')\n",
    "\n",
    "# Labels.\n",
    "labels = { 'pos': 1, 'neg':0}\n",
    "\n",
    "# Here for the sake of short testing without loading the whole data in Spark.\n",
    "ttl = 100000 # 50000\n",
    "ttl_h = ttl / 2\n",
    "\n",
    "# Try to get half of positives and negatives from ttl since my pc cannot load the total 55K reviews!\n",
    "ttl_positives = 0\n",
    "ttl_negatives = 0\n",
    "\n",
    "cnt = 0\n",
    "\n",
    "# Features description.\n",
    "features = ['datasettype', 'filename', 'datetimecreated', 'reviewid', 'reviewpolarity', 'reviewrating', 'text']\n",
    "\n",
    "# The context.\n",
    "sc = spark.sparkContext\n",
    "\n",
    "# The complete data frame built from all the files.\n",
    "df = None\n",
    "\n",
    "# Keep track of when the data set was built.\n",
    "utcdate = datetime.utcnow().strftime(\"%Y%m%dT%H%M%SZ\")\n",
    "\n",
    "entries = []\n",
    "\n",
    "# Find all review files.\n",
    "for set_name in ('test', 'train'):\n",
    "    for sa_name in ('neg', 'pos'):\n",
    "        dir_path = os.path.join(base_path, set_name, sa_name)\n",
    "        \n",
    "        polarity = labels[sa_name]\n",
    "        \n",
    "        if ('neg' == sa_name and ttl_negatives > ttl_h): break;\n",
    "        \n",
    "        if ('pos' == sa_name and ttl_positives > ttl_h): break;\n",
    "        \n",
    "        # Load each review file.\n",
    "        for file in os.listdir(dir_path):\n",
    "            # Extract the ID and the rating of the review from the file name.\n",
    "            m = prog.match(file)\n",
    "            id = int(m.group(1))\n",
    "            rating = int(m.group(2))\n",
    "            \n",
    "            # Read in the review.\n",
    "            with open(os.path.join(dir_path, file), 'r', encoding='utf-8') as infile:\n",
    "                txt = infile.read()\n",
    "                \n",
    "            # Prepare the entry\n",
    "            entry = [set_name, file, utcdate, id, int(polarity), int(rating), txt]\n",
    "            entries.append(entry)\n",
    "        \n",
    "            # Loop checking.\n",
    "            cnt += 1\n",
    "            if (cnt == ttl): break\n",
    "\n",
    "            if ('neg' == sa_name): ttl_negatives += 1\n",
    "            if ('neg' == sa_name and ttl_negatives > ttl_h): break;\n",
    "\n",
    "            if ('pos' == sa_name): ttl_positives += 1\n",
    "            if ('pos' == sa_name and ttl_positives > ttl_h): break;\n",
    "                \n",
    "        if (cnt == ttl): break\n",
    "    if (cnt == ttl): break\n",
    "\n",
    "# Process the entries.\n",
    "sa_rdd = sc.parallelize(entries)\n",
    "df = sa_rdd.toDF(features)\n",
    "        \n",
    "# Store the DF in parquet format.\n",
    "file_pqt = os.path.join(base_path, (\"aclImdb_%s_raw.parquet\" % ttl))\n",
    "\n",
    "# If the parquet directory exists, remove it.\n",
    "if Path(file_pqt).is_dir():\n",
    "    shutil.rmtree(file_pqt)\n",
    "\n",
    "df.write.parquet(file_pqt)"
   ]
  },
  {
   "cell_type": "markdown",
   "metadata": {},
   "source": [
    "# Store as CVS"
   ]
  },
  {
   "cell_type": "code",
   "execution_count": 4,
   "metadata": {},
   "outputs": [],
   "source": [
    "import numpy as np\n",
    "\n",
    "# Define the CSV file.\n",
    "file_csv = os.path.join(base_path, (\"aclImdb_%s.csv\" % ttl))\n",
    "\n",
    "# Get the data as Pandas data frame.\n",
    "pdf = df.toPandas()\n",
    "\n",
    "# Re index to shuffle the data before saving it.\n",
    "pdf = pdf.reindex(np.random.permutation(pdf.index))\n",
    "pdf.to_csv(file_csv, index=False, encoding='utf-8')"
   ]
  },
  {
   "cell_type": "markdown",
   "metadata": {},
   "source": [
    "# Load the CSV file for checking data is stored"
   ]
  },
  {
   "cell_type": "code",
   "execution_count": 5,
   "metadata": {},
   "outputs": [
    {
     "data": {
      "text/html": [
       "<div>\n",
       "<style scoped>\n",
       "    .dataframe tbody tr th:only-of-type {\n",
       "        vertical-align: middle;\n",
       "    }\n",
       "\n",
       "    .dataframe tbody tr th {\n",
       "        vertical-align: top;\n",
       "    }\n",
       "\n",
       "    .dataframe thead th {\n",
       "        text-align: right;\n",
       "    }\n",
       "</style>\n",
       "<table border=\"1\" class=\"dataframe\">\n",
       "  <thead>\n",
       "    <tr style=\"text-align: right;\">\n",
       "      <th></th>\n",
       "      <th>datasettype</th>\n",
       "      <th>filename</th>\n",
       "      <th>datetimecreated</th>\n",
       "      <th>reviewid</th>\n",
       "      <th>reviewpolarity</th>\n",
       "      <th>reviewrating</th>\n",
       "      <th>text</th>\n",
       "    </tr>\n",
       "  </thead>\n",
       "  <tbody>\n",
       "    <tr>\n",
       "      <th>0</th>\n",
       "      <td>test</td>\n",
       "      <td>1821_4.txt</td>\n",
       "      <td>20181022T092721Z</td>\n",
       "      <td>1821</td>\n",
       "      <td>0</td>\n",
       "      <td>4</td>\n",
       "      <td>Alan Rickman &amp; Emma Thompson give good perform...</td>\n",
       "    </tr>\n",
       "    <tr>\n",
       "      <th>1</th>\n",
       "      <td>test</td>\n",
       "      <td>9487_1.txt</td>\n",
       "      <td>20181022T092721Z</td>\n",
       "      <td>9487</td>\n",
       "      <td>0</td>\n",
       "      <td>1</td>\n",
       "      <td>I have seen this movie and I did not care for ...</td>\n",
       "    </tr>\n",
       "    <tr>\n",
       "      <th>2</th>\n",
       "      <td>test</td>\n",
       "      <td>4604_4.txt</td>\n",
       "      <td>20181022T092721Z</td>\n",
       "      <td>4604</td>\n",
       "      <td>0</td>\n",
       "      <td>4</td>\n",
       "      <td>In Los Angeles, the alcoholic and lazy Hank Ch...</td>\n",
       "    </tr>\n",
       "    <tr>\n",
       "      <th>3</th>\n",
       "      <td>test</td>\n",
       "      <td>2828_2.txt</td>\n",
       "      <td>20181022T092721Z</td>\n",
       "      <td>2828</td>\n",
       "      <td>0</td>\n",
       "      <td>2</td>\n",
       "      <td>This film is bundled along with \"Gli fumavano ...</td>\n",
       "    </tr>\n",
       "    <tr>\n",
       "      <th>4</th>\n",
       "      <td>test</td>\n",
       "      <td>10890_1.txt</td>\n",
       "      <td>20181022T092721Z</td>\n",
       "      <td>10890</td>\n",
       "      <td>0</td>\n",
       "      <td>1</td>\n",
       "      <td>I only comment on really very good films and o...</td>\n",
       "    </tr>\n",
       "    <tr>\n",
       "      <th>5</th>\n",
       "      <td>test</td>\n",
       "      <td>3351_4.txt</td>\n",
       "      <td>20181022T092721Z</td>\n",
       "      <td>3351</td>\n",
       "      <td>0</td>\n",
       "      <td>4</td>\n",
       "      <td>When you look at the cover and read stuff abou...</td>\n",
       "    </tr>\n",
       "    <tr>\n",
       "      <th>6</th>\n",
       "      <td>test</td>\n",
       "      <td>8070_2.txt</td>\n",
       "      <td>20181022T092721Z</td>\n",
       "      <td>8070</td>\n",
       "      <td>0</td>\n",
       "      <td>2</td>\n",
       "      <td>Rollerskating vampires?! I'm sorry but even fo...</td>\n",
       "    </tr>\n",
       "    <tr>\n",
       "      <th>7</th>\n",
       "      <td>test</td>\n",
       "      <td>1027_4.txt</td>\n",
       "      <td>20181022T092721Z</td>\n",
       "      <td>1027</td>\n",
       "      <td>0</td>\n",
       "      <td>4</td>\n",
       "      <td>Technically abominable (with audible \"pops\" be...</td>\n",
       "    </tr>\n",
       "    <tr>\n",
       "      <th>8</th>\n",
       "      <td>test</td>\n",
       "      <td>8248_3.txt</td>\n",
       "      <td>20181022T092721Z</td>\n",
       "      <td>8248</td>\n",
       "      <td>0</td>\n",
       "      <td>3</td>\n",
       "      <td>When Hollywood is trying to grasp what an \"int...</td>\n",
       "    </tr>\n",
       "    <tr>\n",
       "      <th>9</th>\n",
       "      <td>test</td>\n",
       "      <td>4290_4.txt</td>\n",
       "      <td>20181022T092721Z</td>\n",
       "      <td>4290</td>\n",
       "      <td>0</td>\n",
       "      <td>4</td>\n",
       "      <td>Respected western auteur Budd Boetticher is wo...</td>\n",
       "    </tr>\n",
       "    <tr>\n",
       "      <th>10</th>\n",
       "      <td>test</td>\n",
       "      <td>10096_1.txt</td>\n",
       "      <td>20181022T092721Z</td>\n",
       "      <td>10096</td>\n",
       "      <td>0</td>\n",
       "      <td>1</td>\n",
       "      <td>Worst movie ever seen. Worst acting too. I can...</td>\n",
       "    </tr>\n",
       "    <tr>\n",
       "      <th>11</th>\n",
       "      <td>test</td>\n",
       "      <td>11890_1.txt</td>\n",
       "      <td>20181022T092721Z</td>\n",
       "      <td>11890</td>\n",
       "      <td>0</td>\n",
       "      <td>1</td>\n",
       "      <td>I was forced to watch this film for my World R...</td>\n",
       "    </tr>\n",
       "    <tr>\n",
       "      <th>12</th>\n",
       "      <td>test</td>\n",
       "      <td>2008_1.txt</td>\n",
       "      <td>20181022T092721Z</td>\n",
       "      <td>2008</td>\n",
       "      <td>0</td>\n",
       "      <td>1</td>\n",
       "      <td>Well it is about 1,000 years in the future and...</td>\n",
       "    </tr>\n",
       "    <tr>\n",
       "      <th>13</th>\n",
       "      <td>test</td>\n",
       "      <td>472_4.txt</td>\n",
       "      <td>20181022T092721Z</td>\n",
       "      <td>472</td>\n",
       "      <td>0</td>\n",
       "      <td>4</td>\n",
       "      <td>Man with the Screaming Brain is a story of gre...</td>\n",
       "    </tr>\n",
       "    <tr>\n",
       "      <th>14</th>\n",
       "      <td>test</td>\n",
       "      <td>9876_2.txt</td>\n",
       "      <td>20181022T092721Z</td>\n",
       "      <td>9876</td>\n",
       "      <td>0</td>\n",
       "      <td>2</td>\n",
       "      <td>I never read the book. Now I don't really want...</td>\n",
       "    </tr>\n",
       "    <tr>\n",
       "      <th>15</th>\n",
       "      <td>test</td>\n",
       "      <td>11402_1.txt</td>\n",
       "      <td>20181022T092721Z</td>\n",
       "      <td>11402</td>\n",
       "      <td>0</td>\n",
       "      <td>1</td>\n",
       "      <td>One of the movies i just DIDN'T want to see. I...</td>\n",
       "    </tr>\n",
       "    <tr>\n",
       "      <th>16</th>\n",
       "      <td>test</td>\n",
       "      <td>8487_1.txt</td>\n",
       "      <td>20181022T092721Z</td>\n",
       "      <td>8487</td>\n",
       "      <td>0</td>\n",
       "      <td>1</td>\n",
       "      <td>Well I had the chance to view this film the ot...</td>\n",
       "    </tr>\n",
       "    <tr>\n",
       "      <th>17</th>\n",
       "      <td>test</td>\n",
       "      <td>6648_2.txt</td>\n",
       "      <td>20181022T092721Z</td>\n",
       "      <td>6648</td>\n",
       "      <td>0</td>\n",
       "      <td>2</td>\n",
       "      <td>This is a movie that should have been a mini-s...</td>\n",
       "    </tr>\n",
       "    <tr>\n",
       "      <th>18</th>\n",
       "      <td>test</td>\n",
       "      <td>2780_4.txt</td>\n",
       "      <td>20181022T092721Z</td>\n",
       "      <td>2780</td>\n",
       "      <td>0</td>\n",
       "      <td>4</td>\n",
       "      <td>Dark Harvest is a very low budget production m...</td>\n",
       "    </tr>\n",
       "    <tr>\n",
       "      <th>19</th>\n",
       "      <td>test</td>\n",
       "      <td>1789_2.txt</td>\n",
       "      <td>20181022T092721Z</td>\n",
       "      <td>1789</td>\n",
       "      <td>0</td>\n",
       "      <td>2</td>\n",
       "      <td>A handful of nubile young college sorority sis...</td>\n",
       "    </tr>\n",
       "    <tr>\n",
       "      <th>20</th>\n",
       "      <td>test</td>\n",
       "      <td>2351_4.txt</td>\n",
       "      <td>20181022T092721Z</td>\n",
       "      <td>2351</td>\n",
       "      <td>0</td>\n",
       "      <td>4</td>\n",
       "      <td>Subspecies is set in Romania where two America...</td>\n",
       "    </tr>\n",
       "    <tr>\n",
       "      <th>21</th>\n",
       "      <td>test</td>\n",
       "      <td>11447_1.txt</td>\n",
       "      <td>20181022T092721Z</td>\n",
       "      <td>11447</td>\n",
       "      <td>0</td>\n",
       "      <td>1</td>\n",
       "      <td>Aaran is one of the movies where you find the ...</td>\n",
       "    </tr>\n",
       "    <tr>\n",
       "      <th>22</th>\n",
       "      <td>test</td>\n",
       "      <td>12383_2.txt</td>\n",
       "      <td>20181022T092721Z</td>\n",
       "      <td>12383</td>\n",
       "      <td>0</td>\n",
       "      <td>2</td>\n",
       "      <td>This is almost Ed Wood territory. Yeah, that r...</td>\n",
       "    </tr>\n",
       "    <tr>\n",
       "      <th>23</th>\n",
       "      <td>test</td>\n",
       "      <td>2760_1.txt</td>\n",
       "      <td>20181022T092721Z</td>\n",
       "      <td>2760</td>\n",
       "      <td>0</td>\n",
       "      <td>1</td>\n",
       "      <td>I was forced to read this sappy \"love story\" b...</td>\n",
       "    </tr>\n",
       "    <tr>\n",
       "      <th>24</th>\n",
       "      <td>test</td>\n",
       "      <td>10131_3.txt</td>\n",
       "      <td>20181022T092721Z</td>\n",
       "      <td>10131</td>\n",
       "      <td>0</td>\n",
       "      <td>3</td>\n",
       "      <td>THE AFFAIR is a very bad TV movie from the 197...</td>\n",
       "    </tr>\n",
       "    <tr>\n",
       "      <th>25</th>\n",
       "      <td>test</td>\n",
       "      <td>5270_1.txt</td>\n",
       "      <td>20181022T092721Z</td>\n",
       "      <td>5270</td>\n",
       "      <td>0</td>\n",
       "      <td>1</td>\n",
       "      <td>After the general, a film that romanticized th...</td>\n",
       "    </tr>\n",
       "    <tr>\n",
       "      <th>26</th>\n",
       "      <td>test</td>\n",
       "      <td>6165_2.txt</td>\n",
       "      <td>20181022T092721Z</td>\n",
       "      <td>6165</td>\n",
       "      <td>0</td>\n",
       "      <td>2</td>\n",
       "      <td>I'm sorry guys, all who thought this film coul...</td>\n",
       "    </tr>\n",
       "    <tr>\n",
       "      <th>27</th>\n",
       "      <td>test</td>\n",
       "      <td>9565_3.txt</td>\n",
       "      <td>20181022T092721Z</td>\n",
       "      <td>9565</td>\n",
       "      <td>0</td>\n",
       "      <td>3</td>\n",
       "      <td>I rented this thinking it would be pretty good...</td>\n",
       "    </tr>\n",
       "    <tr>\n",
       "      <th>28</th>\n",
       "      <td>test</td>\n",
       "      <td>3703_2.txt</td>\n",
       "      <td>20181022T092721Z</td>\n",
       "      <td>3703</td>\n",
       "      <td>0</td>\n",
       "      <td>2</td>\n",
       "      <td>If it weren't for the editing out of curse wor...</td>\n",
       "    </tr>\n",
       "    <tr>\n",
       "      <th>29</th>\n",
       "      <td>test</td>\n",
       "      <td>10309_2.txt</td>\n",
       "      <td>20181022T092721Z</td>\n",
       "      <td>10309</td>\n",
       "      <td>0</td>\n",
       "      <td>2</td>\n",
       "      <td>Don't worry when looking at the cover of the D...</td>\n",
       "    </tr>\n",
       "    <tr>\n",
       "      <th>...</th>\n",
       "      <td>...</td>\n",
       "      <td>...</td>\n",
       "      <td>...</td>\n",
       "      <td>...</td>\n",
       "      <td>...</td>\n",
       "      <td>...</td>\n",
       "      <td>...</td>\n",
       "    </tr>\n",
       "    <tr>\n",
       "      <th>49970</th>\n",
       "      <td>train</td>\n",
       "      <td>3644_8.txt</td>\n",
       "      <td>20181022T092721Z</td>\n",
       "      <td>3644</td>\n",
       "      <td>1</td>\n",
       "      <td>8</td>\n",
       "      <td>The Rookie is based on the true story of a 40+...</td>\n",
       "    </tr>\n",
       "    <tr>\n",
       "      <th>49971</th>\n",
       "      <td>train</td>\n",
       "      <td>9422_9.txt</td>\n",
       "      <td>20181022T092721Z</td>\n",
       "      <td>9422</td>\n",
       "      <td>1</td>\n",
       "      <td>9</td>\n",
       "      <td>When I learned of Sir Alec Guinness' death, th...</td>\n",
       "    </tr>\n",
       "    <tr>\n",
       "      <th>49972</th>\n",
       "      <td>train</td>\n",
       "      <td>10076_9.txt</td>\n",
       "      <td>20181022T092721Z</td>\n",
       "      <td>10076</td>\n",
       "      <td>1</td>\n",
       "      <td>9</td>\n",
       "      <td>Beautiful and touching movie. Rich colors, gre...</td>\n",
       "    </tr>\n",
       "    <tr>\n",
       "      <th>49973</th>\n",
       "      <td>train</td>\n",
       "      <td>9912_10.txt</td>\n",
       "      <td>20181022T092721Z</td>\n",
       "      <td>9912</td>\n",
       "      <td>1</td>\n",
       "      <td>10</td>\n",
       "      <td>Absolutely wonderful drama and Ros is top notc...</td>\n",
       "    </tr>\n",
       "    <tr>\n",
       "      <th>49974</th>\n",
       "      <td>train</td>\n",
       "      <td>5818_7.txt</td>\n",
       "      <td>20181022T092721Z</td>\n",
       "      <td>5818</td>\n",
       "      <td>1</td>\n",
       "      <td>7</td>\n",
       "      <td>Actually this movie has silly moments, both in...</td>\n",
       "    </tr>\n",
       "    <tr>\n",
       "      <th>49975</th>\n",
       "      <td>train</td>\n",
       "      <td>5178_10.txt</td>\n",
       "      <td>20181022T092721Z</td>\n",
       "      <td>5178</td>\n",
       "      <td>1</td>\n",
       "      <td>10</td>\n",
       "      <td>Before Tuscan Sky, I saw Diane Lane's tender p...</td>\n",
       "    </tr>\n",
       "    <tr>\n",
       "      <th>49976</th>\n",
       "      <td>train</td>\n",
       "      <td>12147_10.txt</td>\n",
       "      <td>20181022T092721Z</td>\n",
       "      <td>12147</td>\n",
       "      <td>1</td>\n",
       "      <td>10</td>\n",
       "      <td>Return To The 3th Chamber is the comedic seque...</td>\n",
       "    </tr>\n",
       "    <tr>\n",
       "      <th>49977</th>\n",
       "      <td>train</td>\n",
       "      <td>5629_10.txt</td>\n",
       "      <td>20181022T092721Z</td>\n",
       "      <td>5629</td>\n",
       "      <td>1</td>\n",
       "      <td>10</td>\n",
       "      <td>I loved this excellent movie. Farrah Fawcett p...</td>\n",
       "    </tr>\n",
       "    <tr>\n",
       "      <th>49978</th>\n",
       "      <td>train</td>\n",
       "      <td>3439_9.txt</td>\n",
       "      <td>20181022T092721Z</td>\n",
       "      <td>3439</td>\n",
       "      <td>1</td>\n",
       "      <td>9</td>\n",
       "      <td>\"Descent.\" Yeah. Boy... I haven't seen anythin...</td>\n",
       "    </tr>\n",
       "    <tr>\n",
       "      <th>49979</th>\n",
       "      <td>train</td>\n",
       "      <td>7892_7.txt</td>\n",
       "      <td>20181022T092721Z</td>\n",
       "      <td>7892</td>\n",
       "      <td>1</td>\n",
       "      <td>7</td>\n",
       "      <td>FREDDY has gone from scary to funny,in this 6t...</td>\n",
       "    </tr>\n",
       "    <tr>\n",
       "      <th>49980</th>\n",
       "      <td>train</td>\n",
       "      <td>992_7.txt</td>\n",
       "      <td>20181022T092721Z</td>\n",
       "      <td>992</td>\n",
       "      <td>1</td>\n",
       "      <td>7</td>\n",
       "      <td>I had no expectations; I'd never heard of Jami...</td>\n",
       "    </tr>\n",
       "    <tr>\n",
       "      <th>49981</th>\n",
       "      <td>train</td>\n",
       "      <td>9156_10.txt</td>\n",
       "      <td>20181022T092721Z</td>\n",
       "      <td>9156</td>\n",
       "      <td>1</td>\n",
       "      <td>10</td>\n",
       "      <td>I think this movie had to be fun to make it, f...</td>\n",
       "    </tr>\n",
       "    <tr>\n",
       "      <th>49982</th>\n",
       "      <td>train</td>\n",
       "      <td>6383_10.txt</td>\n",
       "      <td>20181022T092721Z</td>\n",
       "      <td>6383</td>\n",
       "      <td>1</td>\n",
       "      <td>10</td>\n",
       "      <td>I thought that this film was very enjoyable. I...</td>\n",
       "    </tr>\n",
       "    <tr>\n",
       "      <th>49983</th>\n",
       "      <td>train</td>\n",
       "      <td>9974_8.txt</td>\n",
       "      <td>20181022T092721Z</td>\n",
       "      <td>9974</td>\n",
       "      <td>1</td>\n",
       "      <td>8</td>\n",
       "      <td>Sure this was a remake of a 70's film, but it ...</td>\n",
       "    </tr>\n",
       "    <tr>\n",
       "      <th>49984</th>\n",
       "      <td>train</td>\n",
       "      <td>4641_9.txt</td>\n",
       "      <td>20181022T092721Z</td>\n",
       "      <td>4641</td>\n",
       "      <td>1</td>\n",
       "      <td>9</td>\n",
       "      <td>Eytan Fox did it again : move the viewer's hea...</td>\n",
       "    </tr>\n",
       "    <tr>\n",
       "      <th>49985</th>\n",
       "      <td>train</td>\n",
       "      <td>7445_7.txt</td>\n",
       "      <td>20181022T092721Z</td>\n",
       "      <td>7445</td>\n",
       "      <td>1</td>\n",
       "      <td>7</td>\n",
       "      <td>It's highly stylized, but this movie shows tha...</td>\n",
       "    </tr>\n",
       "    <tr>\n",
       "      <th>49986</th>\n",
       "      <td>train</td>\n",
       "      <td>4479_8.txt</td>\n",
       "      <td>20181022T092721Z</td>\n",
       "      <td>4479</td>\n",
       "      <td>1</td>\n",
       "      <td>8</td>\n",
       "      <td>Since I first saw Anchors Aweigh in 1945, view...</td>\n",
       "    </tr>\n",
       "    <tr>\n",
       "      <th>49987</th>\n",
       "      <td>train</td>\n",
       "      <td>6665_10.txt</td>\n",
       "      <td>20181022T092721Z</td>\n",
       "      <td>6665</td>\n",
       "      <td>1</td>\n",
       "      <td>10</td>\n",
       "      <td>This is an very good movie. This is one that I...</td>\n",
       "    </tr>\n",
       "    <tr>\n",
       "      <th>49988</th>\n",
       "      <td>train</td>\n",
       "      <td>5733_7.txt</td>\n",
       "      <td>20181022T092721Z</td>\n",
       "      <td>5733</td>\n",
       "      <td>1</td>\n",
       "      <td>7</td>\n",
       "      <td>I'm gonna tip the scales here a bit and say I ...</td>\n",
       "    </tr>\n",
       "    <tr>\n",
       "      <th>49989</th>\n",
       "      <td>train</td>\n",
       "      <td>7352_10.txt</td>\n",
       "      <td>20181022T092721Z</td>\n",
       "      <td>7352</td>\n",
       "      <td>1</td>\n",
       "      <td>10</td>\n",
       "      <td>This was my first introduction to the world of...</td>\n",
       "    </tr>\n",
       "    <tr>\n",
       "      <th>49990</th>\n",
       "      <td>train</td>\n",
       "      <td>3169_8.txt</td>\n",
       "      <td>20181022T092721Z</td>\n",
       "      <td>3169</td>\n",
       "      <td>1</td>\n",
       "      <td>8</td>\n",
       "      <td>I rented this some years ago, the video store ...</td>\n",
       "    </tr>\n",
       "    <tr>\n",
       "      <th>49991</th>\n",
       "      <td>train</td>\n",
       "      <td>4290_9.txt</td>\n",
       "      <td>20181022T092721Z</td>\n",
       "      <td>4290</td>\n",
       "      <td>1</td>\n",
       "      <td>9</td>\n",
       "      <td>I think Charlotte Gainsbourg is one of the bes...</td>\n",
       "    </tr>\n",
       "    <tr>\n",
       "      <th>49992</th>\n",
       "      <td>train</td>\n",
       "      <td>3266_7.txt</td>\n",
       "      <td>20181022T092721Z</td>\n",
       "      <td>3266</td>\n",
       "      <td>1</td>\n",
       "      <td>7</td>\n",
       "      <td>Another Downey must-see! If you are an obsesse...</td>\n",
       "    </tr>\n",
       "    <tr>\n",
       "      <th>49993</th>\n",
       "      <td>train</td>\n",
       "      <td>8561_10.txt</td>\n",
       "      <td>20181022T092721Z</td>\n",
       "      <td>8561</td>\n",
       "      <td>1</td>\n",
       "      <td>10</td>\n",
       "      <td>When two writers make a screenplay of a horror...</td>\n",
       "    </tr>\n",
       "    <tr>\n",
       "      <th>49994</th>\n",
       "      <td>train</td>\n",
       "      <td>8230_10.txt</td>\n",
       "      <td>20181022T092721Z</td>\n",
       "      <td>8230</td>\n",
       "      <td>1</td>\n",
       "      <td>10</td>\n",
       "      <td>Eglimata (= Crimes) is a story about little cr...</td>\n",
       "    </tr>\n",
       "    <tr>\n",
       "      <th>49995</th>\n",
       "      <td>train</td>\n",
       "      <td>9707_10.txt</td>\n",
       "      <td>20181022T092721Z</td>\n",
       "      <td>9707</td>\n",
       "      <td>1</td>\n",
       "      <td>10</td>\n",
       "      <td>About a year ago I finally gave up on American...</td>\n",
       "    </tr>\n",
       "    <tr>\n",
       "      <th>49996</th>\n",
       "      <td>train</td>\n",
       "      <td>35_8.txt</td>\n",
       "      <td>20181022T092721Z</td>\n",
       "      <td>35</td>\n",
       "      <td>1</td>\n",
       "      <td>8</td>\n",
       "      <td>When I saw the elaborate DVD box for this and ...</td>\n",
       "    </tr>\n",
       "    <tr>\n",
       "      <th>49997</th>\n",
       "      <td>train</td>\n",
       "      <td>6034_10.txt</td>\n",
       "      <td>20181022T092721Z</td>\n",
       "      <td>6034</td>\n",
       "      <td>1</td>\n",
       "      <td>10</td>\n",
       "      <td>Last November, I had a chance to see this film...</td>\n",
       "    </tr>\n",
       "    <tr>\n",
       "      <th>49998</th>\n",
       "      <td>train</td>\n",
       "      <td>2780_9.txt</td>\n",
       "      <td>20181022T092721Z</td>\n",
       "      <td>2780</td>\n",
       "      <td>1</td>\n",
       "      <td>9</td>\n",
       "      <td>Great movie -I loved it. Great editing and use...</td>\n",
       "    </tr>\n",
       "    <tr>\n",
       "      <th>49999</th>\n",
       "      <td>train</td>\n",
       "      <td>437_9.txt</td>\n",
       "      <td>20181022T092721Z</td>\n",
       "      <td>437</td>\n",
       "      <td>1</td>\n",
       "      <td>9</td>\n",
       "      <td>Enchanted April is a tone poem, an impressioni...</td>\n",
       "    </tr>\n",
       "  </tbody>\n",
       "</table>\n",
       "<p>50000 rows × 7 columns</p>\n",
       "</div>"
      ],
      "text/plain": [
       "      datasettype      filename   datetimecreated  reviewid  reviewpolarity  \\\n",
       "0            test    1821_4.txt  20181022T092721Z      1821               0   \n",
       "1            test    9487_1.txt  20181022T092721Z      9487               0   \n",
       "2            test    4604_4.txt  20181022T092721Z      4604               0   \n",
       "3            test    2828_2.txt  20181022T092721Z      2828               0   \n",
       "4            test   10890_1.txt  20181022T092721Z     10890               0   \n",
       "5            test    3351_4.txt  20181022T092721Z      3351               0   \n",
       "6            test    8070_2.txt  20181022T092721Z      8070               0   \n",
       "7            test    1027_4.txt  20181022T092721Z      1027               0   \n",
       "8            test    8248_3.txt  20181022T092721Z      8248               0   \n",
       "9            test    4290_4.txt  20181022T092721Z      4290               0   \n",
       "10           test   10096_1.txt  20181022T092721Z     10096               0   \n",
       "11           test   11890_1.txt  20181022T092721Z     11890               0   \n",
       "12           test    2008_1.txt  20181022T092721Z      2008               0   \n",
       "13           test     472_4.txt  20181022T092721Z       472               0   \n",
       "14           test    9876_2.txt  20181022T092721Z      9876               0   \n",
       "15           test   11402_1.txt  20181022T092721Z     11402               0   \n",
       "16           test    8487_1.txt  20181022T092721Z      8487               0   \n",
       "17           test    6648_2.txt  20181022T092721Z      6648               0   \n",
       "18           test    2780_4.txt  20181022T092721Z      2780               0   \n",
       "19           test    1789_2.txt  20181022T092721Z      1789               0   \n",
       "20           test    2351_4.txt  20181022T092721Z      2351               0   \n",
       "21           test   11447_1.txt  20181022T092721Z     11447               0   \n",
       "22           test   12383_2.txt  20181022T092721Z     12383               0   \n",
       "23           test    2760_1.txt  20181022T092721Z      2760               0   \n",
       "24           test   10131_3.txt  20181022T092721Z     10131               0   \n",
       "25           test    5270_1.txt  20181022T092721Z      5270               0   \n",
       "26           test    6165_2.txt  20181022T092721Z      6165               0   \n",
       "27           test    9565_3.txt  20181022T092721Z      9565               0   \n",
       "28           test    3703_2.txt  20181022T092721Z      3703               0   \n",
       "29           test   10309_2.txt  20181022T092721Z     10309               0   \n",
       "...           ...           ...               ...       ...             ...   \n",
       "49970       train    3644_8.txt  20181022T092721Z      3644               1   \n",
       "49971       train    9422_9.txt  20181022T092721Z      9422               1   \n",
       "49972       train   10076_9.txt  20181022T092721Z     10076               1   \n",
       "49973       train   9912_10.txt  20181022T092721Z      9912               1   \n",
       "49974       train    5818_7.txt  20181022T092721Z      5818               1   \n",
       "49975       train   5178_10.txt  20181022T092721Z      5178               1   \n",
       "49976       train  12147_10.txt  20181022T092721Z     12147               1   \n",
       "49977       train   5629_10.txt  20181022T092721Z      5629               1   \n",
       "49978       train    3439_9.txt  20181022T092721Z      3439               1   \n",
       "49979       train    7892_7.txt  20181022T092721Z      7892               1   \n",
       "49980       train     992_7.txt  20181022T092721Z       992               1   \n",
       "49981       train   9156_10.txt  20181022T092721Z      9156               1   \n",
       "49982       train   6383_10.txt  20181022T092721Z      6383               1   \n",
       "49983       train    9974_8.txt  20181022T092721Z      9974               1   \n",
       "49984       train    4641_9.txt  20181022T092721Z      4641               1   \n",
       "49985       train    7445_7.txt  20181022T092721Z      7445               1   \n",
       "49986       train    4479_8.txt  20181022T092721Z      4479               1   \n",
       "49987       train   6665_10.txt  20181022T092721Z      6665               1   \n",
       "49988       train    5733_7.txt  20181022T092721Z      5733               1   \n",
       "49989       train   7352_10.txt  20181022T092721Z      7352               1   \n",
       "49990       train    3169_8.txt  20181022T092721Z      3169               1   \n",
       "49991       train    4290_9.txt  20181022T092721Z      4290               1   \n",
       "49992       train    3266_7.txt  20181022T092721Z      3266               1   \n",
       "49993       train   8561_10.txt  20181022T092721Z      8561               1   \n",
       "49994       train   8230_10.txt  20181022T092721Z      8230               1   \n",
       "49995       train   9707_10.txt  20181022T092721Z      9707               1   \n",
       "49996       train      35_8.txt  20181022T092721Z        35               1   \n",
       "49997       train   6034_10.txt  20181022T092721Z      6034               1   \n",
       "49998       train    2780_9.txt  20181022T092721Z      2780               1   \n",
       "49999       train     437_9.txt  20181022T092721Z       437               1   \n",
       "\n",
       "       reviewrating                                               text  \n",
       "0                 4  Alan Rickman & Emma Thompson give good perform...  \n",
       "1                 1  I have seen this movie and I did not care for ...  \n",
       "2                 4  In Los Angeles, the alcoholic and lazy Hank Ch...  \n",
       "3                 2  This film is bundled along with \"Gli fumavano ...  \n",
       "4                 1  I only comment on really very good films and o...  \n",
       "5                 4  When you look at the cover and read stuff abou...  \n",
       "6                 2  Rollerskating vampires?! I'm sorry but even fo...  \n",
       "7                 4  Technically abominable (with audible \"pops\" be...  \n",
       "8                 3  When Hollywood is trying to grasp what an \"int...  \n",
       "9                 4  Respected western auteur Budd Boetticher is wo...  \n",
       "10                1  Worst movie ever seen. Worst acting too. I can...  \n",
       "11                1  I was forced to watch this film for my World R...  \n",
       "12                1  Well it is about 1,000 years in the future and...  \n",
       "13                4  Man with the Screaming Brain is a story of gre...  \n",
       "14                2  I never read the book. Now I don't really want...  \n",
       "15                1  One of the movies i just DIDN'T want to see. I...  \n",
       "16                1  Well I had the chance to view this film the ot...  \n",
       "17                2  This is a movie that should have been a mini-s...  \n",
       "18                4  Dark Harvest is a very low budget production m...  \n",
       "19                2  A handful of nubile young college sorority sis...  \n",
       "20                4  Subspecies is set in Romania where two America...  \n",
       "21                1  Aaran is one of the movies where you find the ...  \n",
       "22                2  This is almost Ed Wood territory. Yeah, that r...  \n",
       "23                1  I was forced to read this sappy \"love story\" b...  \n",
       "24                3  THE AFFAIR is a very bad TV movie from the 197...  \n",
       "25                1  After the general, a film that romanticized th...  \n",
       "26                2  I'm sorry guys, all who thought this film coul...  \n",
       "27                3  I rented this thinking it would be pretty good...  \n",
       "28                2  If it weren't for the editing out of curse wor...  \n",
       "29                2  Don't worry when looking at the cover of the D...  \n",
       "...             ...                                                ...  \n",
       "49970             8  The Rookie is based on the true story of a 40+...  \n",
       "49971             9  When I learned of Sir Alec Guinness' death, th...  \n",
       "49972             9  Beautiful and touching movie. Rich colors, gre...  \n",
       "49973            10  Absolutely wonderful drama and Ros is top notc...  \n",
       "49974             7  Actually this movie has silly moments, both in...  \n",
       "49975            10  Before Tuscan Sky, I saw Diane Lane's tender p...  \n",
       "49976            10  Return To The 3th Chamber is the comedic seque...  \n",
       "49977            10  I loved this excellent movie. Farrah Fawcett p...  \n",
       "49978             9  \"Descent.\" Yeah. Boy... I haven't seen anythin...  \n",
       "49979             7  FREDDY has gone from scary to funny,in this 6t...  \n",
       "49980             7  I had no expectations; I'd never heard of Jami...  \n",
       "49981            10  I think this movie had to be fun to make it, f...  \n",
       "49982            10  I thought that this film was very enjoyable. I...  \n",
       "49983             8  Sure this was a remake of a 70's film, but it ...  \n",
       "49984             9  Eytan Fox did it again : move the viewer's hea...  \n",
       "49985             7  It's highly stylized, but this movie shows tha...  \n",
       "49986             8  Since I first saw Anchors Aweigh in 1945, view...  \n",
       "49987            10  This is an very good movie. This is one that I...  \n",
       "49988             7  I'm gonna tip the scales here a bit and say I ...  \n",
       "49989            10  This was my first introduction to the world of...  \n",
       "49990             8  I rented this some years ago, the video store ...  \n",
       "49991             9  I think Charlotte Gainsbourg is one of the bes...  \n",
       "49992             7  Another Downey must-see! If you are an obsesse...  \n",
       "49993            10  When two writers make a screenplay of a horror...  \n",
       "49994            10  Eglimata (= Crimes) is a story about little cr...  \n",
       "49995            10  About a year ago I finally gave up on American...  \n",
       "49996             8  When I saw the elaborate DVD box for this and ...  \n",
       "49997            10  Last November, I had a chance to see this film...  \n",
       "49998             9  Great movie -I loved it. Great editing and use...  \n",
       "49999             9  Enchanted April is a tone poem, an impressioni...  \n",
       "\n",
       "[50000 rows x 7 columns]"
      ]
     },
     "execution_count": 5,
     "metadata": {},
     "output_type": "execute_result"
    }
   ],
   "source": [
    "import pandas as pd\n",
    "\n",
    "ttl = 100000\n",
    "\n",
    "# Define the CSV file.\n",
    "file_csv = os.path.join(base_path, (\"aclImdb_%s.csv\" % ttl))\n",
    "\n",
    "pdf_read = pd.read_csv(file_csv, encoding='utf-8')\n",
    "pdf_read"
   ]
  },
  {
   "cell_type": "code",
   "execution_count": 6,
   "metadata": {},
   "outputs": [
    {
     "name": "stdout",
     "output_type": "stream",
     "text": [
      "+-----------+-----------+----------------+--------+--------------+------------+--------------------+\n",
      "|datasettype|   filename| datetimecreated|reviewid|reviewpolarity|reviewrating|                text|\n",
      "+-----------+-----------+----------------+--------+--------------+------------+--------------------+\n",
      "|       test| 1821_4.txt|20181022T092721Z|    1821|             0|           4|Alan Rickman & Em...|\n",
      "|       test| 9487_1.txt|20181022T092721Z|    9487|             0|           1|I have seen this ...|\n",
      "|       test| 4604_4.txt|20181022T092721Z|    4604|             0|           4|In Los Angeles, t...|\n",
      "|       test| 2828_2.txt|20181022T092721Z|    2828|             0|           2|This film is bund...|\n",
      "|       test|10890_1.txt|20181022T092721Z|   10890|             0|           1|I only comment on...|\n",
      "|       test| 3351_4.txt|20181022T092721Z|    3351|             0|           4|When you look at ...|\n",
      "|       test| 8070_2.txt|20181022T092721Z|    8070|             0|           2|Rollerskating vam...|\n",
      "|       test| 1027_4.txt|20181022T092721Z|    1027|             0|           4|Technically abomi...|\n",
      "|       test| 8248_3.txt|20181022T092721Z|    8248|             0|           3|When Hollywood is...|\n",
      "|       test| 4290_4.txt|20181022T092721Z|    4290|             0|           4|Respected western...|\n",
      "|       test|10096_1.txt|20181022T092721Z|   10096|             0|           1|Worst movie ever ...|\n",
      "|       test|11890_1.txt|20181022T092721Z|   11890|             0|           1|I was forced to w...|\n",
      "|       test| 2008_1.txt|20181022T092721Z|    2008|             0|           1|Well it is about ...|\n",
      "|       test|  472_4.txt|20181022T092721Z|     472|             0|           4|Man with the Scre...|\n",
      "|       test| 9876_2.txt|20181022T092721Z|    9876|             0|           2|I never read the ...|\n",
      "|       test|11402_1.txt|20181022T092721Z|   11402|             0|           1|One of the movies...|\n",
      "|       test| 8487_1.txt|20181022T092721Z|    8487|             0|           1|Well I had the ch...|\n",
      "|       test| 6648_2.txt|20181022T092721Z|    6648|             0|           2|This is a movie t...|\n",
      "|       test| 2780_4.txt|20181022T092721Z|    2780|             0|           4|Dark Harvest is a...|\n",
      "|       test| 1789_2.txt|20181022T092721Z|    1789|             0|           2|A handful of nubi...|\n",
      "+-----------+-----------+----------------+--------+--------------+------------+--------------------+\n",
      "only showing top 20 rows\n",
      "\n"
     ]
    }
   ],
   "source": [
    "df_csv = spark.createDataFrame(pdf_read)\n",
    "df_csv.show()"
   ]
  },
  {
   "cell_type": "code",
   "execution_count": 7,
   "metadata": {},
   "outputs": [
    {
     "name": "stdout",
     "output_type": "stream",
     "text": [
      "root\n",
      " |-- datasettype: string (nullable = true)\n",
      " |-- filename: string (nullable = true)\n",
      " |-- datetimecreated: string (nullable = true)\n",
      " |-- reviewid: long (nullable = true)\n",
      " |-- reviewpolarity: long (nullable = true)\n",
      " |-- reviewrating: long (nullable = true)\n",
      " |-- text: string (nullable = true)\n",
      "\n"
     ]
    }
   ],
   "source": [
    "df_csv.printSchema()"
   ]
  },
  {
   "cell_type": "markdown",
   "metadata": {},
   "source": [
    "# Load the data from the parquet file"
   ]
  },
  {
   "cell_type": "code",
   "execution_count": 8,
   "metadata": {},
   "outputs": [
    {
     "name": "stdout",
     "output_type": "stream",
     "text": [
      "+-----------+------------+----------------+--------+--------------+------------+--------------------+\n",
      "|datasettype|    filename| datetimecreated|reviewid|reviewpolarity|reviewrating|                text|\n",
      "+-----------+------------+----------------+--------+--------------+------------+--------------------+\n",
      "|      train|  9670_9.txt|20181022T092721Z|    9670|             1|           9|One of the best m...|\n",
      "|      train|  8747_7.txt|20181022T092721Z|    8747|             1|           7|*Possible Spoiler...|\n",
      "|      train| 5194_10.txt|20181022T092721Z|    5194|             1|          10|This is one of my...|\n",
      "|      train|  1725_8.txt|20181022T092721Z|    1725|             1|           8|Playing out as a ...|\n",
      "|      train|  6235_8.txt|20181022T092721Z|    6235|             1|           8|This is one of th...|\n",
      "|      train|  4900_8.txt|20181022T092721Z|    4900|             1|           8|This is a quirky ...|\n",
      "|      train| 10774_8.txt|20181022T092721Z|   10774|             1|           8|...about the impo...|\n",
      "|      train| 2515_10.txt|20181022T092721Z|    2515|             1|          10|Moon Child, starr...|\n",
      "|      train|   752_7.txt|20181022T092721Z|     752|             1|           7|Four teenage girl...|\n",
      "|      train| 7658_10.txt|20181022T092721Z|    7658|             1|          10|<br /><br />I hav...|\n",
      "|      train| 7109_10.txt|20181022T092721Z|    7109|             1|          10|First off, let's ...|\n",
      "|      train|  6720_9.txt|20181022T092721Z|    6720|             1|           9|Riding Giants<br ...|\n",
      "|      train|  411_10.txt|20181022T092721Z|     411|             1|          10|This movie is wel...|\n",
      "|      train|  4881_9.txt|20181022T092721Z|    4881|             1|           9|\"Kaabee\" depicts ...|\n",
      "|      train|   717_7.txt|20181022T092721Z|     717|             1|           7|huge Ramones fan....|\n",
      "|      train| 12447_8.txt|20181022T092721Z|   12447|             1|           8|There's a great d...|\n",
      "|      train|  340_10.txt|20181022T092721Z|     340|             1|          10|I loved This Movi...|\n",
      "|      train| 3295_10.txt|20181022T092721Z|    3295|             1|          10|Such a film of be...|\n",
      "|      train|10381_10.txt|20181022T092721Z|   10381|             1|          10|The previous revi...|\n",
      "|      train| 12096_8.txt|20181022T092721Z|   12096|             1|           8|I've watched this...|\n",
      "+-----------+------------+----------------+--------+--------------+------------+--------------------+\n",
      "only showing top 20 rows\n",
      "\n"
     ]
    }
   ],
   "source": [
    "# Check the parquet file is good.\n",
    "ttl = 100000 #200\n",
    "file_pqt = os.path.join(base_path, (\"aclImdb_%s_raw.parquet\" % ttl))\n",
    "\n",
    "df_pqt = spark.read.parquet(file_pqt)\n",
    "\n",
    "# As needed.\n",
    "# df_pqt = df_pqt.drop('words')\n",
    "\n",
    "# Showing some observations (entries).\n",
    "df_pqt.persist()\n",
    "df_pqt.show()"
   ]
  },
  {
   "cell_type": "code",
   "execution_count": 9,
   "metadata": {},
   "outputs": [
    {
     "data": {
      "text/plain": [
       "50000"
      ]
     },
     "execution_count": 9,
     "metadata": {},
     "output_type": "execute_result"
    }
   ],
   "source": [
    "df_pqt.count()"
   ]
  },
  {
   "cell_type": "markdown",
   "metadata": {},
   "source": [
    "# Preprocessing the text to clean HTML tags"
   ]
  },
  {
   "cell_type": "code",
   "execution_count": 10,
   "metadata": {},
   "outputs": [
    {
     "name": "stdout",
     "output_type": "stream",
     "text": [
      "the secrets] of the universe. <br /><br />Unfortunately, \n",
      "the secrets of the universe Unfortunately \n"
     ]
    }
   ],
   "source": [
    "import re\n",
    "\n",
    "def clean_html(text):\n",
    "    res = re.sub('<.*/>', '', text)\n",
    "    return  re.sub('[\\W]+', ' ', res)\n",
    "\n",
    "a_text = 'the secrets] of the universe. <br /><br />Unfortunately, '\n",
    "print(a_text)\n",
    "print(clean_html(a_text))\n",
    "\n",
    "from pyspark.sql import Row \n",
    "\n",
    "from functools import partial\n",
    "\n",
    "def preprocess(new_column_name, row):\n",
    "    data = row.asDict()\n",
    "    text = data['text']\n",
    "    \n",
    "    # Use a regex to clean HTML tags\n",
    "    text = clean_html(text)\n",
    "    data[new_column_name] = text\n",
    "    \n",
    "    return Row(**data)\n",
    "\n",
    "def transform_html_clean(df, new_column_name):\n",
    "    f = partial(preprocess, new_column_name)\n",
    "    return df.rdd.map(f).toDF()"
   ]
  },
  {
   "cell_type": "code",
   "execution_count": 11,
   "metadata": {},
   "outputs": [
    {
     "data": {
      "text/plain": [
       "[Row(text=\"One of the best movies I ever saw was an Irish movie titled Philadelphia,Here I Come. I read the play before I saw the movie and loved them both. It's the story of a young man preparing to leave Ireland to go to America because he can't earn a living in Ireland. It is told both from the perspective of the young man(whom the other characters in the film can see) and another young man representing his uncensored thoughts and feelings., but who cannot be seen by the other characters in the film. It is a very sad movie, but deeply touching, and I would recommend this film to anyone who wants something to think about. I love any Irish movie, or almost any movie about Ireland, and any film that has the late Irish actor Donal McCann in it gets my vote.I would watch that man chew gum for 2 hours on screen, and unfortunately,I have.Terrible shame to have lost him so young.\", textclean='One of the best movies I ever saw was an Irish movie titled Philadelphia Here I Come I read the play before I saw the movie and loved them both It s the story of a young man preparing to leave Ireland to go to America because he can t earn a living in Ireland It is told both from the perspective of the young man whom the other characters in the film can see and another young man representing his uncensored thoughts and feelings but who cannot be seen by the other characters in the film It is a very sad movie but deeply touching and I would recommend this film to anyone who wants something to think about I love any Irish movie or almost any movie about Ireland and any film that has the late Irish actor Donal McCann in it gets my vote I would watch that man chew gum for 2 hours on screen and unfortunately I have Terrible shame to have lost him so young ')]"
      ]
     },
     "execution_count": 11,
     "metadata": {},
     "output_type": "execute_result"
    }
   ],
   "source": [
    "# Clean the parquet data frame.\n",
    "df_pqt = transform_html_clean(df_pqt, 'textclean')\n",
    "df_pqt.select('text', 'textclean').take(1)"
   ]
  },
  {
   "cell_type": "markdown",
   "metadata": {},
   "source": [
    "# Stemming and Lemmatization of text"
   ]
  },
  {
   "cell_type": "markdown",
   "metadata": {},
   "source": [
    "## Example using NLTK"
   ]
  },
  {
   "cell_type": "code",
   "execution_count": 12,
   "metadata": {},
   "outputs": [
    {
     "name": "stdout",
     "output_type": "stream",
     "text": [
      "write: write\n",
      "writer: writer\n",
      "writing: write\n",
      "writers: writer\n"
     ]
    }
   ],
   "source": [
    "import nltk\n",
    "from nltk.stem import PorterStemmer\n",
    "\n",
    "words = ['write','writer','writing','writers']\n",
    "ps = PorterStemmer()\n",
    "\n",
    "for word in words:\n",
    "    print(f\"{word}: {ps.stem(word)}\")"
   ]
  },
  {
   "cell_type": "code",
   "execution_count": 13,
   "metadata": {},
   "outputs": [
    {
     "name": "stdout",
     "output_type": "stream",
     "text": [
      "[nltk_data] Downloading package wordnet to /Users/hujol/nltk_data...\n",
      "[nltk_data]   Package wordnet is already up-to-date!\n"
     ]
    },
    {
     "data": {
      "text/plain": [
       "'dog'"
      ]
     },
     "execution_count": 13,
     "metadata": {},
     "output_type": "execute_result"
    }
   ],
   "source": [
    "from nltk.stem import WordNetLemmatizer\n",
    "\n",
    "lemmatizer = WordNetLemmatizer()\n",
    "nltk.download('wordnet')\n",
    "\n",
    "lemmatizer.lemmatize('dogs')"
   ]
  },
  {
   "cell_type": "markdown",
   "metadata": {},
   "source": [
    "## Spark Features Extractor Bag of Words"
   ]
  },
  {
   "cell_type": "code",
   "execution_count": 14,
   "metadata": {},
   "outputs": [
    {
     "data": {
      "text/plain": [
       "[Row(words=['one', 'of', 'the', 'best', 'movies', 'i', 'ever', 'saw', 'was', 'an', 'irish', 'movie', 'titled', 'philadelphia', 'here', 'i', 'come', 'i', 'read', 'the', 'play', 'before', 'i', 'saw', 'the', 'movie', 'and', 'loved', 'them', 'both', 'it', 's', 'the', 'story', 'of', 'a', 'young', 'man', 'preparing', 'to', 'leave', 'ireland', 'to', 'go', 'to', 'america', 'because', 'he', 'can', 't', 'earn', 'a', 'living', 'in', 'ireland', 'it', 'is', 'told', 'both', 'from', 'the', 'perspective', 'of', 'the', 'young', 'man', 'whom', 'the', 'other', 'characters', 'in', 'the', 'film', 'can', 'see', 'and', 'another', 'young', 'man', 'representing', 'his', 'uncensored', 'thoughts', 'and', 'feelings', 'but', 'who', 'cannot', 'be', 'seen', 'by', 'the', 'other', 'characters', 'in', 'the', 'film', 'it', 'is', 'a', 'very', 'sad', 'movie', 'but', 'deeply', 'touching', 'and', 'i', 'would', 'recommend', 'this', 'film', 'to', 'anyone', 'who', 'wants', 'something', 'to', 'think', 'about', 'i', 'love', 'any', 'irish', 'movie', 'or', 'almost', 'any', 'movie', 'about', 'ireland', 'and', 'any', 'film', 'that', 'has', 'the', 'late', 'irish', 'actor', 'donal', 'mccann', 'in', 'it', 'gets', 'my', 'vote', 'i', 'would', 'watch', 'that', 'man', 'chew', 'gum', 'for', '2', 'hours', 'on', 'screen', 'and', 'unfortunately', 'i', 'have', 'terrible', 'shame', 'to', 'have', 'lost', 'him', 'so', 'young'])]"
      ]
     },
     "execution_count": 14,
     "metadata": {},
     "output_type": "execute_result"
    }
   ],
   "source": [
    "from pyspark.ml.feature import HashingTF, IDF, Tokenizer\n",
    "\n",
    "df_pqt = df_pqt.drop('words')\n",
    "            \n",
    "tokenizer = Tokenizer(inputCol=\"textclean\", outputCol=\"words\")\n",
    "df_pqt = tokenizer.transform(df_pqt)\n",
    "\n",
    "df_pqt.select('words').take(1)\n",
    "\n",
    "# hashingTF = HashingTF(inputCol=\"words\", outputCol=\"rawFeatures\", numFeatures=20)\n",
    "# featurizedData = hashingTF.transform(wordsData)\n",
    "# # alternatively, CountVectorizer can also be used to get term frequency vectors\n",
    "\n",
    "# idf = IDF(inputCol=\"rawFeatures\", outputCol=\"features\")\n",
    "# idfModel = idf.fit(featurizedData)\n",
    "# rescaledData = idfModel.transform(featurizedData)\n",
    "# for features_label in rescaledData.select(\"features\", \"label\").take(3):\n",
    "#     print(features_label)"
   ]
  },
  {
   "cell_type": "markdown",
   "metadata": {},
   "source": [
    "## Text cleansing"
   ]
  },
  {
   "cell_type": "code",
   "execution_count": 15,
   "metadata": {},
   "outputs": [
    {
     "name": "stdout",
     "output_type": "stream",
     "text": [
      "[nltk_data] Downloading package stopwords to /Users/hujol/nltk_data...\n",
      "[nltk_data]   Package stopwords is already up-to-date!\n"
     ]
    }
   ],
   "source": [
    "import nltk\n",
    "from nltk.corpus import stopwords\n",
    "\n",
    "# Remove the stop words\n",
    "nltk.download('stopwords')\n",
    "stopwords_bc = spark.sparkContext.broadcast(set(stopwords.words('english')))"
   ]
  },
  {
   "cell_type": "code",
   "execution_count": 16,
   "metadata": {},
   "outputs": [
    {
     "data": {
      "text/plain": [
       "['great', 'kitesurfing', 'long']"
      ]
     },
     "execution_count": 16,
     "metadata": {},
     "output_type": "execute_result"
    }
   ],
   "source": [
    "def row_text_cleaner(words):\n",
    "    words_clean = []\n",
    "    for a_w in words:\n",
    "        if not a_w in stopwords_bc.value:\n",
    "            words_clean.append(a_w)\n",
    "    \n",
    "    # Return the cleaned words.\n",
    "    return words_clean\n",
    "\n",
    "test_words = ['it', 'is', 'great', 'you', 'have', 'been', 'kitesurfing', 'that', 'long']\n",
    "row_text_cleaner(test_words)"
   ]
  },
  {
   "cell_type": "code",
   "execution_count": 17,
   "metadata": {},
   "outputs": [
    {
     "name": "stdout",
     "output_type": "stream",
     "text": [
      "+--------------------+\n",
      "|          wordsclean|\n",
      "+--------------------+\n",
      "|[one, best, movie...|\n",
      "|[, possible, spoi...|\n",
      "|[one, favourite, ...|\n",
      "|[playing, sort, p...|\n",
      "|[one, best, fred,...|\n",
      "|[quirky, movie, b...|\n",
      "|[, importance, yo...|\n",
      "|[moon, child, sta...|\n",
      "|[four, teenage, g...|\n",
      "|[seen, movie, man...|\n",
      "|[first, let, star...|\n",
      "|[riding, giantsa,...|\n",
      "|[movie, well, don...|\n",
      "|[, kaabee, depict...|\n",
      "|[huge, ramones, f...|\n",
      "|[great, deal, mat...|\n",
      "|[loved, movie, sa...|\n",
      "|[film, beauty, ha...|\n",
      "|[previous, review...|\n",
      "|[watched, movie, ...|\n",
      "+--------------------+\n",
      "only showing top 20 rows\n",
      "\n"
     ]
    }
   ],
   "source": [
    "from pyspark.sql import Row \n",
    "\n",
    "def f(x):\n",
    "    data = x.asDict()\n",
    "    data['wordsclean'] = row_text_cleaner(x.words)\n",
    "    \n",
    "    # The purpose of ** is to give the ability to feed a function's arguments \n",
    "    # by providing a dictionary (e.g. f(**{'x' : 1, 'y' : 2}) ).\n",
    "    return Row(**data)\n",
    "\n",
    "# NOTE:\n",
    "# There is a need to store the result into df_pqt2 otherwise the\n",
    "# added words_clean added column does not show well if we store it in the same df_pqt when running:\n",
    "# df_pqt.select('words_clean').show()\n",
    "rdd_tmp = df_pqt.rdd.map(f)\n",
    "df_pqt = rdd_tmp.toDF()\n",
    "\n",
    "df_pqt.select('wordsclean').show()"
   ]
  },
  {
   "cell_type": "code",
   "execution_count": 18,
   "metadata": {
    "scrolled": true
   },
   "outputs": [
    {
     "name": "stdout",
     "output_type": "stream",
     "text": [
      "root\n",
      " |-- datasettype: string (nullable = true)\n",
      " |-- datetimecreated: string (nullable = true)\n",
      " |-- filename: string (nullable = true)\n",
      " |-- reviewid: long (nullable = true)\n",
      " |-- reviewpolarity: long (nullable = true)\n",
      " |-- reviewrating: long (nullable = true)\n",
      " |-- text: string (nullable = true)\n",
      " |-- textclean: string (nullable = true)\n",
      " |-- words: array (nullable = true)\n",
      " |    |-- element: string (containsNull = true)\n",
      " |-- wordsclean: array (nullable = true)\n",
      " |    |-- element: string (containsNull = true)\n",
      "\n",
      "root\n",
      " |-- datasettype: string (nullable = true)\n",
      " |-- datetimecreated: string (nullable = true)\n",
      " |-- filename: string (nullable = true)\n",
      " |-- reviewid: long (nullable = true)\n",
      " |-- reviewpolarity: long (nullable = true)\n",
      " |-- reviewrating: long (nullable = true)\n",
      " |-- text: string (nullable = true)\n",
      " |-- words: array (nullable = true)\n",
      " |    |-- element: string (containsNull = true)\n",
      " |-- wordsclean: array (nullable = true)\n",
      " |    |-- element: string (containsNull = true)\n",
      "\n"
     ]
    }
   ],
   "source": [
    "# Remove intermediairy data not needed anymore.\n",
    "df_pqt.printSchema()\n",
    "# df_pqt = df_pqt.withColumnRenamed('words_clean', 'words')\n",
    "df_pqt = df_pqt.drop('textclean')\n",
    "df_pqt.printSchema()"
   ]
  },
  {
   "cell_type": "markdown",
   "metadata": {},
   "source": [
    "# Computation of the TF-IDF"
   ]
  },
  {
   "cell_type": "markdown",
   "metadata": {},
   "source": [
    "## HashingTF testing on small vocabulary"
   ]
  },
  {
   "cell_type": "code",
   "execution_count": 19,
   "metadata": {
    "scrolled": false
   },
   "outputs": [
    {
     "name": "stdout",
     "output_type": "stream",
     "text": [
      "+------------------------------------------------------------------------------------------------------------------+--------------------------------------------------------------------------------------------------------------------------------------------+\n",
      "|words                                                                                                             |rawFeatures                                                                                                                                 |\n",
      "+------------------------------------------------------------------------------------------------------------------+--------------------------------------------------------------------------------------------------------------------------------------------+\n",
      "|[hi, i, heard, about, spark, and, i, love, spark, with, java,, i, read, a, lot, about, java, and, spark,, sparky!]|(5096,[56,338,565,677,1568,1722,2321,2455,2799,2905,3001,3202,4672,4673,4959],[1.0,1.0,1.0,2.0,1.0,1.0,3.0,1.0,1.0,1.0,2.0,1.0,1.0,2.0,1.0])|\n",
      "|[i, wish, java, could, use, case, classes]                                                                        |(5096,[449,1911,2085,2321,2799,4361,4390],[1.0,1.0,1.0,1.0,1.0,1.0,1.0])                                                                    |\n",
      "|[logistic, regression, models, are, neat]                                                                         |(5096,[220,682,1449,1502,2111],[1.0,1.0,1.0,1.0,1.0])                                                                                       |\n",
      "+------------------------------------------------------------------------------------------------------------------+--------------------------------------------------------------------------------------------------------------------------------------------+\n",
      "\n"
     ]
    }
   ],
   "source": [
    "from pyspark.ml.feature import HashingTF, IDF, Tokenizer\n",
    "\n",
    "sentenceData = spark.createDataFrame([\n",
    "    (0, \"Hi I heard about Spark and I love SPark with Java, I read a lot about java and spark, sparky!\"),\n",
    "    (0, \"I wish Java could use case classes\"),\n",
    "    (1, \"Logistic regression models are neat\")\n",
    "], [\"label\", \"sentence\"])\n",
    "tokenizer = Tokenizer(inputCol=\"sentence\", outputCol=\"words\")\n",
    "wordsData = tokenizer.transform(sentenceData)\n",
    "\n",
    "# This uses the hash and the modulo numFeatures to define a bucket where to put a word.\n",
    "# It is efficient as it does not store the vocabulary.\n",
    "hashingTF = HashingTF(inputCol=\"words\", outputCol=\"rawFeatures\", numFeatures=5096)\n",
    "featurizedData = hashingTF.transform(wordsData)\n",
    "\n",
    "featurizedData.select('words', 'rawFeatures').show(truncate=False)"
   ]
  },
  {
   "cell_type": "markdown",
   "metadata": {},
   "source": [
    "## CountVectorizer test on small data frame"
   ]
  },
  {
   "cell_type": "code",
   "execution_count": 20,
   "metadata": {},
   "outputs": [],
   "source": [
    "from pyspark.ml.feature import CountVectorizer\n",
    "\n",
    "cv = CountVectorizer(inputCol=\"words\", outputCol=\"rawfeatures\", vocabSize=70, minDF=1.0)\n",
    "model = cv.fit(featurizedData)\n",
    "result = model.transform(featurizedData)"
   ]
  },
  {
   "cell_type": "code",
   "execution_count": 21,
   "metadata": {},
   "outputs": [
    {
     "data": {
      "text/plain": [
       "Row(rawfeatures=SparseVector(25, {0: 3.0, 1: 2.0, 2: 2.0, 3: 2.0, 4: 1.0, 8: 1.0, 12: 1.0, 13: 1.0, 15: 1.0, 17: 1.0, 18: 1.0, 19: 1.0, 20: 1.0, 21: 1.0, 24: 1.0}), words=['hi', 'i', 'heard', 'about', 'spark', 'and', 'i', 'love', 'spark', 'with', 'java,', 'i', 'read', 'a', 'lot', 'about', 'java', 'and', 'spark,', 'sparky!'])"
      ]
     },
     "execution_count": 21,
     "metadata": {},
     "output_type": "execute_result"
    }
   ],
   "source": [
    "result.select('rawfeatures', 'words').head()"
   ]
  },
  {
   "cell_type": "markdown",
   "metadata": {},
   "source": [
    "# TF-IDF on reviews"
   ]
  },
  {
   "cell_type": "code",
   "execution_count": 22,
   "metadata": {},
   "outputs": [],
   "source": [
    "from pyspark.ml.feature import CountVectorizer\n",
    "\n",
    "df_pqt = df_pqt.drop('featurestf')\n",
    "cv = CountVectorizer(inputCol=\"wordsclean\", outputCol=\"featurestf\", vocabSize=30000, minDF=1.0)\n",
    "model_cv = cv.fit(df_pqt)\n",
    "df_pqt = model_cv.transform(df_pqt)"
   ]
  },
  {
   "cell_type": "code",
   "execution_count": 23,
   "metadata": {},
   "outputs": [
    {
     "name": "stdout",
     "output_type": "stream",
     "text": [
      "Number of unique words in the corpus: 30000\n",
      "Excerpt of the vocabulary\n",
      "['film', 'one', 'like', 'good', 'time', 'see', 'would', 'even', 'really', 'story', 'well', 'great', 'bad', 'much', 'movies', 'people', 'first', 'get', 'made', 'watch', 'also', 'make', 'seen', 'could', 'films', 'way', 'think', 'ever', 'best', 'love', 'many', 'show', 'acting', 'never', 'characters', 'plot', 'better', 'life', 'two', 'know', 'little', 'say', '10', 'still', 'character', 'watching', 'man', 'end', 'something', 'go', 'years', 'funny', 'back', 'scenes', 'actors', 'director', 'thing', 'real', 'scene', 'old', 'though', 'find', 'lot', 'work', 'nothing', 'horror', 'another', 'actually', 'want', 'look', 'saw', 'every', 'new', 'going', 'makes', 'thought', 'cast', 'give', 'got', 'part', 'pretty', 'comedy', 'world', 'quite', 'must', 'series', 'big', 'us', 'long', 'things', 'original', 'however', 'take', 'enough', 'young', 'may', 'tv', 'always', 'worst']\n"
     ]
    }
   ],
   "source": [
    "print(\"Number of unique words in the corpus: %s\" % len(model_cv.vocabulary))\n",
    "print(\"Excerpt of the vocabulary\\n\" + str(model_cv.vocabulary[1:100]))\n",
    "\n",
    "# result.select('features').rdd.map(lambda x: print(x)).take(1)"
   ]
  },
  {
   "cell_type": "code",
   "execution_count": 24,
   "metadata": {},
   "outputs": [
    {
     "data": {
      "text/plain": [
       "SparseVector(30000, {0: 5.0, 1: 4.0, 2: 1.0, 6: 1.0, 7: 2.0, 10: 1.0, 15: 1.0, 20: 1.0, 23: 1.0, 27: 1.0, 28: 1.0, 29: 1.0, 30: 1.0, 35: 2.0, 47: 4.0, 49: 1.0, 50: 1.0, 67: 1.0, 71: 2.0, 95: 4.0, 103: 1.0, 110: 1.0, 111: 1.0, 124: 1.0, 134: 1.0, 156: 1.0, 158: 1.0, 179: 1.0, 188: 1.0, 190: 1.0, 227: 1.0, 242: 1.0, 315: 1.0, 355: 1.0, 361: 1.0, 420: 1.0, 426: 1.0, 449: 1.0, 462: 1.0, 466: 1.0, 469: 1.0, 474: 1.0, 615: 1.0, 695: 1.0, 1119: 1.0, 1337: 1.0, 1522: 1.0, 1804: 1.0, 1942: 1.0, 2195: 1.0, 2337: 3.0, 3123: 1.0, 3558: 3.0, 6103: 1.0, 6349: 1.0, 6472: 1.0, 7738: 1.0, 9078: 1.0, 9985: 1.0, 14692: 1.0, 21131: 1.0, 23437: 1.0})"
      ]
     },
     "execution_count": 24,
     "metadata": {},
     "output_type": "execute_result"
    }
   ],
   "source": [
    "df_pqt.take(1)[0].featurestf"
   ]
  },
  {
   "cell_type": "markdown",
   "metadata": {},
   "source": [
    "## IDF"
   ]
  },
  {
   "cell_type": "code",
   "execution_count": 25,
   "metadata": {},
   "outputs": [
    {
     "data": {
      "text/plain": [
       "DataFrame[datasettype: string, datetimecreated: string, filename: string, reviewid: bigint, reviewpolarity: bigint, reviewrating: bigint, text: string, words: array<string>, wordsclean: array<string>, featurestf: vector, featuresidf: vector]"
      ]
     },
     "execution_count": 25,
     "metadata": {},
     "output_type": "execute_result"
    }
   ],
   "source": [
    "from pyspark.ml.feature import IDF\n",
    "\n",
    "# Drop the column first.\n",
    "df_pqt = df_pqt.drop('featuresidf')\n",
    "\n",
    "# IDF uses a term frequency vector:\n",
    "# http://spark.apache.org/docs/latest/api/python/pyspark.mllib.html?highlight=tfidf#pyspark.mllib.feature.IDF\n",
    "idf = IDF(inputCol=\"featurestf\", outputCol=\"featuresidf\")\n",
    "idfModel = idf.fit(df_pqt)\n",
    "df_pqt = idfModel.transform(df_pqt)\n",
    "\n",
    "df_pqt.persist()"
   ]
  },
  {
   "cell_type": "code",
   "execution_count": 26,
   "metadata": {
    "scrolled": false
   },
   "outputs": [
    {
     "data": {
      "text/plain": [
       "[Row(reviewpolarity=1, reviewrating=9, featuresidf=SparseVector(30000, {0: 3.1463, 1: 3.0069, 2: 0.8302, 6: 1.4339, 7: 2.9738, 10: 1.5891, 15: 1.7805, 20: 1.7708, 23: 1.831, 27: 1.9148, 28: 1.9333, 29: 1.9827, 30: 2.0803, 35: 4.1522, 47: 9.2522, 49: 2.2445, 50: 2.2376, 67: 2.423, 71: 4.9204, 95: 10.8737, 103: 2.7365, 110: 2.6847, 111: 2.7028, 124: 2.7596, 134: 2.8313, 156: 2.8961, 158: 2.9783, 179: 3.0713, 188: 3.1508, 190: 3.1127, 227: 3.2655, 242: 3.2597, 315: 3.4712, 355: 3.5227, 361: 3.5649, 420: 3.7508, 426: 3.7406, 449: 3.781, 462: 3.7679, 466: 3.7889, 469: 3.7881, 474: 3.8286, 615: 4.041, 695: 4.1734, 1119: 4.5933, 1337: 4.8359, 1522: 4.9533, 1804: 5.1534, 1942: 5.2401, 2195: 5.3517, 2337: 17.0169, 3123: 5.8025, 3558: 18.5552, 6103: 6.7089, 6349: 6.6609, 6472: 6.7255, 7738: 6.9486, 9078: 7.1822, 9985: 7.3233, 14692: 7.8754, 21131: 8.6226, 23437: 8.8739}), text=\"One of the best movies I ever saw was an Irish movie titled Philadelphia,Here I Come. I read the play before I saw the movie and loved them both. It's the story of a young man preparing to leave Ireland to go to America because he can't earn a living in Ireland. It is told both from the perspective of the young man(whom the other characters in the film can see) and another young man representing his uncensored thoughts and feelings., but who cannot be seen by the other characters in the film. It is a very sad movie, but deeply touching, and I would recommend this film to anyone who wants something to think about. I love any Irish movie, or almost any movie about Ireland, and any film that has the late Irish actor Donal McCann in it gets my vote.I would watch that man chew gum for 2 hours on screen, and unfortunately,I have.Terrible shame to have lost him so young.\")]"
      ]
     },
     "execution_count": 26,
     "metadata": {},
     "output_type": "execute_result"
    }
   ],
   "source": [
    "df_pqt.select('reviewpolarity', \"reviewrating\", \"featuresidf\", 'text').take(1)"
   ]
  },
  {
   "cell_type": "markdown",
   "metadata": {},
   "source": [
    "# Training a logistic regression for Sentiment Analysis"
   ]
  },
  {
   "cell_type": "markdown",
   "metadata": {},
   "source": [
    "### Logistic regression model using N-fold stratified cross-validation"
   ]
  },
  {
   "cell_type": "code",
   "execution_count": 27,
   "metadata": {},
   "outputs": [
    {
     "name": "stdout",
     "output_type": "stream",
     "text": [
      "[nltk_data] Downloading package stopwords to /Users/hujol/nltk_data...\n",
      "[nltk_data]   Package stopwords is already up-to-date!\n"
     ]
    },
    {
     "data": {
      "text/plain": [
       "['have',\n",
       " 'hers',\n",
       " 'as',\n",
       " 'had',\n",
       " 'it',\n",
       " 'ours',\n",
       " \"hasn't\",\n",
       " \"don't\",\n",
       " \"you've\",\n",
       " 'until',\n",
       " 'under',\n",
       " 'does',\n",
       " 'only',\n",
       " 'how',\n",
       " 'am',\n",
       " 'his',\n",
       " 'below',\n",
       " 'into',\n",
       " 'once',\n",
       " 'shan',\n",
       " 'he',\n",
       " 'their',\n",
       " 'its',\n",
       " 'here',\n",
       " 'me',\n",
       " \"weren't\",\n",
       " 'if',\n",
       " 'after',\n",
       " 'doesn',\n",
       " \"won't\",\n",
       " 'they',\n",
       " 'and',\n",
       " 're',\n",
       " 'haven',\n",
       " 't',\n",
       " 'what',\n",
       " 'did',\n",
       " 'which',\n",
       " 'being',\n",
       " \"mustn't\",\n",
       " 'hadn',\n",
       " 'our',\n",
       " 'your',\n",
       " 'out',\n",
       " 'mustn',\n",
       " 'herself',\n",
       " 'while',\n",
       " 'wouldn',\n",
       " 'm',\n",
       " 'on',\n",
       " 'few',\n",
       " 'so',\n",
       " 'him',\n",
       " \"you'll\",\n",
       " 'will',\n",
       " 'against',\n",
       " 'weren',\n",
       " 'ma',\n",
       " 'that',\n",
       " 'them',\n",
       " 'again',\n",
       " 'wasn',\n",
       " 'some',\n",
       " 'who',\n",
       " 'in',\n",
       " 'whom',\n",
       " 'down',\n",
       " 'didn',\n",
       " 'to',\n",
       " 'too',\n",
       " 'each',\n",
       " 'be',\n",
       " 'ain',\n",
       " 'mightn',\n",
       " 'very',\n",
       " 'hasn',\n",
       " 'yourselves',\n",
       " 'don',\n",
       " 'where',\n",
       " 'she',\n",
       " 'such',\n",
       " 'o',\n",
       " \"aren't\",\n",
       " \"shan't\",\n",
       " 'now',\n",
       " 'doing',\n",
       " 'no',\n",
       " 'nor',\n",
       " \"you'd\",\n",
       " \"shouldn't\",\n",
       " \"needn't\",\n",
       " 'other',\n",
       " 'has',\n",
       " 'should',\n",
       " 'i',\n",
       " 'all',\n",
       " 'itself',\n",
       " 'above',\n",
       " 'we',\n",
       " \"it's\",\n",
       " \"doesn't\",\n",
       " \"hadn't\",\n",
       " 'were',\n",
       " 'over',\n",
       " 'with',\n",
       " 'her',\n",
       " 'about',\n",
       " 'why',\n",
       " 'not',\n",
       " 'are',\n",
       " 'own',\n",
       " \"haven't\",\n",
       " 'than',\n",
       " 'for',\n",
       " \"she's\",\n",
       " 'having',\n",
       " 'been',\n",
       " 'do',\n",
       " 'between',\n",
       " 'needn',\n",
       " 'isn',\n",
       " 'aren',\n",
       " 'my',\n",
       " \"didn't\",\n",
       " \"wouldn't\",\n",
       " 'because',\n",
       " 'there',\n",
       " 'can',\n",
       " \"should've\",\n",
       " 'yourself',\n",
       " \"mightn't\",\n",
       " 'just',\n",
       " 'll',\n",
       " 'won',\n",
       " 'an',\n",
       " 'same',\n",
       " 'yours',\n",
       " 'himself',\n",
       " 'at',\n",
       " 'both',\n",
       " 'when',\n",
       " 'theirs',\n",
       " 'more',\n",
       " 'd',\n",
       " 'myself',\n",
       " 'from',\n",
       " \"wasn't\",\n",
       " 'of',\n",
       " 'the',\n",
       " 'y',\n",
       " 'you',\n",
       " 've',\n",
       " 'these',\n",
       " 'couldn',\n",
       " 'is',\n",
       " 'by',\n",
       " 's',\n",
       " 'before',\n",
       " 'any',\n",
       " \"couldn't\",\n",
       " 'shouldn',\n",
       " 'ourselves',\n",
       " \"isn't\",\n",
       " 'themselves',\n",
       " 'those',\n",
       " 'then',\n",
       " \"you're\",\n",
       " 'a',\n",
       " 'but',\n",
       " 'was',\n",
       " 'further',\n",
       " 'this',\n",
       " 'during',\n",
       " \"that'll\",\n",
       " 'off',\n",
       " 'most',\n",
       " 'up',\n",
       " 'or',\n",
       " 'through']"
      ]
     },
     "execution_count": 27,
     "metadata": {},
     "output_type": "execute_result"
    }
   ],
   "source": [
    "import nltk\n",
    "from nltk.corpus import stopwords\n",
    "\n",
    "# Remove the stop words\n",
    "nltk.download('stopwords')\n",
    "stopwords_set = list(set(stopwords.words('english')))\n",
    "\n",
    "stopwords_set\n",
    "# stopwords_bc = spark.sparkContext.broadcast(set(stopwords.words('english')))"
   ]
  },
  {
   "cell_type": "code",
   "execution_count": 28,
   "metadata": {},
   "outputs": [
    {
     "data": {
      "text/plain": [
       "82"
      ]
     },
     "execution_count": 28,
     "metadata": {},
     "output_type": "execute_result"
    }
   ],
   "source": [
    "from pyspark.ml import Pipeline\n",
    "from pyspark.ml.feature import Tokenizer, StopWordsRemover\n",
    "\n",
    "# Create a test df.\n",
    "df0 = transform_html_clean(df_pqt, 'textclean')\n",
    "\n",
    "tokenizer = Tokenizer(inputCol=\"textclean\", outputCol=\"words_tknz\")\n",
    "remover = StopWordsRemover(inputCol=tokenizer.getOutputCol(), outputCol=\"words_test\", stopWords=stopwords_set)\n",
    "pipeline = Pipeline(stages=[tokenizer, remover])\n",
    "\n",
    "len(pipeline.fit(df0).transform(df0).head().words_test)"
   ]
  },
  {
   "cell_type": "code",
   "execution_count": 29,
   "metadata": {},
   "outputs": [
    {
     "data": {
      "text/plain": [
       "(45043, 4957)"
      ]
     },
     "execution_count": 29,
     "metadata": {},
     "output_type": "execute_result"
    }
   ],
   "source": [
    "# Split the df into train and test\n",
    "df_training, df_test = df_pqt.randomSplit([0.9, 0.1], seed=12345)\n",
    "\n",
    "df_training.count(), df_test.count()"
   ]
  },
  {
   "cell_type": "code",
   "execution_count": 30,
   "metadata": {},
   "outputs": [
    {
     "name": "stdout",
     "output_type": "stream",
     "text": [
      "+--------------+-----+\n",
      "|reviewpolarity|count|\n",
      "+--------------+-----+\n",
      "|             0|22625|\n",
      "|             1|22418|\n",
      "+--------------+-----+\n",
      "\n",
      "+--------------+-----+\n",
      "|reviewpolarity|count|\n",
      "+--------------+-----+\n",
      "|             0| 2375|\n",
      "|             1| 2582|\n",
      "+--------------+-----+\n",
      "\n"
     ]
    }
   ],
   "source": [
    "df_training.groupBy('reviewpolarity').count().show()\n",
    "df_test.groupBy('reviewpolarity').count().show()"
   ]
  },
  {
   "cell_type": "code",
   "execution_count": 31,
   "metadata": {},
   "outputs": [],
   "source": [
    "df_training = df_training.drop('words')\n",
    "df_training = df_training.drop('featurestf')"
   ]
  },
  {
   "cell_type": "code",
   "execution_count": 32,
   "metadata": {},
   "outputs": [],
   "source": [
    "from pyspark.ml import Pipeline\n",
    "from pyspark.ml.classification import LogisticRegression\n",
    "from pyspark.ml.evaluation import BinaryClassificationEvaluator , RegressionEvaluator\n",
    "from pyspark.ml.feature import StopWordsRemover, HashingTF, Tokenizer\n",
    "from pyspark.ml.tuning import CrossValidator, ParamGridBuilder\n",
    "\n",
    "# Based on Spark doc\n",
    "# https://spark.apache.org/docs/latest/ml-tuning.html#cross-validation\n",
    "\n",
    "# Define the stages.\n",
    "tokenizer = Tokenizer(inputCol=\"textclean\", outputCol=\"words_tknz\")\n",
    "remover = StopWordsRemover(inputCol=tokenizer.getOutputCol(), outputCol=\"words\", stopWords=stopwords_set)\n",
    "\n",
    "# The idea is to create a features vector from a list of words.\n",
    "\n",
    "# 1) Use this hashing Term Frequency.\n",
    "hashingTF = HashingTF(inputCol=remover.getOutputCol(), outputCol=\"features\")\n",
    "\n",
    "# Or 2) use the Term Frequency - Inverse Document Frequency.\n",
    "cv = CountVectorizer(inputCol=remover.getOutputCol(), outputCol=\"featurestf\", vocabSize=30000, minDF=1.0)\n",
    "idf = IDF(inputCol=cv.getOutputCol(), outputCol=\"features\")\n",
    "\n",
    "lr = LogisticRegression(maxIter=10)\n",
    "\n",
    "# Create the pipeline.\n",
    "pipeline = Pipeline(stages=[tokenizer, remover, cv, idf, lr])\n",
    "\n",
    "# Define the criteria ranges.\n",
    "paramGrid = ParamGridBuilder() \\\n",
    "    .addGrid(hashingTF.numFeatures, [100, 50000, 200000]) \\\n",
    "    .addGrid(lr.regParam, [0.1, 0.01]) \\\n",
    "    .build()\n",
    "\n",
    "# The evaluator of each models.\n",
    "# evaluator = RegressionEvaluator(metricName=\"r2\")\n",
    "evaluator = BinaryClassificationEvaluator()\n",
    "\n",
    "# Define the cross validation runner.\n",
    "crossval = CrossValidator(estimator=pipeline,\n",
    "                          estimatorParamMaps=paramGrid,\n",
    "                          evaluator=evaluator,\n",
    "                          numFolds=5)  # use 3+ folds in practice\n",
    "\n",
    "# Run cross-validation, and choose the best set of parameters.\n",
    "df_training_tmp = df_training.withColumnRenamed('reviewpolarity', 'label')\n",
    "df_training_ppl = transform_html_clean(df_training_tmp, 'textclean')\n",
    "\n",
    "# Train the model.\n",
    "cvModel = crossval.fit(df_training_ppl)"
   ]
  },
  {
   "cell_type": "code",
   "execution_count": 33,
   "metadata": {},
   "outputs": [
    {
     "data": {
      "text/plain": [
       "[0.9310054844941151,\n",
       " 0.9181914134397706,\n",
       " 0.9310468749882511,\n",
       " 0.9180264339342397,\n",
       " 0.9311010242253082,\n",
       " 0.917946714107411]"
      ]
     },
     "execution_count": 33,
     "metadata": {},
     "output_type": "execute_result"
    }
   ],
   "source": [
    "cvModel.avgMetrics"
   ]
  },
  {
   "cell_type": "code",
   "execution_count": 34,
   "metadata": {},
   "outputs": [],
   "source": [
    "model_best = cvModel.bestModel"
   ]
  },
  {
   "cell_type": "code",
   "execution_count": 35,
   "metadata": {},
   "outputs": [
    {
     "name": "stdout",
     "output_type": "stream",
     "text": [
      "True\n",
      "0.9957645617250237\n"
     ]
    }
   ],
   "source": [
    "df_training_pip = model_best.transform(df_training_ppl)\n",
    "eval_val = evaluator.evaluate(df_training_pip)\n",
    "print(evaluator.isLargerBetter())\n",
    "print(eval_val)"
   ]
  },
  {
   "cell_type": "code",
   "execution_count": 36,
   "metadata": {},
   "outputs": [
    {
     "name": "stdout",
     "output_type": "stream",
     "text": [
      "+-----+-----------------------------------------+----------+-------------------------------------------------------------------------------------------------------------------------------------------------------------------------------------------------------------------------------------------------------------------------------------------------------------------------------------------------------------------------------------------------------------------------------------------------------------------------------------------------------------------------------------------------------------------------------------------------------------------------------------------------------------------------------------------------------------------------------------------------------------------------------------------------------------------------------------------------------------------------------------------------------------------------------------------------------------------------------------------------------------------------------------------------------------------------------------------------------------------------------------------------------------------------------------------------------------------------------------------------------------------------------+\n",
      "|label|probability                              |prediction|words                                                                                                                                                                                                                                                                                                                                                                                                                                                                                                                                                                                                                                                                                                                                                                                                                                                                                                                                                                                                                                                                                                                                                                                                                                                                          |\n",
      "+-----+-----------------------------------------+----------+-------------------------------------------------------------------------------------------------------------------------------------------------------------------------------------------------------------------------------------------------------------------------------------------------------------------------------------------------------------------------------------------------------------------------------------------------------------------------------------------------------------------------------------------------------------------------------------------------------------------------------------------------------------------------------------------------------------------------------------------------------------------------------------------------------------------------------------------------------------------------------------------------------------------------------------------------------------------------------------------------------------------------------------------------------------------------------------------------------------------------------------------------------------------------------------------------------------------------------------------------------------------------------+\n",
      "|1    |[0.2669653767311911,0.7330346232688089]  |1.0       |[brilliant, acting, lesley, ann, warren, best, dramatic, hobo, lady, ever, seen, love, scenes, clothes, warehouse, second, none, corn, face, classic, good, anything, blazing, saddles, take, lawyers, also, superb, accused, turncoat, selling, boss, dishonest, lawyer, pepto, bolt, shrugs, indifferently, lawyer, says, three, funny, words, jeffrey, tambor, favorite, later, larry, sanders, show, fantastic, mad, millionaire, wants, crush, ghetto, character, malevolent, usual, hospital, scene, scene, homeless, invade, demolition, site, time, classics, look, legs, scene, two, big, diggers, fighting, one, bleeds, movie, gets, better, time, see, quite, often]                                                                                                                                                                                                                                                                                                                                                                                                                                                                                                                                                                                               |\n",
      "|1    |[0.16032522498637944,0.8396747750136205] |1.0       |[easily, underrated, film, inn, brooks, cannon, sure, flawed, give, realistic, view, homelessness, unlike, say, citizen, kane, gave, realistic, view, lounge, singers, titanic, gave, realistic, view, italians, idiots, many, jokes, fall, flat, still, film, lovable, way, many, comedies, pull, story, traditionally, reviled, members, society, truly, impressive, fisher, king, crap, either, complaint, brooks, cast, someone, else, lead, love, mel, director, writer, much, lead]                                                                                                                                                                                                                                                                                                                                                                                                                                                                                                                                                                                                                                                                                                                                                                                      |\n",
      "|1    |[0.4871878834615865,0.5128121165384135]  |1.0       |[yes, art, successfully, make, slow, paced, thriller, nice, 1, time, watch, looking, lay, back, hear, thrilling, short, story]                                                                                                                                                                                                                                                                                                                                                                                                                                                                                                                                                                                                                                                                                                                                                                                                                                                                                                                                                                                                                                                                                                                                                 |\n",
      "|1    |[0.11495188310693552,0.8850481168930644] |1.0       |[critically, acclaimed, psychological, thriller, based, true, events, gabriel, robin, williams, celebrated, writer, late, night, talk, show, host, becomes, captivated, harrowing, story, young, listener, adoptive, mother, toni, collette, troubling, questions, arise, boy, story, however, gabriel, finds, drawn, widening, mystery, hides, deadly, secret, according, film, official, synopsis, night, listener, 1, 21, 06, patrick, stettner, robin, williams, toni, collette, sandra, oh, rory, culkin]                                                                                                                                                                                                                                                                                                                                                                                                                                                                                                                                                                                                                                                                                                                                                                 |\n",
      "|1    |[0.2615683611265049,0.7384316388734952]  |1.0       |[first, read, armistead, maupins, story, taken, human, drama, displayed, gabriel, one, cares, loves, said, given, film, version, excellent, story, expected, see, past, gloss, hollywood]                                                                                                                                                                                                                                                                                                                                                                                                                                                                                                                                                                                                                                                                                                                                                                                                                                                                                                                                                                                                                                                                                      |\n",
      "|1    |[0.06720876683267067,0.9327912331673294] |1.0       |[liked, film, action, scenes, interesting, tense, well, done, especially, liked, opening, scene, semi, truck, tense, action, scene, seemed, well, done, transitional, scenes, filmed, interesting, ways, time, lapse, photography, unusual, colors, interesting, angles, also, film, funny, several, parts, also, liked, evil, guy, portrayed, give, film, 8, 10]                                                                                                                                                                                                                                                                                                                                                                                                                                                                                                                                                                                                                                                                                                                                                                                                                                                                                                              |\n",
      "|1    |[0.21466380812850705,0.785336191871493]  |1.0       |[enjoyed, night, listener, much, one, better, movies, summer, complaint, movie, ending, director, could, left, little, audience, imagination, minor, quibble]                                                                                                                                                                                                                                                                                                                                                                                                                                                                                                                                                                                                                                                                                                                                                                                                                                                                                                                                                                                                                                                                                                                  |\n",
      "|1    |[0.020974992757368964,0.9790250072426311]|1.0       |[night, listener, held, attention, robin, williams, shining, new, york, city, radio, host, becomes, enamored, friendship, 14, year, old, boy, rory, culkin, ill, williams, never, met, boy, person, contact, talking, telephone, however, williams, ex, boyfriend, nice, job, bobby, cannavale, raises, doubt, boy, prompts, williams, arrange, meeting, person, follows, makes, permanent, impact, williams, way, expect, leave, toni, collette, also, stars, enjoyed, film, toni, collette, giving, memorable, portrayal, culkin, adoptive, mother, sandra, oh, also, starred, williams, friend, night, listener, inspired, actual, events, somber, almost, creepy, silence, throughout, times, predictable, thanks, reviews, read, seeing, movie, due, logic, liked, anyway, enjoy, williams, roles, like, comedic, characters, added, bonus, recommended, 8, 10]                                                                                                                                                                                                                                                                                                                                                                                                           |\n",
      "|1    |[0.041978674226923016,0.958021325773077] |1.0       |[popular, radio, storyteller, gabriel, one, robin, williams, scraggy, speaking, hushed, hypnotic, tones, becomes, acquainted, friends, fourteen, year, old, boy, wisconsin, named, pete, logand, rory, culkin, written, book, detailing, sexual, abuse, parents, boot, pete, aids, compels, gabriel, still, since, partner, jess, bobby, cannavale, good, happens, survivor, hiv, based, real, events, happened, armistead, maupin, co, wrote, screenplay, terry, anderson, directed, patrick, stetner, film, moves, lot, faster, 90, min, maybe, minutes, longer, one, might, think, movie, genre, would, run, good, keeps, action, storyline, lean, clear, bad, leaves, various, holes, plot, sew, plot, openings, back, story, rather, go, great, detail, except, say, familiar, mr, maupin, works, personal, story, feel, little, bit, loop, still, performances, williams, would, loved, heard, narration, personally, collette, cannavale, culkin, much, supporting, cast, waitress, restaurant, collete, donna, frequents, great, job, small, part, top, notch, mood, established, namely, chilly, lonely, dark, exteriors, wisconsin, new, york, give, terrific, framing, story, may, ends, tie, together, particularly, well, still, compelling, enough, story, stick]|\n",
      "|1    |[0.3469646407920436,0.6530353592079564]  |1.0       |[one, thing, recommend, film, intriguing, premise, certainly, draws, audience, mystery, throughout, film, hints, something, dark, lurking, however, much, tension, williams, mild, mannered, portrayal, much, makes, us, relate, obsession, boy, one, thing, certain, taupin, must, written, something, truly, good, inspired, least, one, commendable, effort]                                                                                                                                                                                                                                                                                                                                                                                                                                                                                                                                                                                                                                                                                                                                                                                                                                                                                                                |\n",
      "|1    |[0.30531800922733715,0.6946819907726629] |1.0       |[absolutely, loved, film, relate, comments, read, completely, enthralled, every, second, found, many, perfect, choices, made, casting, script, little, bits, humor, sprinkled, many, points, film, could, gone, cheap, thrill, never, put, movie, many, mediocre, thrillers, come, lately, last, number, years]                                                                                                                                                                                                                                                                                                                                                                                                                                                                                                                                                                                                                                                                                                                                                                                                                                                                                                                                                                |\n",
      "|1    |[0.023571557169908636,0.9764284428300914]|1.0       |[somewhat, funny, well, paced, action, thriller, jamie, foxx, hapless, fast, talking, hoodlum, chosen, overly, demanding, u, treasury, agent, david, morse, released, streets, new, york, find, picky, computer, thief, hacker, doug, hutchinson, stole, forty, two, million, dollars, treasury, left, two, guards, shot, dead, foxx, pretty, good, although, character, annoying, beginning, throughout, film, began, catch, hutchinson, marvelous, mastermind, ruthless, john, malkovich, patient, late, laurence, olivier, marathon, man, morse, okay, agent, comes, ingenious, plan, get, whoever, cost]                                                                                                                                                                                                                                                                                                                                                                                                                                                                                                                                                                                                                                                                   |\n",
      "|1    |[0.08230188632826577,0.9176981136717343] |1.0       |[tale, based, two, edgar, allen, poe, pieces, fall, house, usher, dance, death, poem, actually, quite, creepy, beginning, end, similar, old, black, white, movies, people, meet, old, decrepit, house, example, cat, canary, old, dark, house, night, terror, boris, karloff, plays, demented, inventor, life, size, dolls, terrorize, guests, dies, early, film, residents, house, subjected, number, terrifying, experiences, go, much, detail, definitely, must, see, fans, old, dark, house, mysteries, dan, basinger, 8, 10]                                                                                                                                                                                                                                                                                                                                                                                                                                                                                                                                                                                                                                                                                                                                              |\n",
      "|1    |[0.18244047461763493,0.8175595253823651] |1.0       |[aro, tolbukhin, burnt, alive, seven, people, mission, guatemala, 70, also, declared, murdered, another, 16, people, used, kill, pregnant, women, set, fire, rate, 7, 10]                                                                                                                                                                                                                                                                                                                                                                                                                                                                                                                                                                                                                                                                                                                                                                                                                                                                                                                                                                                                                                                                                                      |\n",
      "|1    |[0.22583669145911797,0.774163308540882]  |1.0       |[without, kirsten, miller, project, completed, however, awe, inspiring, beauty, talent, miss, miller, would, definitely, recommend, looked, actors, playing, strong, performance, wagner, dismal, attempt, honor, film, bit, disappointing, scenes, detract, entertained, mostly, criticisms, writing, plot, line, group, talent, assembled, heroic, job, salvaging, disaster, charismatic, miller, delivery, timing, impeccable, believable, plays, fine, line, assertive, bossy, never, offensive, fact, structural, engineer, claims, wish, seen, big, screen, alas, fortunate, rent, lost]                                                                                                                                                                                                                                                                                                                                                                                                                                                                                                                                                                                                                                                                                 |\n",
      "|1    |[0.22351232554156103,0.7764876744584389] |1.0       |[sure, titanic, good, movie, first, time, see, really, see, second, time, opinion, film, definetly, change, first, time, see, movie, see, underlying, love, story, think, ooh, romantic, second, time, one, think, annoying, sit, watching, movie, thinking, n, ship, going, sink, even, impressive, see, several, times, acting, film, bad, definetly, great, either, glad, dicaprio, win, oscar, film, mean, think, anthony, hopkins, denzel, washington, 1, half, good, movie, film, less, 20, million, everyone, suprised, hardly, films, enough, eyes, worst, character, film, kate, winslet, performance, hand, wonderful, also, tink, director, talented, put, film, magnitude, together, one, lesson, learned, movie, many, love, stories, filmmakers, try, add, crummy, romance, every, single, movie, possible, 100, give, film, mere, 71]                                                                                                                                                                                                                                                                                                                                                                                                                           |\n",
      "|1    |[0.4075411714981636,0.5924588285018364]  |1.0       |[saw, movie, stunned, great, movie, movie, think, would, ever, give, 10, star, rating, sure, movie, always, top, 5]                                                                                                                                                                                                                                                                                                                                                                                                                                                                                                                                                                                                                                                                                                                                                                                                                                                                                                                                                                                                                                                                                                                                                            |\n",
      "|1    |[0.47922349980834583,0.5207765001916541] |1.0       |[people, bitch, movie, awful, movies, like, godfather, titanic, greatest, movie, 21st, century, great, acting, directing, effects, music, generally, everything, movie, always, dumped, one, day, one, said, like, world, decided, agree, nothing, wrong, movie, say, movie, heavily, oscar, awarded, movie, time, money, ever, made, ever, sadly, one, underrated, movies, ever, seen, apart, truly, best, movie, time, movies, come, close, like, star, wars, lord, rings, trilogy, anything, masters, hitchcock, spielberg, tim, burton, good, movies, directors, none, match, james, cameron, masterpiece, titanic]                                                                                                                                                                                                                                                                                                                                                                                                                                                                                                                                                                                                                                                        |\n",
      "|1    |[0.20576346250425245,0.7942365374957475] |1.0       |[previously, wrote, loved, titanic, cried, ending, many, times, guy, 60, also, wondered, great, movie, many, awards, applauded, many, critics, given, 7, 0, rating, imdb, com, users]                                                                                                                                                                                                                                                                                                                                                                                                                                                                                                                                                                                                                                                                                                                                                                                                                                                                                                                                                                                                                                                                                          |\n",
      "|1    |[0.031879823124914775,0.9681201768750851]|1.0       |[movie, titanic, makes, much, night, remember, writes, tragic, history, event, always, talked, never, forgotten, criticised, idea, could, ever, make, movie, like, titanic, moving, touching, every, time, watch, could, ever, replace, epic, masterpiece, almost, impossible, guess, much, talk, plot, simple, acting, brilliant, based, true, story, probably, half, consumers, watch, film, share, tears, thanks, un, imaginable, ending, never, forgotten, well, seen, film, missing, something, hesterical, film, idolise, hollywood, could, get, better, moving, film, time, listen, people, see, understand, landmark, surprised, cry]                                                                                                                                                                                                                                                                                                                                                                                                                                                                                                                                                                                                                                  |\n",
      "+-----+-----------------------------------------+----------+-------------------------------------------------------------------------------------------------------------------------------------------------------------------------------------------------------------------------------------------------------------------------------------------------------------------------------------------------------------------------------------------------------------------------------------------------------------------------------------------------------------------------------------------------------------------------------------------------------------------------------------------------------------------------------------------------------------------------------------------------------------------------------------------------------------------------------------------------------------------------------------------------------------------------------------------------------------------------------------------------------------------------------------------------------------------------------------------------------------------------------------------------------------------------------------------------------------------------------------------------------------------------------+\n",
      "only showing top 20 rows\n",
      "\n"
     ]
    }
   ],
   "source": [
    "df_training_pip.filter(df_training_pip.label == df_training_pip.prediction) \\\n",
    "    .select('label', 'probability', 'prediction', 'words').show(truncate=False)"
   ]
  },
  {
   "cell_type": "markdown",
   "metadata": {},
   "source": [
    "## Evaluation of the cross validation model"
   ]
  },
  {
   "cell_type": "code",
   "execution_count": 37,
   "metadata": {},
   "outputs": [],
   "source": [
    "df_test = df_test.drop('featurestf')\n",
    "df_test = df_test.drop('words')"
   ]
  },
  {
   "cell_type": "code",
   "execution_count": 38,
   "metadata": {},
   "outputs": [
    {
     "name": "stdout",
     "output_type": "stream",
     "text": [
      "+------------------------------------------+-----+----------+----------------------------------------------------------------------------------------------------------------------------------------------------------------------------------------------------------------------------------------------------------------------------------------------------------------------------------------------------------------------------------------------------------------------------------------------------------------------------------------------------------------------------------------------------------------------------------------------------------------------------------------------------------------------------------------------------------------------------------------------------------------------------------------------------------------------------------------------------------------------------------------------------------------------------------------------------------------------------------------------------------------------------------------------------------------------------------------------------------------------------------------------------------------------------------------------------------------------------------------------------------------------------------------------------------------------------------------------------------------------------------------------------------------------------------------------------------------------------------------------------------------------------------------------------------------------------------------------------------------------------------------------------------------------------------------------------------------------------------------------------------------------------------------------------------------------------------------------------------------------------------------------------------------------------------------------------------------------------------------------------------------------------------------------------------------------------------------------------------------------------------------------------------------------------------------------------------------------------------------------------------------------------------------------------------------------------------------------------------------------------------------------------------------------------------------------------------------------------------------------------------------------------------------------------------------------------------------------------------------------------------------------------------------------------------------------------------------------------------------------------------------------------------------------------------------------------------------------------------------------------------------------------------------------------------------------------------------------------------------------------------------------------------------------------------------------------------+-------------------------------------------------------------------------------------------------------------------------------------------------------------------------------------------------------------------------------------------------------------------------------------------------------------------------------------------------------------------------------------------------------------------------------------------------------------------------------------------------------------------------------------------------------------------------------------------------------------------------------------------------------------------------------------------------------------------------------------------------------------------------------------------------------------------------------------------------------------------------------------------------------------------------------------------------------------------------------------------------------------------------------------------------------------------------------------------------------------------------------------------------------------------------------------------------------------------------------------------------------------------------------------------------------------------------------------+\n",
      "|probability                               |label|prediction|features                                                                                                                                                                                                                                                                                                                                                                                                                                                                                                                                                                                                                                                                                                                                                                                                                                                                                                                                                                                                                                                                                                                                                                                                                                                                                                                                                                                                                                                                                                                                                                                                                                                                                                                                                                                                                                                                                                                                                                                                                                                                                                                                                                                                                                                                                                                                                                                                                                                                                                                                                                                                                                                                                                                                                                                                                                                                                                                                                                                                                                                                          |words                                                                                                                                                                                                                                                                                                                                                                                                                                                                                                                                                                                                                                                                                                                                                                                                                                                                                                                                                                                                                                                                                                                                                                                                                                                                                                                                |\n",
      "+------------------------------------------+-----+----------+----------------------------------------------------------------------------------------------------------------------------------------------------------------------------------------------------------------------------------------------------------------------------------------------------------------------------------------------------------------------------------------------------------------------------------------------------------------------------------------------------------------------------------------------------------------------------------------------------------------------------------------------------------------------------------------------------------------------------------------------------------------------------------------------------------------------------------------------------------------------------------------------------------------------------------------------------------------------------------------------------------------------------------------------------------------------------------------------------------------------------------------------------------------------------------------------------------------------------------------------------------------------------------------------------------------------------------------------------------------------------------------------------------------------------------------------------------------------------------------------------------------------------------------------------------------------------------------------------------------------------------------------------------------------------------------------------------------------------------------------------------------------------------------------------------------------------------------------------------------------------------------------------------------------------------------------------------------------------------------------------------------------------------------------------------------------------------------------------------------------------------------------------------------------------------------------------------------------------------------------------------------------------------------------------------------------------------------------------------------------------------------------------------------------------------------------------------------------------------------------------------------------------------------------------------------------------------------------------------------------------------------------------------------------------------------------------------------------------------------------------------------------------------------------------------------------------------------------------------------------------------------------------------------------------------------------------------------------------------------------------------------------------------------------------------------------------------+-------------------------------------------------------------------------------------------------------------------------------------------------------------------------------------------------------------------------------------------------------------------------------------------------------------------------------------------------------------------------------------------------------------------------------------------------------------------------------------------------------------------------------------------------------------------------------------------------------------------------------------------------------------------------------------------------------------------------------------------------------------------------------------------------------------------------------------------------------------------------------------------------------------------------------------------------------------------------------------------------------------------------------------------------------------------------------------------------------------------------------------------------------------------------------------------------------------------------------------------------------------------------------------------------------------------------------------+\n",
      "|[0.3954287320399983,0.6045712679600017]   |1    |1.0       |(30000,[1,91,105,129,162,167,192,254,264,304,339,367,443,514,539,625,815,1000,1211,1503,1625,1633,1938,2186,2446,2651,2657,2860,3026,3218,3329,3551,3951,4162,5715,6831,6904,8502,9576,11004,11166,12257,12545,19699,24501],[0.7496371905546636,2.610087553311766,2.7463832877104384,2.7891535456459544,3.0011639239678307,3.056695510548617,3.2198531249326603,3.269977512115229,3.2924238177674954,3.4264673742956595,3.484831915407624,3.5561031640193517,3.760756203935929,3.951510160254481,3.8931976781964255,4.092658744867077,4.630895655741745,4.477070443777408,4.6968018543206815,4.9223814604327725,5.2182268435237145,5.317232367299163,5.505908915975495,5.528009262976161,5.533611518524831,5.615528640992718,5.711448762871457,6.033263841692697,5.961804877710551,6.161518177216375,5.996896197521822,5.903210713444499,6.051955974704849,6.100274551975657,6.954194953123354,6.764151350235489,7.160047007327503,7.07780890909053,7.383190558641712,7.7709560896504755,7.7709560896504755,7.7709560896504755,7.825023310920751,8.518170491480697,8.923635599588861])                                                                                                                                                                                                                                                                                                                                                                                                                                                                                                                                                                                                                                                                                                                                                                                                                                                                                                                                                                                                                                                                                                                                                                                                                                                                                                                                                                                                                                                                                                                                                                                                                                                                                                                                                                                                                                                                                                                                                                                            |[night, listener, 2006, 1, 2, robin, williams, toni, collette, bobby, cannavale, rory, culkin, joe, morton, sandra, oh, john, cullum, lisa, emery, becky, ann, baker, dir, patrick, stettner, however, film, runs, gas, eventually, becomes, bit, repetitive, predictable, despite, finely, directed, piece, hoodwink, mystery, stettner, pays, listen, inner, voice, careful, hope]                                                                                                                                                                                                                                                                                                                                                                                                                                                                                                                                                                                                                                                                                                                                                                                                                                                                                                                                                 |\n",
      "|[0.1003296789581972,0.8996703210418028]   |1    |1.0       |(30000,[0,2,3,4,5,12,15,16,24,27,29,34,45,75,92,94,103,111,117,125,136,139,147,155,159,167,168,170,172,221,233,405,431,446,516,539,552,713,825,882,927,1009,1365,1416,1481,1747,2446,3489,3544,4201,9784,12545,19785],[6.304196402354108,1.6595320691642026,1.094801072000772,1.2799929863706199,1.3945872438147626,3.387110609422807,1.7886119547155643,1.7821265901804988,1.8292624506419644,1.915130417506581,1.9811568845483385,2.0313324251656457,2.227630688091491,2.4679130645312233,2.7776632935568077,2.6564350510474988,2.688571492599287,2.6875922204466045,2.7299107120830937,2.7805235028717394,2.805905576143157,2.8641230717070325,2.96779823012403,2.9887414039692737,3.0011639239678307,3.056695510548617,2.9998255342967077,2.9936032919993805,3.0477689772319256,3.1589670993766634,3.192454150744546,3.6960984151018716,3.723298641401028,3.7927511773410285,3.8547313973686297,3.8931976781964255,3.8899350325616093,4.202164957904609,4.380340817318857,4.375035765089164,4.429396974308052,4.465419826557433,4.832072680328637,4.898283908853712,4.8835125915334,5.094994203099766,5.533611518524831,5.936271575705387,5.9447104443512515,6.120275218682326,7.28140786433177,7.825023310920751,8.41280997582287])                                                                                                                                                                                                                                                                                                                                                                                                                                                                                                                                                                                                                                                                                                                                                                                                                                                                                                                                                                                                                                                                                                                                                                                                                                                                                                                                                                                                                                                                                                                                                                                                                                                                                                                                                                                                                                          |[night, listener, probably, one, william, best, roles, makes, interesting, character, somewhat, odd, different, movie, guarantee, never, seen, kind, movie, people, maybe, like, slow, pacing, movie, think, great, plus, movie, definitely, one, top, movies, come, year, 2006, intriguing, performance, movie, great, content, dramatic, feeling, americanized, movie, neither, predictable, movie, feel, movie, secrets, hard, time, determine, outcome, may, excellent, movie, everything, hell, damn, good, original, movie]                                                                                                                                                                                                                                                                                                                                                                                                                                                                                                                                                                                                                                                                                                                                                                                                    |\n",
      "|[0.15668777493160535,0.8433122250683945]  |1    |1.0       |(30000,[0,2,4,7,12,14,16,24,32,34,72,103,174,180,249,260,686,852,914,1102,1126,1594,2509,2519,2691,8708],[0.6304196402354109,0.8297660345821013,1.2799929863706199,1.4843701056479008,1.6935553047114036,1.6673383598981808,1.7821265901804988,1.8292624506419644,1.9493126096680533,2.0313324251656457,2.4577501106086883,2.688571492599287,3.010132593950591,3.0762338971577434,3.36039314771166,3.300822187466327,4.097992090842439,4.3201334707014665,4.453903384495874,4.5907116779227115,4.588525884702731,5.011612594160715,5.5168980375510905,5.711448762871457,5.5795966317666545,7.348099238830442])                                                                                                                                                                                                                                                                                                                                                                                                                                                                                                                                                                                                                                                                                                                                                                                                                                                                                                                                                                                                                                                                                                                                                                                                                                                                                                                                                                                                                                                                                                                                                                                                                                                                                                                                                                                                                                                                                                                                                                                                                                                                                                                                                                                                                                                                                                                                                                                                                                                                    |[beautiful, touching, movie, rich, colors, great, settings, good, acting, one, charming, movies, seen, never, saw, interesting, setting, china, wife, liked, much, asked, log, rate, would, enjoy]                                                                                                                                                                                                                                                                                                                                                                                                                                                                                                                                                                                                                                                                                                                                                                                                                                                                                                                                                                                                                                                                                                                                   |\n",
      "|[0.020681135362859076,0.979318864637141]  |1    |1.0       |(30000,[1,2,7,10,16,18,23,28,31,38,48,62,78,118,139,145,152,243,244,334,420,422,428,472,602,605,668,811,816,1112,1147,1321,1335,1347,1456,1523,1768,2261,2472,2580,3052,3347,3530,5043,5103,5183,5597,5666,5746,6521,7068,7450,9892,10857,12182,13033,13898,14609,15179,19759,27638,29190,29513],[2.248911571663991,0.8297660345821013,1.4843701056479008,1.588653720717047,1.7821265901804988,1.7366085155149134,1.8485314076148296,1.9252781759244433,1.989725363129873,2.127929824415347,2.2004043009558787,2.4118902699441334,2.5325563580508903,5.630999491354372,2.8641230717070325,2.917693033300226,2.9682301022965816,3.2355309376518897,3.2717313857013255,3.454169976844995,3.959626146832661,3.726981886817325,3.7399811413609645,3.8207250293834347,3.981993176979557,3.977242574220959,4.088677319567892,4.288906611359225,4.2954001406697735,4.586344858756371,14.479551331452106,4.783149881368906,4.81276173541555,4.895312138464554,15.464140313404165,15.146905142113454,5.102266962428846,5.387518900027335,5.457899696789134,5.539245336243087,5.7386613263963415,5.8478606183613335,5.919604523220175,6.358686242127324,6.397906955280606,6.384661728530586,6.49588736364081,6.5257403267904905,6.5257403267904905,6.708061883584445,6.8867536723278215,6.954194953123354,7.314197687154761,7.4195582028125875,7.579900852887767,7.670872631093493,7.7709560896504755,7.942806346577135,7.942806346577135,8.41280997582287,8.923635599588861,9.105957156382816,9.105957156382816])                                                                                                                                                                                                                                                                                                                                                                                                                                                                                                                                                                                                                                                                                                                                                                                                                                                                                                                                                                                                                                                                                                                                                                                                                                                                                                                                                                                                                                                                                                                                                                          |[loved, film, swooning, ed, wood, jr, fan, prefer, appreciate, boundless, enthusiasm, acknowledge, shortcomings, movies, fun, personal, story, one, racked, pain, hoped, delighted, find, film, would, understanding, turbulent, life, rather, simply, heaping, posthumous, praise, beginning, end, film, evolves, documentary, mythology, leaving, cast, viewer, unexpectedly, connected, ed, wood, jr, many, ways, living, contradiction, ed, wood, jr, could, condensed, single, viewpoint, collaborative, effort, closest, knowing, ever, get, juxtaposition, themes, respectful, provocative, thoughtful, gripping, fun, sad, kind, fulfilling]                                                                                                                                                                                                                                                                                                                                                                                                                                                                                                                                                                                                                                                                                 |\n",
      "|[0.49492948207548365,0.5050705179245164]  |1    |1.0       |(30000,[1,2,13,22,31,39,41,46,68,69,109,128,129,132,135,136,155,191,218,243,256,290,323,364,366,398,467,517,568,589,597,601,651,678,689,713,805,813,830,906,932,994,1161,1382,1676,1687,1926,1955,2031,2257,2381,2398,2578,2679,2841,3264,5238,5320,5470,6196,6612,8449,9245,11715,13460,18969,25044],[0.7496371905546636,2.489298103746304,1.772280760725132,1.8262246134535038,1.989725363129873,2.0617497542651786,2.1114738738908545,2.1768318516644865,2.423848558933007,2.4624278738161185,2.723126425546171,2.944749834687739,2.7891535456459544,2.8121682600861826,2.8081114593905685,2.805905576143157,2.9887414039692737,3.13622710142084,3.160013124576643,3.2355309376518897,3.253180129048727,3.3432770404791294,3.496485361197856,7.170593117382677,3.6137190971974724,3.6635394458610224,3.852637155765515,3.9619571502191366,3.927550086507337,3.980803408843968,3.976058441459742,3.9867664557322144,4.104699024099157,4.074212899076325,4.0966560852996965,4.202164957904609,4.606147486052551,4.3085150827476015,4.409119781868901,4.488858399529451,4.425679497907919,4.477070443777408,4.709041909215183,4.823750856991145,5.035222459799849,5.3494190537950645,5.185965981305493,5.335497715276457,5.264356615251216,5.392385089678508,5.447536909753588,5.505908915975495,5.550609094893402,5.591431089413657,5.69151454797064,5.961804877710551,6.466899826767557,6.424935627668525,6.452715191775601,6.637857624911197,6.726411022252642,7.07780890909053,7.218887507350436,8.007344867714707,7.825023310920751,8.518170491480697,8.769484919761602])                                                                                                                                                                                                                                                                                                                                                                                                                                                                                                                                                                                                                                                                                                                                                                                                                                                                                                                                                                                                                                                                                                                                                                                                                                                                                                                                                                                                                                                                                                    |[found, bit, hard, follow, extent, seemed, dip, middle, tried, make, head, tail, fighting, one, problems, cultural, language, one, chinese, taiwanese, japanese, problem, know, little, simply, reading, english, subtitles, inevitably, loose, subtleties, another, problem, seem, many, half, explained, twists, coincidences, nevertheless, seems, unlikely, wholly, bad, miiki, film, certainly, plenty, stylish, bone, crunching, violence, window, upon, less, orthodox, sexual, goings, plus, family, aspect, decent, ride, maybe, checking, storyline, might, actually, helpful, watching, one]                                                                                                                                                                                                                                                                                                                                                                                                                                                                                                                                                                                                                                                                                                                              |\n",
      "|[0.04374633947587871,0.9562536605241213]  |1    |1.0       |(30000,[0,2,6,12,16,17,21,24,25,26,31,34,40,42,54,63,69,71,79,93,98,112,115,116,119,121,136,152,163,176,186,216,233,240,278,283,289,295,310,350,377,381,388,392,396,448,452,462,512,520,563,575,668,669,700,745,793,849,1051,1178,1225,1265,1335,1371,1426,1519,1735,1844,1857,2067,2192,2578,2650,2904,2969,3300,3347,3442,3928,4101,4166,4847,5315,6518,7601,10552,12395,12657,13362,14344,15391,23417,25093],[3.7825178414124654,1.6595320691642026,1.4347826438554017,3.387110609422807,5.346379770541496,1.7472536546901025,1.8553216444841356,3.6585249012839287,3.954601677278498,1.8864615398558269,1.989725363129873,2.0313324251656457,2.095825810783812,2.163027802393025,2.399339348452274,2.428370043651853,2.4624278738161185,2.4663427946456244,2.5930238254103632,2.628984793493133,2.6892248738704896,2.6875922204466045,2.736056173554589,2.7305916790825098,2.7150455734922323,5.496229779749433,2.805905576143157,2.9682301022965816,2.998043796631587,3.01238738633768,3.0496416369552177,3.1306219912047175,6.384908301489092,3.220964853785351,3.3117247788045425,3.4950212320929666,3.3713222182438503,3.3752082334968003,3.4506648908870488,3.5422033263303176,3.6670086600950333,3.8309084167741334,7.525332848384096,3.6748586786009607,3.6370534892592454,3.747485867015032,3.730678748698651,7.569800605730579,3.872711786578494,8.00244907781489,3.91633920675812,3.9185713505420607,4.088677319567892,4.087353692637383,4.12235053467448,8.539350498862676,4.274448528183996,4.488858399529451,4.5776680147306825,4.709041909215183,4.754389729193643,9.802529073983699,4.81276173541555,4.9102600999004276,4.880584331754311,4.931569886487178,5.06642083065571,5.335497715276457,5.1394459656706,21.51142795646239,5.344757040689253,5.550609094893402,5.585496353893842,5.7386613263963415,5.8712079823583245,5.8712079823583245,5.8478606183613335,5.8712079823583245,6.100274551975657,6.120275218682326,6.120275218682326,14.05303122940596,6.424935627668525,6.690043378081767,7.001823002112609,7.457298530795434,7.942806346577135,7.670872631093493,7.719662795262925,23.828419039731404,8.15044571135538,8.63595352713708,9.105957156382816])                                                                                                                                                                                                                                                                                                                                                                                                                                                                                                                                                                                                                                                                                                                                                                                                                                                                                           |[movie, first, miikes, triad, society, trilogy, trilogy, kicks, great, start, movies, trilogy, connected, thematically, themes, actually, apparent, films, look, close, enough, shinjuku, triad, society, cop, trying, prevent, kid, brother, getting, involved, rather, extreme, gang, outsiders, struggling, way, top, tokyos, yakuza, kid, brother, lawyer, triad, gang, becoming, increasingly, need, one, movie, progresses, movie, takes, place, harsh, environment, therefore, pretty, violent, tough, miike, done, worse, since, serious, movie, hits, hard, usual, also, lot, perverted, sex, mostly, homosexual, one, movie, many, ways, typical, gangster, movie, great, drive, true, grittiness, seen, miikes, far, movies, ichi, killer, fudoh, etc, worth, checking, since, sort, compromise, aggressive, top, style, displayed, movies, serious, side, seen, films, trilogy, always, miike, least, two, scenes, never, forget, see, figure, ones, 8, 10]                                                                                                                                                                                                                                                                                                                                                              |\n",
      "|[0.1583539120067864,0.8416460879932136]   |1    |1.0       |(30000,[0,1,3,4,18,20,21,28,34,36,39,40,48,60,62,63,84,98,107,133,154,176,189,216,227,244,260,270,278,341,353,368,410,411,440,490,495,563,585,733,774,793,829,839,1238,1526,1548,1648,2042,2184,2730,4638,5136,5878,14729],[0.6304196402354109,0.7496371905546636,1.094801072000772,1.2799929863706199,1.7366085155149134,1.7752898556887937,1.8553216444841356,1.9252781759244433,2.0313324251656457,2.0749228612405073,2.0617497542651786,2.095825810783812,4.400808601911757,2.438745943395056,2.4118902699441334,2.428370043651853,2.6859622282356734,2.6892248738704896,2.699407257789679,2.781239835280594,2.9967095736184506,3.01238738633768,6.133310559721347,3.1306219912047175,3.2049645124389095,3.2717313857013255,3.300822187466327,3.3117247788045425,3.3117247788045425,3.529250764294591,3.5262273303965936,3.5844962385205696,3.681007138901413,3.6757347189548404,3.7427888175151627,3.811647811232318,3.8463806181512097,3.91633920675812,8.130232040458989,4.280848550029463,4.229234279872827,4.274448528183996,4.292148105283396,4.313477872089731,4.709041909215183,4.947074073023144,4.982053791919171,5.021662930014217,5.260073953459215,5.387518900027335,5.646490866596685,6.261047772563408,6.358686242127324,13.20904240928721,7.942806346577135])                                                                                                                                                                                                                                                                                                                                                                                                                                                                                                                                                                                                                                                                                                                                                                                                                                                                                                                                                                                                                                                                                                                                                                                                                                                                                                                                                                                                                                                                                                                                                                                                                                                                                                                                                                                                 |[know, romantic, comedy, genre, ending, already, known, two, leads, always, get, together, late, third, act, trying, figure, wrap, end, together, clue, given, right, start, never, realize, end, simple, hook, works, cover, lot, usual, ground, takes, fresh, spin, ever, possible, liked, ny, characters, loved, locations, postcard, ny, also, nice, watch, film, find, anything, offensive, like, good, old, fashion, romantic, movie]                                                                                                                                                                                                                                                                                                                                                                                                                                                                                                                                                                                                                                                                                                                                                                                                                                                                                          |\n",
      "|[0.0031510564098738538,0.996848943590126] |1    |1.0       |(30000,[1,2,4,5,7,21,24,25,28,31,41,44,45,51,58,64,86,94,102,125,170,193,205,233,254,290,292,312,333,339,359,361,374,441,474,489,491,514,598,604,642,672,701,731,775,809,893,932,949,963,964,1029,1050,1057,1060,1078,1139,1175,1227,1232,1568,1595,1699,1738,1783,1840,1933,1948,1981,2030,2339,2345,2372,2552,2565,2634,2638,2711,2731,2780,2812,2821,3036,3190,3358,3419,3617,3688,3732,3800,3891,3985,5214,5522,5567,5887,6341,6416,6544,7216,7249,7505,7550,7762,7803,7963,8280,8414,8648,8660,8894,10373,10819,11140,11506,11563,12417,14472,15148,15302,15719,15781,16028,16309,20075,21520,21759,24448,25195,29471],[0.7496371905546636,0.8297660345821013,1.2799929863706199,2.7891744876295252,2.9687402112958017,1.8553216444841356,1.8292624506419644,3.954601677278498,3.8505563518488866,1.989725363129873,2.1114738738908545,2.1475087630851606,2.227630688091491,2.307570414456044,2.413129273943548,2.451031739085249,2.876263420542583,2.6564350510474988,2.68628801419718,2.7805235028717394,2.9936032919993805,3.05480960711366,3.133165874540455,3.192454150744546,3.269977512115229,3.3432770404791294,3.4028415707143185,3.4928290499947456,3.462632650763729,3.484831915407624,3.574149946466425,3.559218431336301,7.146716988220227,3.810644298855078,3.8166805344869283,3.821738714214281,3.9619571502191366,3.951510160254481,3.995174913681621,8.13282103758428,4.086031815379467,4.380340817318857,4.157197266004648,4.170045408482497,8.52669222875938,4.2586254132447525,4.354092591243921,4.425679497907919,4.42012906737727,4.440633047574978,4.484913621238435,4.512859551628994,9.478088319037965,4.539527798711155,4.57335766322956,4.706581883374321,4.646969480572806,4.756970375787135,4.713980190855766,4.860323146614489,4.988547321229719,5.028419712477096,5.07704039948317,5.08418328699555,5.354102903107491,5.143241036639152,10.444667250952735,5.251563263791306,5.377856989115598,5.255809554672757,11.318298526937216,5.4789531059869665,5.528009262976161,5.5168980375510905,5.533611518524831,5.597401256400161,5.5563397696023875,5.718182795052801,5.6339907038324535,5.65280003578995,5.817555268866005,5.65280003578995,5.773752646207612,5.8401977456157645,6.193606491767876,5.903210713444499,5.961804877710551,6.061434718659393,6.005864867504582,5.996896197521822,6.024047186587772,6.04256623435501,6.424935627668525,6.572260342425383,6.481288564219657,6.654952058270497,6.690043378081767,6.690043378081767,6.690043378081767,13.773507344655643,7.02651561470298,6.8867536723278215,6.954194953123354,6.954194953123354,6.977725450533548,7.104477156172692,7.28140786433177,7.104477156172692,7.218887507350436,7.104477156172692,7.218887507350436,7.496519243948716,7.457298530795434,7.457298530795434,7.496519243948716,22.612023715406913,15.248705230917201,26.770906798766582,8.076337739201657,7.942806346577135,8.007344867714707,8.007344867714707,8.007344867714707,8.317499796018545,8.41280997582287,8.63595352713708,8.518170491480697,8.769484919761602,8.769484919761602,9.105957156382816])|[rumors, memorable, entry, wartime, series, instructional, cartoons, starring, private, snafu, films, aimed, servicemen, directed, animated, scored, top, talent, warner, bros, termite, terrace, including, friz, freleng, chuck, jones, carl, stalling, invaluable, mel, blanc, supplied, voice, snafu, stories, rhyming, narration, many, films, supplied, theodor, geisel, e, dr, seuss, idea, convey, basic, concepts, humor, vivid, imagery, using, character, snafu, perfect, negative, example, dope, little, twerp, would, everything, supposed, according, chuck, jones, scripts, approved, pentagon, officials, army, brass, also, permitted, animators, unusual, amount, freedom, concerning, language, bawdy, jokes, certainly, theatrical, censorship, time, would, allow, greater, good, course, highly, effective, piece, work, filmmakers, dramatized, theme, wit, startling, energy, message, still, valid, one, recent, years, seen, catastrophic, events, real, imagined, breed, kinds, wild, rumors, spread, rapidly, ever, thanks, communication, advances, technology, improved, private, snafus, time, able, broadcast, balloon, juice, via, e, mail, cellphones, blogging, consequently, rumors, rare, example, wartime, educational, film, whose, essential, message, feel, dated, fact, may, timely, ever]|\n",
      "|[0.29127699864637546,0.7087230013536245]  |1    |1.0       |(30000,[0,2,3,4,11,12,14,17,19,21,26,37,43,48,52,54,68,80,99,102,111,138,146,151,154,161,185,251,272,275,277,288,300,334,346,396,481,498,533,568,625,671,734,748,758,927,972,1082,1530,3299,3935,4199,7312,16174,17861,22969,24933],[1.8912589207062327,0.8297660345821013,1.094801072000772,1.2799929863706199,1.5900680711676902,1.6935553047114036,1.6673383598981808,1.7472536546901025,1.731328141163871,1.8553216444841356,3.7729230797116537,2.0478871167418107,2.1168062391966846,2.2004043009558787,2.322405480859985,2.399339348452274,2.423848558933007,2.5924303535828557,2.6627802500013495,2.68628801419718,2.6875922204466045,2.8448472243092042,3.2612539906702374,8.682458955880076,11.986838294473802,3.088337651797983,3.03199138776309,3.2491675126014354,3.239489099449519,3.3426487024125877,3.30686450192229,3.3426487024125877,6.779175132442287,3.454169976844995,6.990042464185933,3.6370534892592454,11.660048991525697,15.435732336889318,3.8610405665618943,3.927550086507337,4.092658744867077,4.084711683174545,4.180153797803258,4.321804314866284,4.4164458219609735,4.429396974308052,4.579830177735177,9.172689717512743,5.1318987600352175,12.32303635443275,12.641891828288955,6.172100286546912,13.773507344655643,8.230488419028916,8.769484919761602,8.63595352713708,9.105957156382816])                                                                                                                                                                                                                                                                                                                                                                                                                                                                                                                                                                                                                                                                                                                                                                                                                                                                                                                                                                                                                                                                                                                                                                                                                                                                                                                                                                                                                                                                                                                                                                                                                                                                                                                                                 |[, de, grot, terrific, dutch, thriller, based, book, written, tim, krabbé, another, books, het, gouden, ei, made, great, dutch, mystery, thriller, called, spoorloos, vanishing, 1988, one, good, thriller, although, much, better, american, remake, also, called, vanishing, times, comes, close, title, means, cave, cave, gives, movie, happy, ending, although, fact, happy, like, beginning, ending, terrific, middle, part, movie, entertaining, way, distracts, attention, first, scenes, come, back, point, end, editing, gives, movie, happy, ending, although, say, dramatic, ending, happy, way, well]                                                                                                                                                                                                                                                                                                                                                                                                                                                                                                                                                                                                                                                                                                                   |\n",
      "|[0.03335510801028355,0.9666448919897164]  |1    |1.0       |(30000,[0,1,4,6,9,10,12,21,22,32,35,39,41,45,48,52,64,74,85,92,100,109,129,137,147,148,154,158,168,185,233,260,278,299,481,490,504,569,575,585,677,750,758,817,933,1027,1034,1088,1239,1382,1440,1530,1809,2066,2386,2433,2484,2737,2778,3802,7312,10253,12539,14333,14633,16174,17861,23477,24933],[1.2608392804708217,1.4992743811093272,1.2799929863706199,2.8695652877108033,1.554034879062452,3.177307441434094,1.6935553047114036,1.8553216444841356,1.8262246134535038,1.9493126096680533,4.080687585570197,2.0617497542651786,2.1114738738908545,2.227630688091491,2.2004043009558787,2.322405480859985,2.451031739085249,2.468437036248739,2.5457755070930657,2.7776632935568077,2.7666566140033058,2.723126425546171,5.578307091291909,2.8015083539608345,2.96779823012403,5.750951417608667,2.9967095736184506,5.952942622754918,2.9998255342967077,3.03199138776309,3.192454150744546,3.300822187466327,3.3117247788045425,3.4374564958712543,3.886682997175232,3.811647811232318,4.042097101049262,3.9963819144316566,3.9185713505420607,4.065116020229494,4.076827279650396,4.233817939540486,13.24933746588292,4.3454940859886895,14.141940572567298,4.603927729314238,4.523032579342044,4.601712888984685,4.7189429801978955,4.823750856991145,4.863192589042442,5.1318987600352175,5.154713437801388,5.290445051335514,5.442395510253169,5.495039243738591,5.522438217926706,5.640221253583089,5.817555268866005,5.988007250104576,6.8867536723278215,7.348099238830442,7.7709560896504755,7.825023310920751,16.82561995164574,8.230488419028916,8.769484919761602,9.616782780148807,9.105957156382816])                                                                                                                                                                                                                                                                                                                                                                                                                                                                                                                                                                                                                                                                                                                                                                                                                                                                                                                                                                                                                                                                                                                                                                                                                                                                                                                                                                                                                                                         |[de, grot, good, film, great, plot, comes, novel, tim, krabbé, also, adapted, story, screen, really, top, class, acting, van, huêt, especially, marcel, hensema, mostly, tv, work, prior, performance, axel, van, de, graaf, film, seems, kick, thriller, sets, excellent, mood, start, learn, egon, wagter, axel, van, de, graaf, story, revealed, bit, bit, compelling, flash, back, structure, adds, romantic, aspect, character, driven, drama, movie, end, culminates, emotional, ending, grab, audiences, throats, make, sure, know, little, possible, plot, going, see, movie, must, see, especially, liked, spoorloos, vanishing, original, screen, adaptation]                                                                                                                                                                                                                                                                                                                                                                                                                                                                                                                                                                                                                                                              |\n",
      "|[0.5329234108660145,0.4670765891339855]   |1    |0.0       |(30000,[0,24,28,31,39,70,112,272,274,419,512,644,971,1181],[0.6304196402354109,1.8292624506419644,1.9252781759244433,1.989725363129873,2.0617497542651786,2.4700106006961695,2.6875922204466045,3.239489099449519,3.373263338232195,3.691636114078473,3.872711786578494,4.047166820399513,4.459645027063549,4.651609860129308])                                                                                                                                                                                                                                                                                                                                                                                                                                                                                                                                                                                                                                                                                                                                                                                                                                                                                                                                                                                                                                                                                                                                                                                                                                                                                                                                                                                                                                                                                                                                                                                                                                                                                                                                                                                                                                                                                                                                                                                                                                                                                                                                                                                                                                                                                                                                                                                                                                                                                                                                                                                                                                                                                                                                                   |[, mean, literally, seen, every, movie, ever, created, least, obviously, among, ones, many, know]                                                                                                                                                                                                                                                                                                                                                                                                                                                                                                                                                                                                                                                                                                                                                                                                                                                                                                                                                                                                                                                                                                                                                                                                                                    |\n",
      "|[0.27762629949464057,0.7223737005053593]  |1    |1.0       |(30000,[1,3,7,11,28,39,43,54,57,58,59,61,71,91,116,137,184,210,284,353,389,631,720,755,1068,1144,1963,2439,3292,3300,3421,3482,4073,4241,4722,5150,6327,12181,14576],[1.4992743811093272,1.094801072000772,1.4843701056479008,1.5900680711676902,1.9252781759244433,2.0617497542651786,2.1168062391966846,2.399339348452274,2.3536867802410737,4.826258547887096,2.4773868195985136,2.4273635010404515,2.4663427946456244,2.610087553311766,2.7305916790825098,2.8015083539608345,3.0366060706177627,3.1423778127643693,3.3363869411886116,3.5262273303965936,3.636210674207248,4.078137037532459,4.203649739172189,4.2508067651269545,4.6423505347165115,5.120683689215077,5.238931516885406,5.457899696789134,5.825045940595162,5.8712079823583245,6.024047186587772,6.261047772563408,6.080666080587281,6.3209459141444775,6.43872894980086,6.424935627668525,13.380086756163534,7.579900852887767,7.8821817247607004])                                                                                                                                                                                                                                                                                                                                                                                                                                                                                                                                                                                                                                                                                                                                                                                                                                                                                                                                                                                                                                                                                                                                                                                                                                                                                                                                                                                                                                                                                                                                                                                                                                                                                                                                                                                                                                                                                                                                                                                                                                                                                                                                                        |[say, film, hasnt, already, said, well, tell, truth, alot, looks, fake, like, slaps, kicks, charlie, sheen, though, real, dont, know, im, sure, would, hitting, kicking, alot, harder, however, scenes, pinching, hot, oil, look, real, final, needle, eye, scene, amazingly, done, probibly, thing, film, ever, shocked]                                                                                                                                                                                                                                                                                                                                                                                                                                                                                                                                                                                                                                                                                                                                                                                                                                                                                                                                                                                                            |\n",
      "|[0.07253591901137313,0.9274640809886269]  |1    |1.0       |(30000,[3,4,10,17,20,33,34,40,42,44,71,78,101,145,160,162,172,281,296,311,392,393,427,538,547,606,611,656,674,1163,1238,1257,1292,1478,1657,2275,2626,2722,4015,4193,5455,7127,9279,12406,12738,14210,22990],[1.094801072000772,1.2799929863706199,1.588653720717047,3.494507309380205,1.7752898556887937,2.3742233216461535,2.0313324251656457,2.095825810783812,2.163027802393025,2.1475087630851606,2.4663427946456244,2.5325563580508903,2.6730170636436363,2.917693033300226,3.0449665466262235,3.0011639239678307,6.095537954463851,6.700429885591808,3.4176267862855365,3.4513649259173866,3.6748586786009607,3.6514911073448477,3.7050832015096873,3.8964710035413948,4.106045825649535,4.152950975123196,4.165744326583106,4.407296627307385,4.062532039463569,4.670389754780905,4.709041909215183,4.7189429801978955,4.799193006209481,4.9012645369918495,5.021662930014217,16.651827284680206,5.609449594916335,5.627798733584532,6.2727438123266,6.161518177216375,6.466899826767557,7.104477156172692,7.189034544200755,7.670872631093493,8.076337739201657,7.825023310920751,8.769484919761602])                                                                                                                                                                                                                                                                                                                                                                                                                                                                                                                                                                                                                                                                                                                                                                                                                                                                                                                                                                                                                                                                                                                                                                                                                                                                                                                                                                                                                                                                                                                                                                                                                                                                                                                                                                                                                                                                                                                                                                    |[rating, refers, first, 4, seasons, stargate, sg, 1, wonderfully, fresh, creative, addicting, cast, stepped, gate, never, knew, lay, side, starting, around, season, 5, show, took, different, focus, still, good, different, sci, fi, fan, watch, episodes, first, 4, seasons, likely, hooked, like, evolving, story, lines, two, opposing, sides, 10, seasons, shows, look, forward]                                                                                                                                                                                                                                                                                                                                                                                                                                                                                                                                                                                                                                                                                                                                                                                                                                                                                                                                               |\n",
      "|[0.03491835664754962,0.9650816433524503]  |1    |1.0       |(30000,[0,1,4,25,30,47,58,75,78,81,107,135,143,144,154,165,197,244,293,318,325,344,369,372,405,528,563,578,593,620,669,815,825,829,908,1004,1094,1277,1431,1433,1453,1496,1558,1651,1716,1725,1770,1826,1856,1858,1920,2027,2088,2454,2613,2728,3191,3235,3402,3653,3693,3915,4186,4370,4881,5503,7166,7615,8058,8113,8697,11671,14691,17468,19681],[1.2608392804708217,1.4992743811093272,2.5599859727412397,1.977300838639249,2.0807744605247143,2.3080167434078853,2.413129273943548,2.4679130645312233,2.5325563580508903,2.625605893027597,2.699407257789679,5.616222918781137,2.8981722833087495,2.889351055297951,5.993419147236901,2.97429597878155,3.114492609274834,3.2717313857013255,3.3869577159217545,3.447869640988744,3.464759556918236,7.00767667100623,3.5545491621526173,3.5925284102178336,3.6960984151018716,3.9584626795693625,7.83267841351624,3.9446056449079365,4.233817939540486,4.0573840229461675,4.087353692637383,4.630895655741745,4.380340817318857,4.292148105283396,4.378569337670475,4.494804898717177,4.5907116779227115,4.75181572519847,4.874753411443518,4.895312138464554,4.895312138464554,4.925434897919663,5.2992946666124965,5.120683689215077,5.059403257997063,5.105923273631957,5.277315759893721,5.154713437801388,5.2860494398624756,5.214136858272189,5.206006732188939,5.230598135326261,5.573731512314256,5.463121640770287,5.752550438557009,5.597401256400161,11.576282767319423,5.7954141429887915,5.903210713444499,6.424935627668525,6.345947216349895,6.18279557566366,6.120275218682326,6.193606491767876,6.3209459141444775,6.5257403267904905,6.82357477070629,6.977725450533548,14.839116405625175,7.314197687154761,14.320094014655005,7.8821817247607004,16.46097683805783,8.15044571135538,8.41280997582287])                                                                                                                                                                                                                                                                                                                                                                                                                                                                                                                                                                                                                                                                                                                                                                                                                                                                                                                                                                                                                                                                                                                                                                                                                                                                                                    |[typical, mamet, film, delivers, quiet, evenly, paced, insight, makes, confidence, man, joe, mantegna, good, explored, psychological, study, noted, psychologist, lindsay, crouse, slowly, pulls, world, usual, nasty, consequences, cast, includes, number, players, found, several, mamet, films, steven, goldstein, jack, wallace, ricky, jay, andy, potok, allen, soule, william, h, macy, usual, good, job, loved, lindsay, crouse, film, often, wondered, become, noted, player, become, perhaps, looking, right, places, movie, proceeds, slow, pace, flat, dialog, yet, maintains, level, tension, throughout, logically, leads, bang, ending, expect, real, let, ending, found, uplifting, satisfying, love, movie]                                                                                                                                                                                                                                                                                                                                                                                                                                                                                                                                                                                                         |\n",
      "|[0.06921005511634097,0.9307899448836591]  |1    |1.0       |(30000,[1,4,5,7,37,44,52,56,59,73,89,91,105,134,142,178,196,197,204,215,223,265,272,371,380,413,419,549,578,618,655,699,703,705,728,751,847,964,1054,1055,1155,1169,1188,1465,1520,1599,1645,1767,1780,1815,1930,2146,2234,2432,2556,2723,3020,3028,3272,3276,3389,3522,3554,3849,3852,4548,4870,4895,4936,5325,5448,6291,7103,8381,8421,8878,8984,9017,11183,11773,12078,12568,13360,13781,13829,13833,16298,19093,19472,20910,24466,27487,27606],[1.4992743811093272,1.2799929863706199,2.7891744876295252,2.9687402112958017,2.0478871167418107,2.1475087630851606,2.322405480859985,2.3725552645454564,2.4773868195985136,2.5300448456382294,2.712366402432184,2.610087553311766,2.7463832877104384,2.832325717511163,2.859850390901253,3.0762338971577434,3.0723914332561986,3.114492609274834,3.127071391481694,6.6953729928850905,3.217079198049935,3.322747548095293,3.239489099449519,3.6863075046672544,18.4894446293783,3.695204360504991,3.691636114078473,3.911889811208578,3.9446056449079365,4.145913648402621,4.063823195227189,4.36276567249735,4.355821200144539,4.12784505399212,4.152950975123196,4.190365410973454,4.383893218923225,4.484913621238435,4.552080264782275,4.756970375787135,4.63317615844047,4.6423505347165115,40.58790398303042,4.931569886487178,5.001662263307547,4.985295285843342,5.210063532884553,10.436453687047429,5.143241036639152,5.22645734266023,5.201966322651934,5.354102903107491,5.615528640992718,5.48428645196233,5.627798733584532,5.659149263468608,5.745581769240916,5.7386613263963415,5.810120290378487,6.249486950162333,5.8401977456157645,37.925675484866865,6.249486950162333,6.061434718659393,5.996896197521822,6.654952058270497,6.411329975612746,6.308675821552663,6.358686242127324,6.452715191775601,47.48498605264813,6.654952058270497,6.844194057909025,7.131876130360806,7.104477156172692,7.28140786433177,7.218887507350436,7.348099238830442,7.457298530795434,7.53734123846897,7.6243526154586005,7.670872631093493,7.719662795262925,7.7709560896504755,7.825023310920751,7.825023310920751,8.15044571135538,8.317499796018545,9.105957156382816,8.518170491480697,8.769484919761602,8.923635599588861,8.923635599588861])                                                                                                                                                                                                                                                                                                                                                                                                                                                                                                                                                                                                                                                                                                                                                                                                                                                                      |[, bruce, almighty, sweep, academy, awards, record, 14, oscar, wins, surpass, titanic, highest, grossing, film, time, jim, carrey, illustriousness, supreme, level, announce, presidential, candidacy, 2004, white, house, playoffs, almighty, grandeur, fantasies, would, transpire, filmmakers, carrey, included, would, possess, powers, god, premise, paramount, ingredient, carrey, new, laugh, riot, bruce, almighty, carrey, plays, bruce, nolan, televison, reporter, utterly, obsessed, main, anchor, holds, god, total, culpability, contretemps, god, heavenly, played, morgan, freeman, grants, bruce, gift, god, powers, order, challenge, god, job, better, obviously, bruce, gets, carreyed, away, newfound, blissful, faculties, uses, selfishly, carrey, back, habitual, almighty, comedic, form, bruce, almighty, jennifer, aniston, mis, pittiful, bruce, girlfriend, however, premier, kudos, goes, director, tom, shadyac, letting, dog, house, 2, showing, us, hilarious, doggoned, bathroom, scene, time, bruce, almighty, depth, carrey, film, still, almighty, chuckling, exhibition, carreyism, good]                                                                                                                                                                                                      |\n",
      "|[0.0014140234976912894,0.9985859765023087]|1    |1.0       |(30000,[0,2,4,12,16,21,22,32,33,44,58,60,84,94,115,123,143,237,250,299,314,368,395,435,464,489,502,516,604,656,708,712,786,844,927,954,967,969,989,1002,1014,1055,1095,1176,1179,1188,1216,1516,1559,1645,1718,1735,1750,1804,1937,2234,2292,2463,3078,3276,3429,3492,3522,3547,3828,3865,4027,4289,4471,4607,5575,6487,7166,7533,7854,8460,8510,8878,9315],[1.8912589207062327,0.8297660345821013,2.5599859727412397,1.6935553047114036,1.7821265901804988,1.8553216444841356,1.8262246134535038,1.9493126096680533,2.3742233216461535,2.1475087630851606,2.413129273943548,2.438745943395056,2.6859622282356734,2.6564350510474988,2.736056173554589,2.7748112417126727,2.8981722833087495,3.1973308875838384,9.691394356581764,3.4374564958712543,6.8762946843708646,3.5844962385205696,7.313273832596503,3.760756203935929,3.7790523329828667,3.821738714214281,3.8823633360307155,3.8547313973686297,4.06641051879214,4.407296627307385,4.115524569604079,8.29744527802735,4.315137623508095,4.333579051410818,8.858793948616103,4.446298785110654,4.455813604751993,4.431260907746114,4.477070443777408,4.543694471406001,4.475119223646146,9.51394075157427,4.597297870775568,4.672762235134535,4.754389729193643,5.073487997878803,4.713980190855766,4.925434897919663,5.031815301478234,5.210063532884553,5.062905888548266,5.06642083065571,5.243124395145442,5.135665242830694,5.2347561454749245,5.615528640992718,5.41209016075784,5.48428645196233,5.759568011215656,6.249486950162333,5.8951135032118795,5.903210713444499,25.28378365657791,5.936271575705387,5.996896197521822,6.100274551975657,6.071004169675543,6.161518177216375,6.18279557566366,6.249486950162333,6.481288564219657,6.708061883584445,6.82357477070629,6.908732579046596,6.954194953123354,7.051833422687269,7.131876130360806,7.28140786433177,7.218887507350436])                                                                                                                                                                                                                                                                                                                                                                                                                                                                                                                                                                                                                                                                                                                                                                                                                                                                                                                                                                                                                                                                                                                                                                                                                        |[jim, carrey, morgan, freeman, along, jennifer, aniston, combine, make, one, funniest, movies, far, 2003, season, late, may, good, improvement, carrey, past, crazy, personally, forgetable, roles, past, comedies, slightly, toned, carrey, antics, yet, zap, crackle, old, self, carrey, powerfully, carries, movie, height, laughter, also, dramatic, tearfully, somber, moments, elements, jim, real, acting, abilities, continue, show, movie, delightful, summer, entertainment, hits, buttons, including, dramatic, elements, along, goofy, moments, fit, perfectly, script, still, lacking, superbly, polished, ensemble, comedy, drama, bruce, almightly, deserves, credit, great, date, movie, along, solid, message, soft, spiritual, cynicism, parody, maintains, good, natured, taste, eight, ten, stars]                                                                                                                                                                                                                                                                                                                                                                                                                                                                                                               |\n",
      "|[0.1391905146932641,0.860809485306736]    |1    |1.0       |(30000,[1,3,5,9,10,15,17,24,31,34,44,58,77,81,98,130,135,164,178,187,207,248,258,297,302,316,335,344,349,362,374,385,390,448,497,498,530,549,558,565,587,627,700,715,738,858,891,907,921,930,1069,1070,1123,1272,1325,1573,1711,1720,1726,1763,1828,1846,1950,2007,2120,2155,2203,2205,2356,2494,2524,2533,2636,2657,3131,3190,4074,4472,4766,4882,5073,5186,5392,6199,7039,7662,8406,9102,9456,10258,10489,11093,12520,12789,13392,15234,18960,22234,22886],[2.9985487622186544,2.189602144001544,1.3945872438147626,1.554034879062452,3.177307441434094,7.154447818862257,1.7472536546901025,1.8292624506419644,3.979450726259746,2.0313324251656457,2.1475087630851606,2.413129273943548,2.49337863161472,2.625605893027597,2.6892248738704896,2.872723593837459,2.8081114593905685,3.0854193617891266,3.0762338971577434,10.170738332584023,3.1000967289911014,3.220964853785351,3.427150667796792,6.792385220098135,3.4683144842311595,10.396408596296785,3.4913702605310855,3.503838335503115,3.5561031640193517,3.546815171552881,3.5733584941101135,3.6046989458380887,15.242577195420312,3.747485867015032,3.8599862702069885,3.8589330842223295,4.027040354870154,3.911889811208578,4.059954718449268,3.959626146832661,4.028286460950402,4.065116020229494,4.12235053467448,4.12784505399212,4.144512106477332,4.33188843393291,4.410946266394935,4.398230382069633,4.520989677712244,4.63317615844047,4.772595693690215,4.5776680147306825,4.615076116796852,4.972391881007434,4.801892063178646,5.128146410416667,5.08418328699555,5.128146410416667,5.128146410416667,5.105923273631957,5.154713437801388,5.29486006954463,5.2729773582951225,5.260073953459215,5.432191340078927,5.344757040689253,5.8478606183613335,5.382676275551547,5.437280409586399,22.84579505148583,5.5168980375510905,5.505908915975495,5.780921135686224,5.711448762871457,6.024047186587772,5.8401977456157645,6.071004169675543,12.905430383551202,6.3333684341430345,6.345947216349895,6.397906955280606,6.411329975612746,6.452715191775601,6.844194057909025,6.865247467106857,6.977725450533548,7.07780890909053,7.189034544200755,7.496519243948716,7.496519243948716,7.383190558641712,7.457298530795434,7.825023310920751,7.942806346577135,7.7709560896504755,7.942806346577135,8.518170491480697,8.518170491480697,18.211914312765632])                                                                                                                                                                                                                                                                                                                                                                                                                                                                                                                                                                                                                                                                                                                                       |[never, viewed, film, recently, tcm, found, story, concerning, poland, small, town, suffer, nazi, occupation, local, towns, like, many, european, cities, example, norway, first, world, war, people, town, still, suffering, lost, soldiers, wounded, war, always, creates, alexander, knox, wilhelm, gimm, gorky, park, returns, war, lost, leg, former, school, teacher, town, brought, german, happy, polish, people, turn, fully, accept, either, hitler, party, grew, power, wilhelm, grimm, desired, become, nazi, order, return, punish, small, polish, town, treatment, towards, really, mind, marsha, hunt, marja, pacierkowski, chloe, prayer, played, outstanding, role, woman, lost, husband, romantically, involved, whilhelm, gimm, many, flashbacks, real, truths, nazi, destroyed, people, families, entire, lives, cattle, cars, shown, picture, jewish, people, heading, nazi, gas, chambers, seen, film, like, subject, matter, give, time, film, earth, 1944, film, story, forget, quickly]                                                                                                                                                                                                                                                                                                                     |\n",
      "|[0.32020775050488687,0.6797922494951132]  |1    |1.0       |(30000,[0,3,4,7,13,16,47,52,62,72,84,213,214,218,249,252,333,403,411,451,499,520,544,694,724,758,822,1117,1187,1190,1270,1344,1662,1878,1979,2491,2708,3081,3085,3227,3409,3832,4441,4507,5465,6560,7176,8939,10462,11830,19838,29616],[0.6304196402354109,1.094801072000772,1.2799929863706199,1.4843701056479008,1.772280760725132,5.346379770541496,2.3080167434078853,2.322405480859985,2.4118902699441334,2.4577501106086883,2.6859622282356734,3.2924238177674954,3.1470158009803937,3.160013124576643,3.36039314771166,3.343905773602639,3.462632650763729,7.713660068051102,3.6757347189548404,3.7578976979399648,3.8247859486697497,4.001224538907445,3.936610171131739,4.152950975123196,4.552080264782275,4.4164458219609735,4.33188843393291,4.608372181074662,4.804598424776389,4.687116548586218,4.871850651785556,4.793816649173101,5.00828480406804,5.321767522464555,5.238931516885406,5.603407280460373,5.7881413836597115,5.8401977456157645,5.802740183080864,6.080666080587281,5.863364804897299,6.024047186587772,6.215585398486651,6.745103155264794,6.49588736364081,6.908732579046596,6.908732579046596,7.131876130360806,7.579900852887767,7.579900852887767,8.518170491480697,9.105957156382816])                                                                                                                                                                                                                                                                                                                                                                                                                                                                                                                                                                                                                                                                                                                                                                                                                                                                                                                                                                                                                                                                                                                                                                                                                                                                                                                                                                                                                                                                                                                                                                                                                                                                                                                                                                                                                                                      |[saw, trailer, afro, promo, collection, movie, trailers, movies, featuring, african, americans, looked, like, highly, tendentious, wacky, comedy, uptight, black, man, realizes, son, gay, would, seem, redd, foxx, rf, wife, left, brother, works, store, back, phoenix, taken, bus, visit, son, norman, los, angeles, hey, check, cinema, de, merde, website, bad, cheesy, movies, good, movies, thrown, find, url, email, address]                                                                                                                                                                                                                                                                                                                                                                                                                                                                                                                                                                                                                                                                                                                                                                                                                                                                                                |\n",
      "|[0.18877492197029533,0.8112250780297047]  |1    |1.0       |(30000,[0,1,2,10,28,44,47,50,110,112,142,156,163,185,288,292,311,373,381,449,521,574,638,701,843,870,1040,1151,1159,1162,1253,1460,1492,1602,1663,1707,1808,1832,1974,2127,2148,2452,2470,2788,2836,3305,3599,4294,4403,4487,4647,4721,4915,5611,6049,6351,8525,8877,10676,11982,13333,14258,19348,26235],[0.6304196402354109,0.7496371905546636,0.8297660345821013,3.177307441434094,1.9252781759244433,2.1475087630851606,2.3080167434078853,2.2511808021915654,2.6895517246660128,2.6875922204466045,2.859850390901253,2.941379991566189,5.996087593263174,3.03199138776309,3.3426487024125877,3.4028415707143185,3.4513649259173866,3.723298641401028,3.8309084167741334,3.7966998497964446,3.862095975630838,8.15889702626054,4.045896978959037,4.157197266004648,4.350644311965005,4.401847022539821,4.5353784151643435,4.628620341904609,9.257240683809218,4.713980190855766,4.733980857562436,5.021662930014217,5.035222459799849,5.1394459656706,5.062905888548266,5.06642083065571,5.120683689215077,5.2347561454749245,5.2347561454749245,5.29486006954463,5.317232367299163,5.457899696789134,5.457899696789134,5.627798733584532,5.640221253583089,6.061434718659393,5.988007250104576,6.172100286546912,6.161518177216375,6.345947216349895,6.308675821552663,6.2727438123266,6.424935627668525,6.5257403267904905,6.588260683771825,6.654952058270497,7.189034544200755,7.348099238830442,7.825023310920751,7.579900852887767,7.825023310920751,8.007344867714707,8.317499796018545,8.923635599588861])                                                                                                                                                                                                                                                                                                                                                                                                                                                                                                                                                                                                                                                                                                                                                                                                                                                                                                                                                                                                                                                                                                                                                                                                                                                                                                                                                                                                                                                                                                                                                            |[review, contains, spoilers, aware, details, true, story, movie, based, regardless, accuracy, portrayal, story, something, comment, wider, theme, film, ring, horribly, true, anyone, passing, knowledge, british, popular, press, ruthless, habit, appealing, directly, readership, least, charitable, instincts, legal, system, ever, perfect, current, cry, asylum, seekers, contemporary, british, tabloids, comes, exactly, pit, evil, voices, put, lindy, chamberlain, away, religious, man, bible, still, contains, killer, lines, excuse, pun, judge, lest, ye, judged, one]                                                                                                                                                                                                                                                                                                                                                                                                                                                                                                                                                                                                                                                                                                                                                 |\n",
      "|[0.05941058948070974,0.9405894105192902]  |1    |1.0       |(30000,[2,11,29,49,53,80,90,96,130,147,167,179,185,192,196,223,238,251,286,317,318,363,418,430,477,522,541,567,642,704,855,1217,1304,1340,1361,1496,1623,1651,1674,1679,1737,1812,2032,2134,2485,2851,2996,2998,3461,4596,5999,6736,7995,8541,23582],[0.8297660345821013,1.5900680711676902,1.9811568845483385,2.2461324111582286,2.4198465525911526,2.5924303535828557,2.641680427707059,2.7227884164167064,2.872723593837459,2.96779823012403,3.056695510548617,3.0695192436321026,3.03199138776309,3.2198531249326603,3.0723914332561986,3.217079198049935,3.2215211820333574,3.2491675126014354,3.3407660535979713,7.119997533840364,3.447869640988744,3.5828975171568724,3.867389794240553,3.741852049296776,3.9152250005147167,7.884629386322762,3.91633920675812,3.943459512977314,4.086031815379467,4.382115440677226,4.330200669819191,4.8835125915334,4.76475251622919,4.823750856991145,4.820992234552065,4.925434897919663,5.045514145836396,5.120683689215077,5.087773955126279,5.158567007117378,5.308223297356798,5.128146410416667,5.317232367299163,5.377856989115598,5.522438217926706,5.759568011215656,5.879113161865438,5.711448762871457,5.887081331514615,6.345947216349895,7.02651561470298,6.80337206338877,7.07780890909053,7.131876130360806,17.27190705427416])                                                                                                                                                                                                                                                                                                                                                                                                                                                                                                                                                                                                                                                                                                                                                                                                                                                                                                                                                                                                                                                                                                                                                                                                                                                                                                                                                                                                                                                                                                                                                                                                                                                                                                                                                                                       |[country, boy, aussie, rules, player, mat, goes, city, night, important, afl, trial, match, picked, cousin, things, go, wrong, accomplished, western, australian, professional, shakespearean, actor, toby, malone, puts, sterling, performance, young, naive, country, boy, mat, successfully, plays, part, well, age, best, support, comes, john, batchelor, tiny, entertaining, role, david, ngoombujarra, one, cops, following, events, roll, fast, paced, often, funny, worthwhile, use, hour]                                                                                                                                                                                                                                                                                                                                                                                                                                                                                                                                                                                                                                                                                                                                                                                                                                  |\n",
      "+------------------------------------------+-----+----------+----------------------------------------------------------------------------------------------------------------------------------------------------------------------------------------------------------------------------------------------------------------------------------------------------------------------------------------------------------------------------------------------------------------------------------------------------------------------------------------------------------------------------------------------------------------------------------------------------------------------------------------------------------------------------------------------------------------------------------------------------------------------------------------------------------------------------------------------------------------------------------------------------------------------------------------------------------------------------------------------------------------------------------------------------------------------------------------------------------------------------------------------------------------------------------------------------------------------------------------------------------------------------------------------------------------------------------------------------------------------------------------------------------------------------------------------------------------------------------------------------------------------------------------------------------------------------------------------------------------------------------------------------------------------------------------------------------------------------------------------------------------------------------------------------------------------------------------------------------------------------------------------------------------------------------------------------------------------------------------------------------------------------------------------------------------------------------------------------------------------------------------------------------------------------------------------------------------------------------------------------------------------------------------------------------------------------------------------------------------------------------------------------------------------------------------------------------------------------------------------------------------------------------------------------------------------------------------------------------------------------------------------------------------------------------------------------------------------------------------------------------------------------------------------------------------------------------------------------------------------------------------------------------------------------------------------------------------------------------------------------------------------------------------------------------------------------------+-------------------------------------------------------------------------------------------------------------------------------------------------------------------------------------------------------------------------------------------------------------------------------------------------------------------------------------------------------------------------------------------------------------------------------------------------------------------------------------------------------------------------------------------------------------------------------------------------------------------------------------------------------------------------------------------------------------------------------------------------------------------------------------------------------------------------------------------------------------------------------------------------------------------------------------------------------------------------------------------------------------------------------------------------------------------------------------------------------------------------------------------------------------------------------------------------------------------------------------------------------------------------------------------------------------------------------------+\n",
      "only showing top 20 rows\n",
      "\n"
     ]
    }
   ],
   "source": [
    "# Prepare data.\n",
    "df_test_tmp = df_test.withColumnRenamed('reviewpolarity','label')\n",
    "df_test_ppl = transform_html_clean(df_test_tmp, 'textclean')\n",
    "\n",
    "# Make prediction.\n",
    "df_test_res = model_best.transform(df_test_ppl)\n",
    "df_test_res.select('probability', 'label','prediction', 'features', 'words').show(truncate=False)"
   ]
  },
  {
   "cell_type": "code",
   "execution_count": 39,
   "metadata": {},
   "outputs": [
    {
     "name": "stdout",
     "output_type": "stream",
     "text": [
      "0.9327871499041959\n"
     ]
    }
   ],
   "source": [
    "print(evaluator.evaluate(df_test_res))\n",
    "# df_test_res.filter(df_test_res.label == df_test_res.prediction) \\\n",
    "#     .select('label', 'probability', 'prediction', 'features', 'words').show()"
   ]
  },
  {
   "cell_type": "markdown",
   "metadata": {},
   "source": [
    "# Confusion Matrix"
   ]
  },
  {
   "cell_type": "code",
   "execution_count": 40,
   "metadata": {},
   "outputs": [
    {
     "name": "stdout",
     "output_type": "stream",
     "text": [
      "[[21893.   732.]\n",
      " [  691. 21727.]]\n",
      "\n",
      "0.9691765545543759\n",
      "0.032353591160221\n"
     ]
    }
   ],
   "source": [
    "from pyspark.mllib.evaluation import MulticlassMetrics\n",
    "\n",
    "rdd_training_pip = df_training_pip.select('prediction', 'label').rdd.map(lambda row: (row[0], float(row[1])))\n",
    "rdd_training_pip.take(2)\n",
    "\n",
    "# print(rdd_training_pip.toDF().toPandas().shape)\n",
    "\n",
    "metrics = MulticlassMetrics(rdd_training_pip)\n",
    "print(metrics.confusionMatrix().toArray())\n",
    "print()\n",
    "print(metrics.truePositiveRate(1.0))\n",
    "print(metrics.falsePositiveRate(1.0))"
   ]
  },
  {
   "cell_type": "markdown",
   "metadata": {},
   "source": [
    "# Receiver Operating Characteristics (ROC)"
   ]
  },
  {
   "cell_type": "code",
   "execution_count": 41,
   "metadata": {},
   "outputs": [
    {
     "data": {
      "text/plain": [
       "LogisticRegression_40848686d4c30e2b55c0"
      ]
     },
     "execution_count": 41,
     "metadata": {},
     "output_type": "execute_result"
    }
   ],
   "source": [
    "cvModel.bestModel.stages[-1]"
   ]
  },
  {
   "cell_type": "code",
   "execution_count": 42,
   "metadata": {
    "scrolled": true
   },
   "outputs": [
    {
     "name": "stdout",
     "output_type": "stream",
     "text": [
      "+--------------------+--------------------+\n",
      "|                 FPR|                 TPR|\n",
      "+--------------------+--------------------+\n",
      "|                 0.0|                 0.0|\n",
      "|                 0.0|0.019894727451155322|\n",
      "|                 0.0| 0.03987866892675528|\n",
      "|                 0.0| 0.05986261040235525|\n",
      "|                 0.0| 0.07980194486573289|\n",
      "|                 0.0| 0.09974127932911053|\n",
      "|                 0.0| 0.11968061379248818|\n",
      "|                 0.0|  0.1395753412436435|\n",
      "|                 0.0| 0.15969310375591042|\n",
      "|                 0.0| 0.17976625925595505|\n",
      "|                 0.0| 0.19988402176822195|\n",
      "|                 0.0|  0.2198233562315996|\n",
      "|                 0.0| 0.23994111874386653|\n",
      "|                 0.0| 0.24127932911053618|\n",
      "|                 0.0| 0.26130787759835844|\n",
      "|                 0.0| 0.28133642608618076|\n",
      "|                 0.0|   0.301364974574003|\n",
      "|                 0.0| 0.32143813007404765|\n",
      "|4.419889502762431E-5|  0.3413774645374253|\n",
      "|4.419889502762431E-5| 0.36131679900080294|\n",
      "+--------------------+--------------------+\n",
      "only showing top 20 rows\n",
      "\n"
     ]
    }
   ],
   "source": [
    "from pyspark.ml.classification import LogisticRegressionSummary\n",
    "\n",
    "# Get the Logistic regression model to get the summary.\n",
    "summary = cvModel.bestModel.stages[-1].summary\n",
    "summary.roc.show()"
   ]
  },
  {
   "cell_type": "markdown",
   "metadata": {},
   "source": [
    "# Plot the ROC"
   ]
  },
  {
   "cell_type": "code",
   "execution_count": 43,
   "metadata": {},
   "outputs": [
    {
     "data": {
      "image/png": "[encoded data removed]",
      "text/plain": [
       "<Figure size 432x288 with 1 Axes>"
      ]
     },
     "metadata": {
      "needs_background": "light"
     },
     "output_type": "display_data"
    }
   ],
   "source": [
    "import matplotlib.pyplot as plt\n",
    "\n",
    "# As defined by IPython matplotlib kernel\n",
    "# https://ipython.readthedocs.io/en/stable/interactive/plotting.html#id1\n",
    "%matplotlib inline\n",
    "\n",
    "aPlt = summary.roc.toPandas().plot(x='FPR', y='TPR', colormap='winter_r')\n",
    "plt.plot([0.0, 1.0], [0.0, 1.0], linestyle='--', color='black')\n",
    "plt.show()"
   ]
  },
  {
   "cell_type": "markdown",
   "metadata": {},
   "source": [
    "# Stochastic Gradient Descent for online and out-of-core learning Using scikit-learn"
   ]
  },
  {
   "cell_type": "code",
   "execution_count": 44,
   "metadata": {},
   "outputs": [
    {
     "name": "stdout",
     "output_type": "stream",
     "text": [
      "50000 entries from the CSV file\n"
     ]
    }
   ],
   "source": [
    "# Use the df_csv loaded earlier.\n",
    "print(\"%s entries from the CSV file\" % df_csv.count())"
   ]
  },
  {
   "cell_type": "code",
   "execution_count": 45,
   "metadata": {},
   "outputs": [],
   "source": [
    "# Define a generator to load the data from the file simulating a streaming.\n",
    "ttl = 100000\n",
    "file_csv = os.path.join(base_path, (\"aclImdb_%s.csv\" % ttl))\n",
    "\n",
    "def stream_doc():\n",
    "    with open(file_csv, 'r', encoding='utf-8') as csv:\n",
    "        # skip header.\n",
    "        next(csv)\n",
    "        \n",
    "        for line in csv:\n",
    "            cells = line.split(',')\n",
    "#             datasettype,filename,datetimecreated,reviewid,reviewpolarity,reviewrating,text = cells[0], \\\n",
    "#             cells[1], cells[2], cells[3], cells[4], cells[5], \",\".join(cells[6:]).strip()\n",
    "\n",
    "            filename,reviewpolarity,text = cells[1], cells[4], \",\".join(cells[6:]).strip()\n",
    "\n",
    "            yield filename,reviewpolarity,text"
   ]
  },
  {
   "cell_type": "code",
   "execution_count": 46,
   "metadata": {},
   "outputs": [
    {
     "name": "stdout",
     "output_type": "stream",
     "text": [
      "('1821_4.txt', '0', '\"Alan Rickman & Emma Thompson give good performances with southern/New Orleans accents in this detective flick. It\\'s worth seeing for their scenes- and Rickman\\'s scene with Hal Holbrook. These three actors mannage to entertain us no matter what the movie, it seems. The plot for the movie shows potential, but one gets the impression in watching the film that it was not pulled off as well as it could have been. The fact that it is cluttered by a rather uninteresting subplot and mostly uninteresting kidnappers really muddles things. The movie is worth a view- if for nothing more than entertaining performances by Rickman, Thompson, and Holbrook.\"')\n",
      "('9487_1.txt', '0', 'I have seen this movie and I did not care for this movie anyhow. I would not think about going to Paris because I do not like this country and its national capital. I do not like to learn french anyhow because I do not understand their language. Why would I go to France when I rather go to Germany or the United Kingdom? Germany and the United Kingdom are the nations I tolerate. Apparently the Olsen Twins do not understand the French language just like me. Therefore I will not bother the France trip no matter what. I might as well stick to the United Kingdom and meet single women and play video games if there is a video arcade. That is all.')\n"
     ]
    }
   ],
   "source": [
    "generator = stream_doc()\n",
    "print(next(generator))\n",
    "print(next(generator))"
   ]
  },
  {
   "cell_type": "code",
   "execution_count": 47,
   "metadata": {},
   "outputs": [],
   "source": [
    "# This function returns a number of documents (id, text) and their label from the doc stream.\n",
    "def get_mini_batch(doc_stream, size):\n",
    "    docs, y = [], []\n",
    "    try:\n",
    "        for _ in range(size):\n",
    "            filename,reviewpolarity,text = next(doc_stream)\n",
    "            docs.append([filename, text])\n",
    "            y.append(int(reviewpolarity))\n",
    "    except StopIteration:\n",
    "        return docs, y\n",
    "    \n",
    "    return docs, y"
   ]
  },
  {
   "cell_type": "code",
   "execution_count": 48,
   "metadata": {},
   "outputs": [
    {
     "data": {
      "text/plain": [
       "([['1821_4.txt',\n",
       "   '\"Alan Rickman & Emma Thompson give good performances with southern/New Orleans accents in this detective flick. It\\'s worth seeing for their scenes- and Rickman\\'s scene with Hal Holbrook. These three actors mannage to entertain us no matter what the movie, it seems. The plot for the movie shows potential, but one gets the impression in watching the film that it was not pulled off as well as it could have been. The fact that it is cluttered by a rather uninteresting subplot and mostly uninteresting kidnappers really muddles things. The movie is worth a view- if for nothing more than entertaining performances by Rickman, Thompson, and Holbrook.\"'],\n",
       "  ['9487_1.txt',\n",
       "   'I have seen this movie and I did not care for this movie anyhow. I would not think about going to Paris because I do not like this country and its national capital. I do not like to learn french anyhow because I do not understand their language. Why would I go to France when I rather go to Germany or the United Kingdom? Germany and the United Kingdom are the nations I tolerate. Apparently the Olsen Twins do not understand the French language just like me. Therefore I will not bother the France trip no matter what. I might as well stick to the United Kingdom and meet single women and play video games if there is a video arcade. That is all.']],\n",
       " [0, 0])"
      ]
     },
     "execution_count": 48,
     "metadata": {},
     "output_type": "execute_result"
    }
   ],
   "source": [
    "# Check the function we just wrote.\n",
    "get_mini_batch(stream_doc(), 2)"
   ]
  },
  {
   "cell_type": "markdown",
   "metadata": {},
   "source": [
    "# Example of SciKit Learn data set"
   ]
  },
  {
   "cell_type": "code",
   "execution_count": 49,
   "metadata": {},
   "outputs": [
    {
     "name": "stdout",
     "output_type": "stream",
     "text": [
      "<class 'numpy.ndarray'>\n"
     ]
    }
   ],
   "source": [
    "from sklearn.datasets import load_boston\n",
    "# from scipy.sparse.csr import csr_matrix\n",
    "\n",
    "boston = load_boston()\n",
    "print(type(boston.data[:]))"
   ]
  },
  {
   "cell_type": "code",
   "execution_count": 50,
   "metadata": {},
   "outputs": [],
   "source": [
    "# Create a pipeline.\n",
    "from pyspark.ml import Pipeline\n",
    "from pyspark.ml.classification import LogisticRegression \n",
    "from pyspark.ml.evaluation import BinaryClassificationEvaluator , RegressionEvaluator\n",
    "from pyspark.ml.feature import StopWordsRemover, HashingTF, Tokenizer\n",
    "from pyspark.ml.tuning import CrossValidator, ParamGridBuilder\n",
    "\n",
    "# Define the stages.\n",
    "tokenizer = Tokenizer(inputCol=\"textclean\", outputCol=\"words_tknz\")\n",
    "remover = StopWordsRemover(inputCol=tokenizer.getOutputCol(), outputCol=\"words\", stopWords=stopwords_set)\n",
    "\n",
    "# The idea is to create a features vector from a list of words.\n",
    "\n",
    "# 1) Use this hashing Term Frequency.\n",
    "hashingTF = HashingTF(inputCol=remover.getOutputCol(), outputCol=\"features\")\n",
    "\n",
    "# Create the pipeline.\n",
    "pipeline = Pipeline(stages=[tokenizer, remover, hashingTF])\n",
    "\n",
    "# The evaluator of each models.\n",
    "# evaluator = RegressionEvaluator(metricName=\"r2\")\n",
    "evaluator = BinaryClassificationEvaluator()"
   ]
  },
  {
   "cell_type": "markdown",
   "metadata": {},
   "source": [
    "# Stochastic Gradient Descent Using scikit-learn"
   ]
  },
  {
   "cell_type": "code",
   "execution_count": 52,
   "metadata": {},
   "outputs": [
    {
     "name": "stdout",
     "output_type": "stream",
     "text": [
      "range 0\n"
     ]
    },
    {
     "name": "stderr",
     "output_type": "stream",
     "text": [
      "/Users/hujol/anaconda3/lib/python3.6/site-packages/ipykernel/__main__.py:25: FutureWarning: Method .as_matrix will be removed in a future version. Use .values instead.\n"
     ]
    },
    {
     "name": "stdout",
     "output_type": "stream",
     "text": [
      "range 1\n",
      "range 2\n"
     ]
    },
    {
     "ename": "Py4JJavaError",
     "evalue": "An error occurred while calling o15746.collectToPython.\n: org.apache.spark.SparkException: Job aborted due to stage failure: Task 0 in stage 1397.0 failed 1 times, most recent failure: Lost task 0.0 in stage 1397.0 (TID 7206, localhost, executor driver): java.net.SocketException: Socket is closed\n\tat java.net.Socket.getInputStream(Socket.java:903)\n\tat org.apache.spark.api.python.BasePythonRunner.compute(PythonRunner.scala:109)\n\tat org.apache.spark.api.python.PythonRDD.compute(PythonRDD.scala:67)\n\tat org.apache.spark.rdd.RDD.computeOrReadCheckpoint(RDD.scala:324)\n\tat org.apache.spark.rdd.RDD.iterator(RDD.scala:288)\n\tat org.apache.spark.rdd.MapPartitionsRDD.compute(MapPartitionsRDD.scala:49)\n\tat org.apache.spark.rdd.RDD.computeOrReadCheckpoint(RDD.scala:324)\n\tat org.apache.spark.rdd.RDD.iterator(RDD.scala:288)\n\tat org.apache.spark.rdd.MapPartitionsRDD.compute(MapPartitionsRDD.scala:49)\n\tat org.apache.spark.rdd.RDD.computeOrReadCheckpoint(RDD.scala:324)\n\tat org.apache.spark.rdd.RDD.iterator(RDD.scala:288)\n\tat org.apache.spark.rdd.MapPartitionsRDD.compute(MapPartitionsRDD.scala:49)\n\tat org.apache.spark.rdd.RDD.computeOrReadCheckpoint(RDD.scala:324)\n\tat org.apache.spark.rdd.RDD.iterator(RDD.scala:288)\n\tat org.apache.spark.rdd.MapPartitionsRDD.compute(MapPartitionsRDD.scala:49)\n\tat org.apache.spark.rdd.RDD.computeOrReadCheckpoint(RDD.scala:324)\n\tat org.apache.spark.rdd.RDD.iterator(RDD.scala:288)\n\tat org.apache.spark.rdd.MapPartitionsRDD.compute(MapPartitionsRDD.scala:49)\n\tat org.apache.spark.rdd.RDD.computeOrReadCheckpoint(RDD.scala:324)\n\tat org.apache.spark.rdd.RDD.iterator(RDD.scala:288)\n\tat org.apache.spark.rdd.MapPartitionsRDD.compute(MapPartitionsRDD.scala:49)\n\tat org.apache.spark.rdd.RDD.computeOrReadCheckpoint(RDD.scala:324)\n\tat org.apache.spark.rdd.RDD.iterator(RDD.scala:288)\n\tat org.apache.spark.scheduler.ResultTask.runTask(ResultTask.scala:87)\n\tat org.apache.spark.scheduler.Task.run(Task.scala:109)\n\tat org.apache.spark.executor.Executor$TaskRunner.run(Executor.scala:345)\n\tat java.util.concurrent.ThreadPoolExecutor.runWorker(ThreadPoolExecutor.java:1142)\n\tat java.util.concurrent.ThreadPoolExecutor$Worker.run(ThreadPoolExecutor.java:617)\n\tat java.lang.Thread.run(Thread.java:748)\n\nDriver stacktrace:\n\tat org.apache.spark.scheduler.DAGScheduler.org$apache$spark$scheduler$DAGScheduler$$failJobAndIndependentStages(DAGScheduler.scala:1651)\n\tat org.apache.spark.scheduler.DAGScheduler$$anonfun$abortStage$1.apply(DAGScheduler.scala:1639)\n\tat org.apache.spark.scheduler.DAGScheduler$$anonfun$abortStage$1.apply(DAGScheduler.scala:1638)\n\tat scala.collection.mutable.ResizableArray$class.foreach(ResizableArray.scala:59)\n\tat scala.collection.mutable.ArrayBuffer.foreach(ArrayBuffer.scala:48)\n\tat org.apache.spark.scheduler.DAGScheduler.abortStage(DAGScheduler.scala:1638)\n\tat org.apache.spark.scheduler.DAGScheduler$$anonfun$handleTaskSetFailed$1.apply(DAGScheduler.scala:831)\n\tat org.apache.spark.scheduler.DAGScheduler$$anonfun$handleTaskSetFailed$1.apply(DAGScheduler.scala:831)\n\tat scala.Option.foreach(Option.scala:257)\n\tat org.apache.spark.scheduler.DAGScheduler.handleTaskSetFailed(DAGScheduler.scala:831)\n\tat org.apache.spark.scheduler.DAGSchedulerEventProcessLoop.doOnReceive(DAGScheduler.scala:1872)\n\tat org.apache.spark.scheduler.DAGSchedulerEventProcessLoop.onReceive(DAGScheduler.scala:1821)\n\tat org.apache.spark.scheduler.DAGSchedulerEventProcessLoop.onReceive(DAGScheduler.scala:1810)\n\tat org.apache.spark.util.EventLoop$$anon$1.run(EventLoop.scala:48)\n\tat org.apache.spark.scheduler.DAGScheduler.runJob(DAGScheduler.scala:642)\n\tat org.apache.spark.SparkContext.runJob(SparkContext.scala:2034)\n\tat org.apache.spark.SparkContext.runJob(SparkContext.scala:2055)\n\tat org.apache.spark.SparkContext.runJob(SparkContext.scala:2074)\n\tat org.apache.spark.SparkContext.runJob(SparkContext.scala:2099)\n\tat org.apache.spark.rdd.RDD$$anonfun$collect$1.apply(RDD.scala:945)\n\tat org.apache.spark.rdd.RDDOperationScope$.withScope(RDDOperationScope.scala:151)\n\tat org.apache.spark.rdd.RDDOperationScope$.withScope(RDDOperationScope.scala:112)\n\tat org.apache.spark.rdd.RDD.withScope(RDD.scala:363)\n\tat org.apache.spark.rdd.RDD.collect(RDD.scala:944)\n\tat org.apache.spark.sql.execution.SparkPlan.executeCollect(SparkPlan.scala:297)\n\tat org.apache.spark.sql.Dataset$$anonfun$collectToPython$1.apply(Dataset.scala:3200)\n\tat org.apache.spark.sql.Dataset$$anonfun$collectToPython$1.apply(Dataset.scala:3197)\n\tat org.apache.spark.sql.Dataset$$anonfun$52.apply(Dataset.scala:3259)\n\tat org.apache.spark.sql.execution.SQLExecution$.withNewExecutionId(SQLExecution.scala:77)\n\tat org.apache.spark.sql.Dataset.withAction(Dataset.scala:3258)\n\tat org.apache.spark.sql.Dataset.collectToPython(Dataset.scala:3197)\n\tat sun.reflect.NativeMethodAccessorImpl.invoke0(Native Method)\n\tat sun.reflect.NativeMethodAccessorImpl.invoke(NativeMethodAccessorImpl.java:62)\n\tat sun.reflect.DelegatingMethodAccessorImpl.invoke(DelegatingMethodAccessorImpl.java:43)\n\tat java.lang.reflect.Method.invoke(Method.java:498)\n\tat py4j.reflection.MethodInvoker.invoke(MethodInvoker.java:244)\n\tat py4j.reflection.ReflectionEngine.invoke(ReflectionEngine.java:357)\n\tat py4j.Gateway.invoke(Gateway.java:282)\n\tat py4j.commands.AbstractCommand.invokeMethod(AbstractCommand.java:132)\n\tat py4j.commands.CallCommand.execute(CallCommand.java:79)\n\tat py4j.GatewayConnection.run(GatewayConnection.java:238)\n\tat java.lang.Thread.run(Thread.java:748)\nCaused by: java.net.SocketException: Socket is closed\n\tat java.net.Socket.getInputStream(Socket.java:903)\n\tat org.apache.spark.api.python.BasePythonRunner.compute(PythonRunner.scala:109)\n\tat org.apache.spark.api.python.PythonRDD.compute(PythonRDD.scala:67)\n\tat org.apache.spark.rdd.RDD.computeOrReadCheckpoint(RDD.scala:324)\n\tat org.apache.spark.rdd.RDD.iterator(RDD.scala:288)\n\tat org.apache.spark.rdd.MapPartitionsRDD.compute(MapPartitionsRDD.scala:49)\n\tat org.apache.spark.rdd.RDD.computeOrReadCheckpoint(RDD.scala:324)\n\tat org.apache.spark.rdd.RDD.iterator(RDD.scala:288)\n\tat org.apache.spark.rdd.MapPartitionsRDD.compute(MapPartitionsRDD.scala:49)\n\tat org.apache.spark.rdd.RDD.computeOrReadCheckpoint(RDD.scala:324)\n\tat org.apache.spark.rdd.RDD.iterator(RDD.scala:288)\n\tat org.apache.spark.rdd.MapPartitionsRDD.compute(MapPartitionsRDD.scala:49)\n\tat org.apache.spark.rdd.RDD.computeOrReadCheckpoint(RDD.scala:324)\n\tat org.apache.spark.rdd.RDD.iterator(RDD.scala:288)\n\tat org.apache.spark.rdd.MapPartitionsRDD.compute(MapPartitionsRDD.scala:49)\n\tat org.apache.spark.rdd.RDD.computeOrReadCheckpoint(RDD.scala:324)\n\tat org.apache.spark.rdd.RDD.iterator(RDD.scala:288)\n\tat org.apache.spark.rdd.MapPartitionsRDD.compute(MapPartitionsRDD.scala:49)\n\tat org.apache.spark.rdd.RDD.computeOrReadCheckpoint(RDD.scala:324)\n\tat org.apache.spark.rdd.RDD.iterator(RDD.scala:288)\n\tat org.apache.spark.rdd.MapPartitionsRDD.compute(MapPartitionsRDD.scala:49)\n\tat org.apache.spark.rdd.RDD.computeOrReadCheckpoint(RDD.scala:324)\n\tat org.apache.spark.rdd.RDD.iterator(RDD.scala:288)\n\tat org.apache.spark.scheduler.ResultTask.runTask(ResultTask.scala:87)\n\tat org.apache.spark.scheduler.Task.run(Task.scala:109)\n\tat org.apache.spark.executor.Executor$TaskRunner.run(Executor.scala:345)\n\tat java.util.concurrent.ThreadPoolExecutor.runWorker(ThreadPoolExecutor.java:1142)\n\tat java.util.concurrent.ThreadPoolExecutor$Worker.run(ThreadPoolExecutor.java:617)\n\t... 1 more\n",
     "output_type": "error",
     "traceback": [
      "\u001b[0;31m---------------------------------------------------------------------------\u001b[0m",
      "\u001b[0;31mPy4JJavaError\u001b[0m                             Traceback (most recent call last)",
      "\u001b[0;32m<ipython-input-52-eb9050c247d1>\u001b[0m in \u001b[0;36m<module>\u001b[0;34m()\u001b[0m\n\u001b[1;32m     40\u001b[0m \u001b[0;32mfor\u001b[0m \u001b[0mi\u001b[0m \u001b[0;32min\u001b[0m \u001b[0mrange\u001b[0m\u001b[0;34m(\u001b[0m\u001b[0;36m45\u001b[0m\u001b[0;34m)\u001b[0m\u001b[0;34m:\u001b[0m\u001b[0;34m\u001b[0m\u001b[0m\n\u001b[1;32m     41\u001b[0m     \u001b[0mprint\u001b[0m\u001b[0;34m(\u001b[0m\u001b[0;34m\"range %i\"\u001b[0m \u001b[0;34m%\u001b[0m \u001b[0mi\u001b[0m\u001b[0;34m)\u001b[0m\u001b[0;34m\u001b[0m\u001b[0m\n\u001b[0;32m---> 42\u001b[0;31m     \u001b[0mX_train\u001b[0m\u001b[0;34m,\u001b[0m \u001b[0my_labels_train\u001b[0m \u001b[0;34m=\u001b[0m \u001b[0mgenerate_X_y_labels\u001b[0m\u001b[0;34m(\u001b[0m\u001b[0;36m1000\u001b[0m\u001b[0;34m)\u001b[0m\u001b[0;34m\u001b[0m\u001b[0m\n\u001b[0m\u001b[1;32m     43\u001b[0m     \u001b[0;32mif\u001b[0m \u001b[0;32mnot\u001b[0m \u001b[0mlen\u001b[0m\u001b[0;34m(\u001b[0m\u001b[0mX_train\u001b[0m\u001b[0;34m)\u001b[0m\u001b[0;34m:\u001b[0m \u001b[0;32mbreak\u001b[0m\u001b[0;34m\u001b[0m\u001b[0m\n\u001b[1;32m     44\u001b[0m \u001b[0;34m\u001b[0m\u001b[0m\n",
      "\u001b[0;32m<ipython-input-52-eb9050c247d1>\u001b[0m in \u001b[0;36mgenerate_X_y_labels\u001b[0;34m(size)\u001b[0m\n\u001b[1;32m     23\u001b[0m \u001b[0;34m\u001b[0m\u001b[0m\n\u001b[1;32m     24\u001b[0m     \u001b[0;31m# Let's get the right shape for the SparseVector data into numpy arrays.\u001b[0m\u001b[0;34m\u001b[0m\u001b[0;34m\u001b[0m\u001b[0m\n\u001b[0;32m---> 25\u001b[0;31m     \u001b[0mseries\u001b[0m \u001b[0;34m=\u001b[0m \u001b[0mdf_pip_batch\u001b[0m\u001b[0;34m.\u001b[0m\u001b[0mtoPandas\u001b[0m\u001b[0;34m(\u001b[0m\u001b[0;34m)\u001b[0m\u001b[0;34m[\u001b[0m\u001b[0;34m'features'\u001b[0m\u001b[0;34m]\u001b[0m\u001b[0;34m.\u001b[0m\u001b[0mapply\u001b[0m\u001b[0;34m(\u001b[0m\u001b[0;32mlambda\u001b[0m \u001b[0mx\u001b[0m \u001b[0;34m:\u001b[0m \u001b[0mnp\u001b[0m\u001b[0;34m.\u001b[0m\u001b[0marray\u001b[0m\u001b[0;34m(\u001b[0m\u001b[0mx\u001b[0m\u001b[0;34m.\u001b[0m\u001b[0mtoArray\u001b[0m\u001b[0;34m(\u001b[0m\u001b[0;34m)\u001b[0m\u001b[0;34m)\u001b[0m\u001b[0;34m)\u001b[0m\u001b[0;34m.\u001b[0m\u001b[0mas_matrix\u001b[0m\u001b[0;34m(\u001b[0m\u001b[0;34m)\u001b[0m\u001b[0;34m.\u001b[0m\u001b[0mreshape\u001b[0m\u001b[0;34m(\u001b[0m\u001b[0;34m-\u001b[0m\u001b[0;36m1\u001b[0m\u001b[0;34m,\u001b[0m\u001b[0;36m1\u001b[0m\u001b[0;34m)\u001b[0m\u001b[0;34m\u001b[0m\u001b[0m\n\u001b[0m\u001b[1;32m     26\u001b[0m     \u001b[0mX\u001b[0m \u001b[0;34m=\u001b[0m \u001b[0mnp\u001b[0m\u001b[0;34m.\u001b[0m\u001b[0mapply_along_axis\u001b[0m\u001b[0;34m(\u001b[0m\u001b[0;32mlambda\u001b[0m \u001b[0mx\u001b[0m \u001b[0;34m:\u001b[0m \u001b[0mx\u001b[0m\u001b[0;34m[\u001b[0m\u001b[0;36m0\u001b[0m\u001b[0;34m]\u001b[0m\u001b[0;34m,\u001b[0m \u001b[0;36m1\u001b[0m\u001b[0;34m,\u001b[0m \u001b[0mseries\u001b[0m\u001b[0;34m)\u001b[0m\u001b[0;34m\u001b[0m\u001b[0m\n\u001b[1;32m     27\u001b[0m     \u001b[0my_labels\u001b[0m \u001b[0;34m=\u001b[0m  \u001b[0mnp\u001b[0m\u001b[0;34m.\u001b[0m\u001b[0marray\u001b[0m\u001b[0;34m(\u001b[0m\u001b[0mlabels_batch\u001b[0m\u001b[0;34m)\u001b[0m\u001b[0;34m\u001b[0m\u001b[0m\n",
      "\u001b[0;32m/Applications/spark-2.3.2-bin-hadoop2.7/python/pyspark/sql/dataframe.py\u001b[0m in \u001b[0;36mtoPandas\u001b[0;34m(self)\u001b[0m\n\u001b[1;32m   1966\u001b[0m                 \u001b[0;32mraise\u001b[0m \u001b[0mRuntimeError\u001b[0m\u001b[0;34m(\u001b[0m\u001b[0;34m\"%s\\n%s\"\u001b[0m \u001b[0;34m%\u001b[0m \u001b[0;34m(\u001b[0m\u001b[0m_exception_message\u001b[0m\u001b[0;34m(\u001b[0m\u001b[0me\u001b[0m\u001b[0;34m)\u001b[0m\u001b[0;34m,\u001b[0m \u001b[0mmsg\u001b[0m\u001b[0;34m)\u001b[0m\u001b[0;34m)\u001b[0m\u001b[0;34m\u001b[0m\u001b[0m\n\u001b[1;32m   1967\u001b[0m         \u001b[0;32melse\u001b[0m\u001b[0;34m:\u001b[0m\u001b[0;34m\u001b[0m\u001b[0m\n\u001b[0;32m-> 1968\u001b[0;31m             \u001b[0mpdf\u001b[0m \u001b[0;34m=\u001b[0m \u001b[0mpd\u001b[0m\u001b[0;34m.\u001b[0m\u001b[0mDataFrame\u001b[0m\u001b[0;34m.\u001b[0m\u001b[0mfrom_records\u001b[0m\u001b[0;34m(\u001b[0m\u001b[0mself\u001b[0m\u001b[0;34m.\u001b[0m\u001b[0mcollect\u001b[0m\u001b[0;34m(\u001b[0m\u001b[0;34m)\u001b[0m\u001b[0;34m,\u001b[0m \u001b[0mcolumns\u001b[0m\u001b[0;34m=\u001b[0m\u001b[0mself\u001b[0m\u001b[0;34m.\u001b[0m\u001b[0mcolumns\u001b[0m\u001b[0;34m)\u001b[0m\u001b[0;34m\u001b[0m\u001b[0m\n\u001b[0m\u001b[1;32m   1969\u001b[0m \u001b[0;34m\u001b[0m\u001b[0m\n\u001b[1;32m   1970\u001b[0m             \u001b[0mdtype\u001b[0m \u001b[0;34m=\u001b[0m \u001b[0;34m{\u001b[0m\u001b[0;34m}\u001b[0m\u001b[0;34m\u001b[0m\u001b[0m\n",
      "\u001b[0;32m/Applications/spark-2.3.2-bin-hadoop2.7/python/pyspark/sql/dataframe.py\u001b[0m in \u001b[0;36mcollect\u001b[0;34m(self)\u001b[0m\n\u001b[1;32m    464\u001b[0m         \"\"\"\n\u001b[1;32m    465\u001b[0m         \u001b[0;32mwith\u001b[0m \u001b[0mSCCallSiteSync\u001b[0m\u001b[0;34m(\u001b[0m\u001b[0mself\u001b[0m\u001b[0;34m.\u001b[0m\u001b[0m_sc\u001b[0m\u001b[0;34m)\u001b[0m \u001b[0;32mas\u001b[0m \u001b[0mcss\u001b[0m\u001b[0;34m:\u001b[0m\u001b[0;34m\u001b[0m\u001b[0m\n\u001b[0;32m--> 466\u001b[0;31m             \u001b[0msock_info\u001b[0m \u001b[0;34m=\u001b[0m \u001b[0mself\u001b[0m\u001b[0;34m.\u001b[0m\u001b[0m_jdf\u001b[0m\u001b[0;34m.\u001b[0m\u001b[0mcollectToPython\u001b[0m\u001b[0;34m(\u001b[0m\u001b[0;34m)\u001b[0m\u001b[0;34m\u001b[0m\u001b[0m\n\u001b[0m\u001b[1;32m    467\u001b[0m         \u001b[0;32mreturn\u001b[0m \u001b[0mlist\u001b[0m\u001b[0;34m(\u001b[0m\u001b[0m_load_from_socket\u001b[0m\u001b[0;34m(\u001b[0m\u001b[0msock_info\u001b[0m\u001b[0;34m,\u001b[0m \u001b[0mBatchedSerializer\u001b[0m\u001b[0;34m(\u001b[0m\u001b[0mPickleSerializer\u001b[0m\u001b[0;34m(\u001b[0m\u001b[0;34m)\u001b[0m\u001b[0;34m)\u001b[0m\u001b[0;34m)\u001b[0m\u001b[0;34m)\u001b[0m\u001b[0;34m\u001b[0m\u001b[0m\n\u001b[1;32m    468\u001b[0m \u001b[0;34m\u001b[0m\u001b[0m\n",
      "\u001b[0;32m/Applications/spark-2.3.2-bin-hadoop2.7/python/lib/py4j-0.10.7-src.zip/py4j/java_gateway.py\u001b[0m in \u001b[0;36m__call__\u001b[0;34m(self, *args)\u001b[0m\n\u001b[1;32m   1255\u001b[0m         \u001b[0manswer\u001b[0m \u001b[0;34m=\u001b[0m \u001b[0mself\u001b[0m\u001b[0;34m.\u001b[0m\u001b[0mgateway_client\u001b[0m\u001b[0;34m.\u001b[0m\u001b[0msend_command\u001b[0m\u001b[0;34m(\u001b[0m\u001b[0mcommand\u001b[0m\u001b[0;34m)\u001b[0m\u001b[0;34m\u001b[0m\u001b[0m\n\u001b[1;32m   1256\u001b[0m         return_value = get_return_value(\n\u001b[0;32m-> 1257\u001b[0;31m             answer, self.gateway_client, self.target_id, self.name)\n\u001b[0m\u001b[1;32m   1258\u001b[0m \u001b[0;34m\u001b[0m\u001b[0m\n\u001b[1;32m   1259\u001b[0m         \u001b[0;32mfor\u001b[0m \u001b[0mtemp_arg\u001b[0m \u001b[0;32min\u001b[0m \u001b[0mtemp_args\u001b[0m\u001b[0;34m:\u001b[0m\u001b[0;34m\u001b[0m\u001b[0m\n",
      "\u001b[0;32m/Applications/spark-2.3.2-bin-hadoop2.7/python/pyspark/sql/utils.py\u001b[0m in \u001b[0;36mdeco\u001b[0;34m(*a, **kw)\u001b[0m\n\u001b[1;32m     61\u001b[0m     \u001b[0;32mdef\u001b[0m \u001b[0mdeco\u001b[0m\u001b[0;34m(\u001b[0m\u001b[0;34m*\u001b[0m\u001b[0ma\u001b[0m\u001b[0;34m,\u001b[0m \u001b[0;34m**\u001b[0m\u001b[0mkw\u001b[0m\u001b[0;34m)\u001b[0m\u001b[0;34m:\u001b[0m\u001b[0;34m\u001b[0m\u001b[0m\n\u001b[1;32m     62\u001b[0m         \u001b[0;32mtry\u001b[0m\u001b[0;34m:\u001b[0m\u001b[0;34m\u001b[0m\u001b[0m\n\u001b[0;32m---> 63\u001b[0;31m             \u001b[0;32mreturn\u001b[0m \u001b[0mf\u001b[0m\u001b[0;34m(\u001b[0m\u001b[0;34m*\u001b[0m\u001b[0ma\u001b[0m\u001b[0;34m,\u001b[0m \u001b[0;34m**\u001b[0m\u001b[0mkw\u001b[0m\u001b[0;34m)\u001b[0m\u001b[0;34m\u001b[0m\u001b[0m\n\u001b[0m\u001b[1;32m     64\u001b[0m         \u001b[0;32mexcept\u001b[0m \u001b[0mpy4j\u001b[0m\u001b[0;34m.\u001b[0m\u001b[0mprotocol\u001b[0m\u001b[0;34m.\u001b[0m\u001b[0mPy4JJavaError\u001b[0m \u001b[0;32mas\u001b[0m \u001b[0me\u001b[0m\u001b[0;34m:\u001b[0m\u001b[0;34m\u001b[0m\u001b[0m\n\u001b[1;32m     65\u001b[0m             \u001b[0ms\u001b[0m \u001b[0;34m=\u001b[0m \u001b[0me\u001b[0m\u001b[0;34m.\u001b[0m\u001b[0mjava_exception\u001b[0m\u001b[0;34m.\u001b[0m\u001b[0mtoString\u001b[0m\u001b[0;34m(\u001b[0m\u001b[0;34m)\u001b[0m\u001b[0;34m\u001b[0m\u001b[0m\n",
      "\u001b[0;32m/Applications/spark-2.3.2-bin-hadoop2.7/python/lib/py4j-0.10.7-src.zip/py4j/protocol.py\u001b[0m in \u001b[0;36mget_return_value\u001b[0;34m(answer, gateway_client, target_id, name)\u001b[0m\n\u001b[1;32m    326\u001b[0m                 raise Py4JJavaError(\n\u001b[1;32m    327\u001b[0m                     \u001b[0;34m\"An error occurred while calling {0}{1}{2}.\\n\"\u001b[0m\u001b[0;34m.\u001b[0m\u001b[0;34m\u001b[0m\u001b[0m\n\u001b[0;32m--> 328\u001b[0;31m                     format(target_id, \".\", name), value)\n\u001b[0m\u001b[1;32m    329\u001b[0m             \u001b[0;32melse\u001b[0m\u001b[0;34m:\u001b[0m\u001b[0;34m\u001b[0m\u001b[0m\n\u001b[1;32m    330\u001b[0m                 raise Py4JError(\n",
      "\u001b[0;31mPy4JJavaError\u001b[0m: An error occurred while calling o15746.collectToPython.\n: org.apache.spark.SparkException: Job aborted due to stage failure: Task 0 in stage 1397.0 failed 1 times, most recent failure: Lost task 0.0 in stage 1397.0 (TID 7206, localhost, executor driver): java.net.SocketException: Socket is closed\n\tat java.net.Socket.getInputStream(Socket.java:903)\n\tat org.apache.spark.api.python.BasePythonRunner.compute(PythonRunner.scala:109)\n\tat org.apache.spark.api.python.PythonRDD.compute(PythonRDD.scala:67)\n\tat org.apache.spark.rdd.RDD.computeOrReadCheckpoint(RDD.scala:324)\n\tat org.apache.spark.rdd.RDD.iterator(RDD.scala:288)\n\tat org.apache.spark.rdd.MapPartitionsRDD.compute(MapPartitionsRDD.scala:49)\n\tat org.apache.spark.rdd.RDD.computeOrReadCheckpoint(RDD.scala:324)\n\tat org.apache.spark.rdd.RDD.iterator(RDD.scala:288)\n\tat org.apache.spark.rdd.MapPartitionsRDD.compute(MapPartitionsRDD.scala:49)\n\tat org.apache.spark.rdd.RDD.computeOrReadCheckpoint(RDD.scala:324)\n\tat org.apache.spark.rdd.RDD.iterator(RDD.scala:288)\n\tat org.apache.spark.rdd.MapPartitionsRDD.compute(MapPartitionsRDD.scala:49)\n\tat org.apache.spark.rdd.RDD.computeOrReadCheckpoint(RDD.scala:324)\n\tat org.apache.spark.rdd.RDD.iterator(RDD.scala:288)\n\tat org.apache.spark.rdd.MapPartitionsRDD.compute(MapPartitionsRDD.scala:49)\n\tat org.apache.spark.rdd.RDD.computeOrReadCheckpoint(RDD.scala:324)\n\tat org.apache.spark.rdd.RDD.iterator(RDD.scala:288)\n\tat org.apache.spark.rdd.MapPartitionsRDD.compute(MapPartitionsRDD.scala:49)\n\tat org.apache.spark.rdd.RDD.computeOrReadCheckpoint(RDD.scala:324)\n\tat org.apache.spark.rdd.RDD.iterator(RDD.scala:288)\n\tat org.apache.spark.rdd.MapPartitionsRDD.compute(MapPartitionsRDD.scala:49)\n\tat org.apache.spark.rdd.RDD.computeOrReadCheckpoint(RDD.scala:324)\n\tat org.apache.spark.rdd.RDD.iterator(RDD.scala:288)\n\tat org.apache.spark.scheduler.ResultTask.runTask(ResultTask.scala:87)\n\tat org.apache.spark.scheduler.Task.run(Task.scala:109)\n\tat org.apache.spark.executor.Executor$TaskRunner.run(Executor.scala:345)\n\tat java.util.concurrent.ThreadPoolExecutor.runWorker(ThreadPoolExecutor.java:1142)\n\tat java.util.concurrent.ThreadPoolExecutor$Worker.run(ThreadPoolExecutor.java:617)\n\tat java.lang.Thread.run(Thread.java:748)\n\nDriver stacktrace:\n\tat org.apache.spark.scheduler.DAGScheduler.org$apache$spark$scheduler$DAGScheduler$$failJobAndIndependentStages(DAGScheduler.scala:1651)\n\tat org.apache.spark.scheduler.DAGScheduler$$anonfun$abortStage$1.apply(DAGScheduler.scala:1639)\n\tat org.apache.spark.scheduler.DAGScheduler$$anonfun$abortStage$1.apply(DAGScheduler.scala:1638)\n\tat scala.collection.mutable.ResizableArray$class.foreach(ResizableArray.scala:59)\n\tat scala.collection.mutable.ArrayBuffer.foreach(ArrayBuffer.scala:48)\n\tat org.apache.spark.scheduler.DAGScheduler.abortStage(DAGScheduler.scala:1638)\n\tat org.apache.spark.scheduler.DAGScheduler$$anonfun$handleTaskSetFailed$1.apply(DAGScheduler.scala:831)\n\tat org.apache.spark.scheduler.DAGScheduler$$anonfun$handleTaskSetFailed$1.apply(DAGScheduler.scala:831)\n\tat scala.Option.foreach(Option.scala:257)\n\tat org.apache.spark.scheduler.DAGScheduler.handleTaskSetFailed(DAGScheduler.scala:831)\n\tat org.apache.spark.scheduler.DAGSchedulerEventProcessLoop.doOnReceive(DAGScheduler.scala:1872)\n\tat org.apache.spark.scheduler.DAGSchedulerEventProcessLoop.onReceive(DAGScheduler.scala:1821)\n\tat org.apache.spark.scheduler.DAGSchedulerEventProcessLoop.onReceive(DAGScheduler.scala:1810)\n\tat org.apache.spark.util.EventLoop$$anon$1.run(EventLoop.scala:48)\n\tat org.apache.spark.scheduler.DAGScheduler.runJob(DAGScheduler.scala:642)\n\tat org.apache.spark.SparkContext.runJob(SparkContext.scala:2034)\n\tat org.apache.spark.SparkContext.runJob(SparkContext.scala:2055)\n\tat org.apache.spark.SparkContext.runJob(SparkContext.scala:2074)\n\tat org.apache.spark.SparkContext.runJob(SparkContext.scala:2099)\n\tat org.apache.spark.rdd.RDD$$anonfun$collect$1.apply(RDD.scala:945)\n\tat org.apache.spark.rdd.RDDOperationScope$.withScope(RDDOperationScope.scala:151)\n\tat org.apache.spark.rdd.RDDOperationScope$.withScope(RDDOperationScope.scala:112)\n\tat org.apache.spark.rdd.RDD.withScope(RDD.scala:363)\n\tat org.apache.spark.rdd.RDD.collect(RDD.scala:944)\n\tat org.apache.spark.sql.execution.SparkPlan.executeCollect(SparkPlan.scala:297)\n\tat org.apache.spark.sql.Dataset$$anonfun$collectToPython$1.apply(Dataset.scala:3200)\n\tat org.apache.spark.sql.Dataset$$anonfun$collectToPython$1.apply(Dataset.scala:3197)\n\tat org.apache.spark.sql.Dataset$$anonfun$52.apply(Dataset.scala:3259)\n\tat org.apache.spark.sql.execution.SQLExecution$.withNewExecutionId(SQLExecution.scala:77)\n\tat org.apache.spark.sql.Dataset.withAction(Dataset.scala:3258)\n\tat org.apache.spark.sql.Dataset.collectToPython(Dataset.scala:3197)\n\tat sun.reflect.NativeMethodAccessorImpl.invoke0(Native Method)\n\tat sun.reflect.NativeMethodAccessorImpl.invoke(NativeMethodAccessorImpl.java:62)\n\tat sun.reflect.DelegatingMethodAccessorImpl.invoke(DelegatingMethodAccessorImpl.java:43)\n\tat java.lang.reflect.Method.invoke(Method.java:498)\n\tat py4j.reflection.MethodInvoker.invoke(MethodInvoker.java:244)\n\tat py4j.reflection.ReflectionEngine.invoke(ReflectionEngine.java:357)\n\tat py4j.Gateway.invoke(Gateway.java:282)\n\tat py4j.commands.AbstractCommand.invokeMethod(AbstractCommand.java:132)\n\tat py4j.commands.CallCommand.execute(CallCommand.java:79)\n\tat py4j.GatewayConnection.run(GatewayConnection.java:238)\n\tat java.lang.Thread.run(Thread.java:748)\nCaused by: java.net.SocketException: Socket is closed\n\tat java.net.Socket.getInputStream(Socket.java:903)\n\tat org.apache.spark.api.python.BasePythonRunner.compute(PythonRunner.scala:109)\n\tat org.apache.spark.api.python.PythonRDD.compute(PythonRDD.scala:67)\n\tat org.apache.spark.rdd.RDD.computeOrReadCheckpoint(RDD.scala:324)\n\tat org.apache.spark.rdd.RDD.iterator(RDD.scala:288)\n\tat org.apache.spark.rdd.MapPartitionsRDD.compute(MapPartitionsRDD.scala:49)\n\tat org.apache.spark.rdd.RDD.computeOrReadCheckpoint(RDD.scala:324)\n\tat org.apache.spark.rdd.RDD.iterator(RDD.scala:288)\n\tat org.apache.spark.rdd.MapPartitionsRDD.compute(MapPartitionsRDD.scala:49)\n\tat org.apache.spark.rdd.RDD.computeOrReadCheckpoint(RDD.scala:324)\n\tat org.apache.spark.rdd.RDD.iterator(RDD.scala:288)\n\tat org.apache.spark.rdd.MapPartitionsRDD.compute(MapPartitionsRDD.scala:49)\n\tat org.apache.spark.rdd.RDD.computeOrReadCheckpoint(RDD.scala:324)\n\tat org.apache.spark.rdd.RDD.iterator(RDD.scala:288)\n\tat org.apache.spark.rdd.MapPartitionsRDD.compute(MapPartitionsRDD.scala:49)\n\tat org.apache.spark.rdd.RDD.computeOrReadCheckpoint(RDD.scala:324)\n\tat org.apache.spark.rdd.RDD.iterator(RDD.scala:288)\n\tat org.apache.spark.rdd.MapPartitionsRDD.compute(MapPartitionsRDD.scala:49)\n\tat org.apache.spark.rdd.RDD.computeOrReadCheckpoint(RDD.scala:324)\n\tat org.apache.spark.rdd.RDD.iterator(RDD.scala:288)\n\tat org.apache.spark.rdd.MapPartitionsRDD.compute(MapPartitionsRDD.scala:49)\n\tat org.apache.spark.rdd.RDD.computeOrReadCheckpoint(RDD.scala:324)\n\tat org.apache.spark.rdd.RDD.iterator(RDD.scala:288)\n\tat org.apache.spark.scheduler.ResultTask.runTask(ResultTask.scala:87)\n\tat org.apache.spark.scheduler.Task.run(Task.scala:109)\n\tat org.apache.spark.executor.Executor$TaskRunner.run(Executor.scala:345)\n\tat java.util.concurrent.ThreadPoolExecutor.runWorker(ThreadPoolExecutor.java:1142)\n\tat java.util.concurrent.ThreadPoolExecutor$Worker.run(ThreadPoolExecutor.java:617)\n\t... 1 more\n"
     ]
    }
   ],
   "source": [
    "from sklearn.linear_model import SGDClassifier\n",
    "import numpy as np\n",
    "from scipy.sparse.csr import csr_matrix\n",
    "\n",
    "clf = SGDClassifier(loss=\"log\", penalty=\"l2\", max_iter=5, shuffle=True)\n",
    "\n",
    "# Get the X and y labels.\n",
    "def generate_X_y_labels(size):\n",
    "    data_batch, labels_batch = get_mini_batch(data_stream, size)\n",
    "    \n",
    "    if not data_batch: return np.empty(), np.empty()\n",
    "    \n",
    "    df_batch = spark.createDataFrame(data_batch, ('id', 'text'))\n",
    "\n",
    "    # Data cleansing.\n",
    "    df_batch_clean = transform_html_clean(df_batch, 'textclean')\n",
    "    df_training_tmp = df_batch_clean.withColumnRenamed('reviewpolarity', 'label')\n",
    "\n",
    "    # Run the tokenizer and remover pipeline.\n",
    "    m_pip = pipeline.fit(df_training_tmp)\n",
    "    df_pip_batch = m_pip.transform(df_training_tmp)\n",
    "    # Update the SGD regression weights.\n",
    "\n",
    "    # Let's get the right shape for the SparseVector data into numpy arrays.\n",
    "    series = df_pip_batch.toPandas()['features'].apply(lambda x : np.array(x.toArray())).as_matrix().reshape(-1,1)\n",
    "    X = np.apply_along_axis(lambda x : x[0], 1, series)\n",
    "    y_labels =  np.array(labels_batch)\n",
    "\n",
    "    return X, y_labels\n",
    "\n",
    "classes = np.array([0, 1])\n",
    "\n",
    "# print(X[:])\n",
    "# print(y_labels[1:10])\n",
    "\n",
    "# Simulating a streaming\n",
    "data_stream = stream_doc()\n",
    "\n",
    "# Train the 45000 data from the entire data set.\n",
    "for i in range(45):\n",
    "    print(\"range %i\" % i)\n",
    "    X_train, y_labels_train = generate_X_y_labels(1000)\n",
    "    if not len(X_train): break\n",
    "        \n",
    "    model_sgd = clf.partial_fit(X_train, y_labels_train, classes=classes)\n",
    "\n",
    "# Test on the last 5000 entries.\n",
    "X_test, y_labels_test = generate_X_y_labels(5000)\n",
    "\n",
    "print(X_test)\n",
    "if len(X_test):\n",
    "    print(\"\\nscore: %.3f\" % model_sgd.score(X_test, y_labels_test))\n",
    "else:\n",
    "    print('No data')\n",
    "\n",
    "# Train the model."
   ]
  }
 ],
 "metadata": {
  "kernelspec": {
   "display_name": "PySpark V2.3.2 (Local)",
   "language": "python",
   "name": "pyspark-2.3.2-local"
  },
  "language_info": {
   "codemirror_mode": {
    "name": "ipython",
    "version": 3
   },
   "file_extension": ".py",
   "mimetype": "text/x-python",
   "name": "python",
   "nbconvert_exporter": "python",
   "pygments_lexer": "ipython3",
   "version": "3.6.6"
  }
 },
 "nbformat": 4,
 "nbformat_minor": 2
}
