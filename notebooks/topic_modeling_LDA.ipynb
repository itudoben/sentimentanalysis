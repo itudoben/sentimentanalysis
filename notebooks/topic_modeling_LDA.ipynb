{
 "cells": [
  {
   "cell_type": "markdown",
   "metadata": {},
   "source": [
    "# Topic Modeling using Latent Dirichlet Allocation (Clustering)"
   ]
  },
  {
   "cell_type": "markdown",
   "metadata": {},
   "source": [
    "# Introduction\n",
    "This notebook is using [Stanford IMDb Review dataset](http://ai.stanford.edu/~amaas/data/sentiment \"Stanford IMDb Large Movie Review Dataset\").\n",
    "One must download it, install it locally and set up the variable 'base_path' below to the FS path of the dataset.\n",
    "\n",
    "This notebook is about topic modeling using a technique called Latent Dirichlet Allocation (LDA)."
   ]
  },
  {
   "cell_type": "markdown",
   "metadata": {},
   "source": [
    "# Data set Loading"
   ]
  },
  {
   "cell_type": "code",
   "execution_count": 15,
   "metadata": {},
   "outputs": [
    {
     "name": "stdout",
     "output_type": "stream",
     "text": [
      "['README', 'aclImdb_100000.csv', 'aclImdb_100000_raw.parquet', 'aclImdb_10000_raw.parquet', 'aclImdb_1000_raw.parquet', 'aclImdb_100_raw.parquet', 'aclImdb_20000_raw.parquet', 'aclImdb_2000_raw.parquet', 'aclImdb_200_raw.parquet', 'aclImdb_210_raw.parquet', 'aclImdb_211_raw.parquet', 'aclImdb_250.csv', 'aclImdb_250_raw.parquet', 'aclImdb_251_raw.parquet', 'aclImdb_252_raw.parquet', 'aclImdb_300_raw.parquet', 'aclImdb_301_raw.parquet', 'aclImdb_50000_raw.parquet', 'imdb.vocab', 'imdbEr.txt', 'test', 'train']\n"
     ]
    }
   ],
   "source": [
    "# Set the base of the data path where folders test/neg, train/pos, etc, live.\n",
    "base_path = \"../../data/aclImdb\"\n",
    "\n",
    "# The folders where to look for the reviews.\n",
    "data_sets = ['test', 'train']\n",
    "sa_dir_names = ['neg', 'pos']\n",
    "\n",
    "# List the content of the data path for the sake of checking the data set folders.\n",
    "files = !ls {base_path}\n",
    "print(files)"
   ]
  },
  {
   "cell_type": "markdown",
   "metadata": {},
   "source": [
    "# Data Prep\n",
    "\n",
    "LDA works on numbers and not on text. The data has to be converted into a feature vector representation for LDA to be able to compute metrics. The metrics will then serve to define clusters and group observations together."
   ]
  },
  {
   "cell_type": "code",
   "execution_count": 16,
   "metadata": {},
   "outputs": [],
   "source": [
    "# Set up Python system path to find our modules.\n",
    "import os\n",
    "import sys\n",
    "module_path = os.path.abspath(os.path.join('../src'))\n",
    "if module_path not in sys.path:\n",
    "    sys.path.append(module_path)\n",
    "\n",
    "# Import our modules.\n",
    "import file_loader as fl\n",
    "\n",
    "# Add the file to SparkContext for the executor to find it.\n",
    "sc.addPyFile('../src/file_loader.py')"
   ]
  },
  {
   "cell_type": "code",
   "execution_count": 17,
   "metadata": {},
   "outputs": [],
   "source": [
    "# Load the data in a parquet file.\n",
    "file_parquet, _ = fl.load_data(base_path, 301, spark)"
   ]
  },
  {
   "cell_type": "code",
   "execution_count": 18,
   "metadata": {},
   "outputs": [
    {
     "name": "stdout",
     "output_type": "stream",
     "text": [
      "\u001b[34m../../data/aclImdb/aclImdb_100000_raw.parquet\u001b[m\u001b[m\n",
      "\u001b[34m../../data/aclImdb/aclImdb_10000_raw.parquet\u001b[m\u001b[m\n",
      "\u001b[34m../../data/aclImdb/aclImdb_1000_raw.parquet\u001b[m\u001b[m\n",
      "\u001b[34m../../data/aclImdb/aclImdb_100_raw.parquet\u001b[m\u001b[m\n",
      "\u001b[34m../../data/aclImdb/aclImdb_20000_raw.parquet\u001b[m\u001b[m\n",
      "\u001b[34m../../data/aclImdb/aclImdb_2000_raw.parquet\u001b[m\u001b[m\n",
      "\u001b[34m../../data/aclImdb/aclImdb_200_raw.parquet\u001b[m\u001b[m\n",
      "\u001b[34m../../data/aclImdb/aclImdb_210_raw.parquet\u001b[m\u001b[m\n",
      "\u001b[34m../../data/aclImdb/aclImdb_211_raw.parquet\u001b[m\u001b[m\n",
      "\u001b[34m../../data/aclImdb/aclImdb_250_raw.parquet\u001b[m\u001b[m\n",
      "\u001b[34m../../data/aclImdb/aclImdb_251_raw.parquet\u001b[m\u001b[m\n",
      "\u001b[34m../../data/aclImdb/aclImdb_252_raw.parquet\u001b[m\u001b[m\n",
      "\u001b[34m../../data/aclImdb/aclImdb_300_raw.parquet\u001b[m\u001b[m\n",
      "\u001b[34m../../data/aclImdb/aclImdb_301_raw.parquet\u001b[m\u001b[m\n",
      "\u001b[34m../../data/aclImdb/aclImdb_50000_raw.parquet\u001b[m\u001b[m\n"
     ]
    }
   ],
   "source": [
    "!ls -d {base_path}/*.parquet"
   ]
  },
  {
   "cell_type": "code",
   "execution_count": 19,
   "metadata": {},
   "outputs": [
    {
     "data": {
      "text/plain": [
       "'../../data/aclImdb/aclImdb_301_raw.parquet'"
      ]
     },
     "execution_count": 19,
     "metadata": {},
     "output_type": "execute_result"
    }
   ],
   "source": [
    "file_parquet"
   ]
  },
  {
   "cell_type": "code",
   "execution_count": null,
   "metadata": {},
   "outputs": [],
   "source": [
    "# Read the parquet file into a data frame.\n",
    "df_pqt = spark.read.parquet(file_parquet)\n",
    "\n",
    "# As needed.\n",
    "# df_pqt = df_pqt.drop('words')\n",
    "\n",
    "# Showing some observations (entries).\n",
    "df_pqt.persist()\n",
    "df_pqt.show()"
   ]
  },
  {
   "cell_type": "markdown",
   "metadata": {},
   "source": [
    "# Text Cleansing"
   ]
  },
  {
   "cell_type": "code",
   "execution_count": 10,
   "metadata": {},
   "outputs": [
    {
     "data": {
      "text/plain": [
       "(3471,\n",
       " 3377,\n",
       " 'Sophisticated sex comedies are always difficult to pull off. Look at the films of Blake Edwards, who is arguably the master of the genre, and you will find just as many misses as hits. For, if a film of this nature ever fails to work, it can never fall back on the tried and true toilet humor of a teen sex comedy [i.e. \"American Pie\"], or warm the audience with the sentimentality of a romantic comedy [i.e. Julia Roberts\\' entire career]. It can only maintain a push to the end, and hope that the audience can appreciate the almost required irony of it\\'s resolution.<br /><br />Written by husband/wife team Wally Wolodarsky and Maya Forbes, \"Seeing Other People\" opens with engaged couple Ed & Alice [Jay Mohr & Julianne Nicholson] only seconds away from rear-ending the car in front of them. As the frame freezes, we unexpectedly hear the thoughts and fears of both characters. From here on out, we welcome that the story about to unfold will enjoy a point of view from both sexes.<br /><br />Two months shy of their vows, Ed & Alice already look and act like an old married couple. In an early bathroom scene, their actions alone show us just how comfortable they are with each other and how long they have been together. So when the line to propel the plot forward is uttered - expectedly from the least likely of the two - it is as if the very relationship itself is calling for a change, even if it means it\\'s own destruction.<br /><br />Once all the ground rules are set [Ed can not sleep with her mother or, for that matter, Salma Hayek], the two head off in their separate directions in the hope of finding some meaningless sex to strengthen their relationship. At first, everything seems to go as planned as their daily trysts only help to fire up the passion between them. But predictably, as the deeper emotions of regret and jealousy begin to emerge, they soon find themselves growing apart and on the verge of breaking up. All of these actions leading to a resolution you may or may not like - depending on your own degree of cynicism.<br /><br />For a comedy like this, you need a solid cast with supporting characters just as strong as the leads. And director Wolodarsky does not disappoint. Here he has cast two of my favorite actresses as sisters - Julianne Nicholson & Lauren Graham - and allows them to play to their strengths. For Nicholson, who has always reminded me of a young Shirley MacLaine, she brings an air of naivete and vulnerability to Alice even when her actions seems less than so. And as for Graham, an actress who has proven she could outperform an entire Howard Hawks ensemble, she steals every scene she is in with an edgy \"no BS\" persona. <br /><br />As for the guys, Jay Mohr is serviceable here as is Josh Charles. \"Malcolm in the Middle\"\\'s Byron Cranston has to be applauded for taking on a British accent and letting it all hang out. But the real treat here is Andy Richter and his sub-plot involving single mother, Helen Slater. While his scenes almost seem to belong in another movie, they are by far the funniest and his dead panned delivery steals the show.<br /><br />For an independent production, \"Seeing Other People\" has a more personal and introspective feeling - something that would be noticeable absent from a big Hollywood film of this kind. Not to mention that this film also has some genuinely funny moments - unlike, say, most Hollywood comedies in general.<br /><br />Rating [on a 5 star system] : 3 1/2 stars',\n",
       " 'Sophisticated sex comedies are always difficult to pull off. Look at the films of Blake Edwards, who is arguably the master of the genre, and you will find just as many misses as hits. For, if a film of this nature ever fails to work, it can never fall back on the tried and true toilet humor of a teen sex comedy i.e. \"American Pie\", or warm the audience with the sentimentality of a romantic comedy i.e. Julia Roberts\\' entire career. It can only maintain a push to the end, and hope that the audience can appreciate the almost required irony of it\\'s resolution.Written by husband/wife team Wally Wolodarsky and Maya Forbes, \"Seeing Other People\" opens with engaged couple Ed & Alice Jay Mohr & Julianne Nicholson only seconds away from rear-ending the car in front of them. As the frame freezes, we unexpectedly hear the thoughts and fears of both characters. From here on out, we welcome that the story about to unfold will enjoy a point of view from both sexes.Two months shy of their vows, Ed & Alice already look and act like an old married couple. In an early bathroom scene, their actions alone show us just how comfortable they are with each other and how long they have been together. So when the line to propel the plot forward is uttered - expectedly from the least likely of the two - it is as if the very relationship itself is calling for a change, even if it means it\\'s own destruction.Once all the ground rules are set Ed can not sleep with her mother or, for that matter, Salma Hayek, the two head off in their separate directions in the hope of finding some meaningless sex to strengthen their relationship. At first, everything seems to go as planned as their daily trysts only help to fire up the passion between them. But predictably, as the deeper emotions of regret and jealousy begin to emerge, they soon find themselves growing apart and on the verge of breaking up. All of these actions leading to a resolution you may or may not like - depending on your own degree of cynicism.For a comedy like this, you need a solid cast with supporting characters just as strong as the leads. And director Wolodarsky does not disappoint. Here he has cast two of my favorite actresses as sisters - Julianne Nicholson & Lauren Graham - and allows them to play to their strengths. For Nicholson, who has always reminded me of a young Shirley MacLaine, she brings an air of naivete and vulnerability to Alice even when her actions seems less than so. And as for Graham, an actress who has proven she could outperform an entire Howard Hawks ensemble, she steals every scene she is in with an edgy \"no BS\" persona. As for the guys, Jay Mohr is serviceable here as is Josh Charles. \"Malcolm in the Middle\"\\'s Byron Cranston has to be applauded for taking on a British accent and letting it all hang out. But the real treat here is Andy Richter and his sub-plot involving single mother, Helen Slater. While his scenes almost seem to belong in another movie, they are by far the funniest and his dead panned delivery steals the show.For an independent production, \"Seeing Other People\" has a more personal and introspective feeling - something that would be noticeable absent from a big Hollywood film of this kind. Not to mention that this film also has some genuinely funny moments - unlike, say, most Hollywood comedies in general.Rating on a 5 star system : 3 1/2 stars')"
      ]
     },
     "execution_count": 10,
     "metadata": {},
     "output_type": "execute_result"
    }
   ],
   "source": [
    "df_pqt = fl.transform_html_clean(df_pqt, 'textclean')\n",
    "tt = df_pqt.select('text', 'textclean').take(5)\n",
    "i = 4\n",
    "len(tt[i]['text']), len(tt[i]['textclean']), tt[i]['text'], tt[i]['textclean']"
   ]
  }
 ],
 "metadata": {
  "kernelspec": {
   "display_name": "PySpark V2.3.2 (Local)",
   "language": "python",
   "name": "pyspark-2.3.2-local"
  },
  "language_info": {
   "codemirror_mode": {
    "name": "ipython",
    "version": 3
   },
   "file_extension": ".py",
   "mimetype": "text/x-python",
   "name": "python",
   "nbconvert_exporter": "python",
   "pygments_lexer": "ipython3",
   "version": "3.6.6"
  }
 },
 "nbformat": 4,
 "nbformat_minor": 2
}
