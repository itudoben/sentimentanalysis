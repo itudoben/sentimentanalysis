{
 "cells": [
  {
   "cell_type": "markdown",
   "metadata": {},
   "source": [
    "# Topic Modeling using Latent Dirichlet Allocation (Clustering)"
   ]
  },
  {
   "cell_type": "markdown",
   "metadata": {},
   "source": [
    "# Introduction\n",
    "This notebook is using [Stanford IMDb Review dataset](http://ai.stanford.edu/~amaas/data/sentiment \"Stanford IMDb Large Movie Review Dataset\").\n",
    "One must download it, install it locally and set up the variable 'base_path' below to the FS path of the dataset.\n",
    "\n",
    "This notebook is about topic modeling using a technique called Latent Dirichlet Allocation (LDA)."
   ]
  },
  {
   "cell_type": "markdown",
   "metadata": {},
   "source": [
    "# Data set Loading"
   ]
  },
  {
   "cell_type": "code",
   "execution_count": 1,
   "metadata": {},
   "outputs": [
    {
     "name": "stdout",
     "output_type": "stream",
     "text": [
      "['README', 'aclImdb_100000.csv', 'aclImdb_100000_raw.parquet', 'aclImdb_10000_raw.parquet', 'aclImdb_1000_raw.parquet', 'aclImdb_100_raw.parquet', 'aclImdb_20000_raw.parquet', 'aclImdb_2000_raw.parquet', 'aclImdb_200_raw.parquet', 'aclImdb_210_raw.parquet', 'aclImdb_211_raw.parquet', 'aclImdb_250_raw.parquet', 'aclImdb_251_raw.parquet', 'aclImdb_252_raw.parquet', 'aclImdb_300_raw.parquet', 'aclImdb_50000_raw.parquet', 'imdb.vocab', 'imdbEr.txt', 'test', 'train']\n"
     ]
    }
   ],
   "source": [
    "# Set the base of the data path where folders test/neg, train/pos, etc, live.\n",
    "base_path = \"../../data/aclImdb\"\n",
    "\n",
    "# The folders where to look for the reviews.\n",
    "data_sets = ['test', 'train']\n",
    "sa_dir_names = ['neg', 'pos']\n",
    "\n",
    "# List the content of the data path for the sake of checking the data set folders.\n",
    "files = !ls {base_path}\n",
    "print(files)"
   ]
  },
  {
   "cell_type": "markdown",
   "metadata": {},
   "source": [
    "# Data Prep\n",
    "\n",
    "LDA works on numbers and not on text. The data has to be converted into a feature vector representation for LDA to be able to compute metrics. The metrics will then serve to define clusters and group observations together."
   ]
  },
  {
   "cell_type": "code",
   "execution_count": 2,
   "metadata": {},
   "outputs": [],
   "source": [
    "# Set up Python system path to find our modules.\n",
    "import os\n",
    "import sys\n",
    "module_path = os.path.abspath(os.path.join('../src'))\n",
    "if module_path not in sys.path:\n",
    "    sys.path.append(module_path)\n",
    "\n",
    "# Import our modules.\n",
    "import file_loader as fl0"
   ]
  },
  {
   "cell_type": "code",
   "execution_count": 3,
   "metadata": {},
   "outputs": [],
   "source": [
    "# Load the data in a parquet file.\n",
    "file_parquet = fl0.load_data(base_path, 301, spark)"
   ]
  },
  {
   "cell_type": "code",
   "execution_count": 4,
   "metadata": {},
   "outputs": [
    {
     "name": "stdout",
     "output_type": "stream",
     "text": [
      "\u001b[34m../../data/aclImdb/aclImdb_100000_raw.parquet\u001b[m\u001b[m\n",
      "\u001b[34m../../data/aclImdb/aclImdb_10000_raw.parquet\u001b[m\u001b[m\n",
      "\u001b[34m../../data/aclImdb/aclImdb_1000_raw.parquet\u001b[m\u001b[m\n",
      "\u001b[34m../../data/aclImdb/aclImdb_100_raw.parquet\u001b[m\u001b[m\n",
      "\u001b[34m../../data/aclImdb/aclImdb_20000_raw.parquet\u001b[m\u001b[m\n",
      "\u001b[34m../../data/aclImdb/aclImdb_2000_raw.parquet\u001b[m\u001b[m\n",
      "\u001b[34m../../data/aclImdb/aclImdb_200_raw.parquet\u001b[m\u001b[m\n",
      "\u001b[34m../../data/aclImdb/aclImdb_210_raw.parquet\u001b[m\u001b[m\n",
      "\u001b[34m../../data/aclImdb/aclImdb_211_raw.parquet\u001b[m\u001b[m\n",
      "\u001b[34m../../data/aclImdb/aclImdb_250_raw.parquet\u001b[m\u001b[m\n",
      "\u001b[34m../../data/aclImdb/aclImdb_251_raw.parquet\u001b[m\u001b[m\n",
      "\u001b[34m../../data/aclImdb/aclImdb_252_raw.parquet\u001b[m\u001b[m\n",
      "\u001b[34m../../data/aclImdb/aclImdb_300_raw.parquet\u001b[m\u001b[m\n",
      "\u001b[34m../../data/aclImdb/aclImdb_301_raw.parquet\u001b[m\u001b[m\n",
      "\u001b[34m../../data/aclImdb/aclImdb_50000_raw.parquet\u001b[m\u001b[m\n"
     ]
    }
   ],
   "source": [
    "!ls -d {base_path}/*.parquet"
   ]
  },
  {
   "cell_type": "code",
   "execution_count": 5,
   "metadata": {},
   "outputs": [
    {
     "data": {
      "text/plain": [
       "'../../data/aclImdb/aclImdb_301_raw.parquet'"
      ]
     },
     "execution_count": 5,
     "metadata": {},
     "output_type": "execute_result"
    }
   ],
   "source": [
    "file_parquet"
   ]
  },
  {
   "cell_type": "code",
   "execution_count": 6,
   "metadata": {},
   "outputs": [
    {
     "name": "stdout",
     "output_type": "stream",
     "text": [
      "+-----------+-----------+----------------+--------+--------------+------------+--------------------+\n",
      "|datasettype|   filename| datetimecreated|reviewid|reviewpolarity|reviewrating|                text|\n",
      "+-----------+-----------+----------------+--------+--------------+------------+--------------------+\n",
      "|       test|10167_9.txt|20181024T155532Z|   10167|             1|           9|A film that tends...|\n",
      "|       test| 903_10.txt|20181024T155532Z|     903|             1|          10|This is a well do...|\n",
      "|       test| 1466_8.txt|20181024T155532Z|    1466|             1|           8|A strange relatio...|\n",
      "|       test| 6176_8.txt|20181024T155532Z|    6176|             1|           8|This is a brillia...|\n",
      "|       test|5124_10.txt|20181024T155532Z|    5124|             1|          10|i read the book b...|\n",
      "|       test|2807_10.txt|20181024T155532Z|    2807|             1|          10|I played Sam (the...|\n",
      "|       test| 4038_9.txt|20181024T155532Z|    4038|             1|           9|\"Snow Queen\" is b...|\n",
      "|       test|10961_9.txt|20181024T155532Z|   10961|             1|           9|Watching John Cas...|\n",
      "|       test| 2835_7.txt|20181024T155532Z|    2835|             1|           7|This is a luminou...|\n",
      "|       test|7695_10.txt|20181024T155532Z|    7695|             1|          10|I was @ 13 yrs of...|\n",
      "|       test| 9919_9.txt|20181024T155532Z|    9919|             1|           9|Title: Opera (198...|\n",
      "|       test|12091_8.txt|20181024T155532Z|   12091|             1|           8|'Crossing the Bri...|\n",
      "|       test|6644_10.txt|20181024T155532Z|    6644|             1|          10|A gruelling watch...|\n",
      "|       test|9491_10.txt|20181024T155532Z|    9491|             1|          10|I bought my first...|\n",
      "|       test|6115_10.txt|20181024T155532Z|    6115|             1|          10|A brilliant film ...|\n",
      "|       test|7422_10.txt|20181024T155532Z|    7422|             1|          10|terry and june in...|\n",
      "|       test| 7655_7.txt|20181024T155532Z|    7655|             1|           7|Latcho Drom, or S...|\n",
      "|       test| 4669_8.txt|20181024T155532Z|    4669|             1|           8|Here's another pl...|\n",
      "|       test| 3590_9.txt|20181024T155532Z|    3590|             1|           9|I admit to being ...|\n",
      "|       test| 4451_9.txt|20181024T155532Z|    4451|             1|           9|This film shows a...|\n",
      "+-----------+-----------+----------------+--------+--------------+------------+--------------------+\n",
      "only showing top 20 rows\n",
      "\n"
     ]
    }
   ],
   "source": [
    "# Read the parquet file into a data frame.\n",
    "df_pqt = spark.read.parquet(file_parquet)\n",
    "\n",
    "# As needed.\n",
    "# df_pqt = df_pqt.drop('words')\n",
    "\n",
    "# Showing some observations (entries).\n",
    "df_pqt.persist()\n",
    "df_pqt.show()"
   ]
  }
 ],
 "metadata": {
  "kernelspec": {
   "display_name": "PySpark V2.3.2 (Local)",
   "language": "python",
   "name": "pyspark-2.3.2-local"
  },
  "language_info": {
   "codemirror_mode": {
    "name": "ipython",
    "version": 3
   },
   "file_extension": ".py",
   "mimetype": "text/x-python",
   "name": "python",
   "nbconvert_exporter": "python",
   "pygments_lexer": "ipython3",
   "version": "3.6.6"
  }
 },
 "nbformat": 4,
 "nbformat_minor": 2
}
